{
 "cells": [
  {
   "cell_type": "markdown",
   "metadata": {
    "colab_type": "text",
    "id": "2pQ1rR0v2_IS"
   },
   "source": [
    "This NB import processed URL data and extracts features from the article text. It then classifies the articles using a saved LSTM and exports a CSV of the results."
   ]
  },
  {
   "cell_type": "code",
   "execution_count": 9,
   "metadata": {
    "colab": {
     "base_uri": "https://localhost:8080/",
     "height": 70
    },
    "colab_type": "code",
    "executionInfo": {
     "elapsed": 4063,
     "status": "ok",
     "timestamp": 1594844478205,
     "user": {
      "displayName": "Carlos Martinez",
      "photoUrl": "",
      "userId": "05600005939339517061"
     },
     "user_tz": 240
    },
    "id": "075GPhK-3keK",
    "outputId": "6c8df674-c31a-4cad-821a-be8462268d20"
   },
   "outputs": [],
   "source": [
    "import pandas as pd\n",
    "import numpy as np\n",
    "import os\n",
    "import operator \n",
    "import re\n",
    "import sys\n",
    "\n",
    "import seaborn as sns\n",
    "from featurefunctions import create_text_column, features"
   ]
  },
  {
   "cell_type": "markdown",
   "metadata": {
    "colab_type": "text",
    "id": "1-4OU-iM3PTU"
   },
   "source": [
    "##Feature Extraction"
   ]
  },
  {
   "cell_type": "code",
   "execution_count": 10,
   "metadata": {
    "colab": {
     "base_uri": "https://localhost:8080/",
     "height": 408
    },
    "colab_type": "code",
    "executionInfo": {
     "elapsed": 7197,
     "status": "ok",
     "timestamp": 1594844481362,
     "user": {
      "displayName": "Carlos Martinez",
      "photoUrl": "",
      "userId": "05600005939339517061"
     },
     "user_tz": 240
    },
    "id": "8GrS_HIs3Tf2",
    "outputId": "37d8d7f4-e7d6-4e04-e6b3-95c193cf5bd7"
   },
   "outputs": [
    {
     "output_type": "execute_result",
     "data": {
      "text/plain": [
       "   Unnamed: 0  Topic_Num  Topic_Perc_Contrib  \\\n",
       "0           0        0.0              0.8609   \n",
       "1           1        1.0              0.8053   \n",
       "2           2        2.0              0.8053   \n",
       "\n",
       "                                            Keywords  \\\n",
       "0  mexico, in, ejemplo, students, favor, pm, miss...   \n",
       "1  zcalo, normalistas, padres, ayotzinapa, famili...   \n",
       "2  da, acto, familias, are, noche, gob, esto, hec...   \n",
       "\n",
       "                                              Text_x  \\\n",
       "0  ['``', 'Ayotzinapa', ',', 'punta', 'iceberg', ...   \n",
       "1  ['Padres', 'normalistas', 'obligaron', 'devolv...   \n",
       "2  ['COPETE', ',', 'ZOQUETE', ',', 'Ayotzinapa', ...   \n",
       "\n",
       "                                          liststring  \\\n",
       "0  ``,Ayotzinapa,,,punta,iceberg,fallido,'',,,opi...   \n",
       "1  Padres,normalistas,obligaron,devolver,producto...   \n",
       "2  COPETE,,,ZOQUETE,,,Ayotzinapa,PAULETTE,,,busca...   \n",
       "\n",
       "                                                 url  \\\n",
       "0  https://twitter.com/AjedrezPolitiko/status/520...   \n",
       "1  https://twitter.com/cb_television/status/52611...   \n",
       "2  https://twitter.com/double_moral/status/520352...   \n",
       "\n",
       "                        date  \\\n",
       "0  2014-10-11 00:00:20+00:00   \n",
       "1  2014-10-25 20:43:49+00:00   \n",
       "2  2014-10-09 23:19:36+00:00   \n",
       "\n",
       "                                             content  \\\n",
       "0  \"Ayotzinapa, la punta del iceberg de un estado...   \n",
       "1  Padres de normalistas los obligaron a devolver...   \n",
       "2  COPETE, ZOQUETE, Ayotzinapa no es PAULETTE, bu...   \n",
       "\n",
       "                                     renderedContent  ...  lang  \\\n",
       "0  \"Ayotzinapa, la punta del iceberg de un estado...  ...    es   \n",
       "1  Padres de normalistas los obligaron a devolver...  ...    es   \n",
       "2  COPETE, ZOQUETE, Ayotzinapa no es PAULETTE, bu...  ...    es   \n",
       "\n",
       "                                              source  \\\n",
       "0  <a href=\"http://www.hootsuite.com\" rel=\"nofoll...   \n",
       "1  <a href=\"http://www.facebook.com/twitter\" rel=...   \n",
       "2  <a href=\"http://twitter.com\" rel=\"nofollow\">Tw...   \n",
       "\n",
       "                         sourceUrl         sourceLabel  media  retweetedTweet  \\\n",
       "0         http://www.hootsuite.com           Hootsuite    NaN             NaN   \n",
       "1  http://www.facebook.com/twitter            Facebook    NaN             NaN   \n",
       "2               http://twitter.com  Twitter Web Client    NaN             NaN   \n",
       "\n",
       "   quotedTweet                                     mentionedUsers  \\\n",
       "0          NaN  [{'username': 'BogusBelgodere', 'displayname':...   \n",
       "1          NaN                                                NaN   \n",
       "2          NaN                                                NaN   \n",
       "\n",
       "                                           proc_text  \\\n",
       "0  \"Ayotzinapa, la punta del iceberg de un estado...   \n",
       "1  Padres de normalistas los obligaron a devolver...   \n",
       "2  COPETE, ZOQUETE, Ayotzinapa no es PAULETTE, bu...   \n",
       "\n",
       "                                              Text_y  \n",
       "0  ['``', 'Ayotzinapa', ',', 'punta', 'iceberg', ...  \n",
       "1  ['Padres', 'normalistas', 'obligaron', 'devolv...  \n",
       "2  ['COPETE', ',', 'ZOQUETE', ',', 'Ayotzinapa', ...  \n",
       "\n",
       "[3 rows x 29 columns]"
      ],
      "text/html": "<div>\n<style scoped>\n    .dataframe tbody tr th:only-of-type {\n        vertical-align: middle;\n    }\n\n    .dataframe tbody tr th {\n        vertical-align: top;\n    }\n\n    .dataframe thead th {\n        text-align: right;\n    }\n</style>\n<table border=\"1\" class=\"dataframe\">\n  <thead>\n    <tr style=\"text-align: right;\">\n      <th></th>\n      <th>Unnamed: 0</th>\n      <th>Topic_Num</th>\n      <th>Topic_Perc_Contrib</th>\n      <th>Keywords</th>\n      <th>Text_x</th>\n      <th>liststring</th>\n      <th>url</th>\n      <th>date</th>\n      <th>content</th>\n      <th>renderedContent</th>\n      <th>...</th>\n      <th>lang</th>\n      <th>source</th>\n      <th>sourceUrl</th>\n      <th>sourceLabel</th>\n      <th>media</th>\n      <th>retweetedTweet</th>\n      <th>quotedTweet</th>\n      <th>mentionedUsers</th>\n      <th>proc_text</th>\n      <th>Text_y</th>\n    </tr>\n  </thead>\n  <tbody>\n    <tr>\n      <th>0</th>\n      <td>0</td>\n      <td>0.0</td>\n      <td>0.8609</td>\n      <td>mexico, in, ejemplo, students, favor, pm, miss...</td>\n      <td>['``', 'Ayotzinapa', ',', 'punta', 'iceberg', ...</td>\n      <td>``,Ayotzinapa,,,punta,iceberg,fallido,'',,,opi...</td>\n      <td>https://twitter.com/AjedrezPolitiko/status/520...</td>\n      <td>2014-10-11 00:00:20+00:00</td>\n      <td>\"Ayotzinapa, la punta del iceberg de un estado...</td>\n      <td>\"Ayotzinapa, la punta del iceberg de un estado...</td>\n      <td>...</td>\n      <td>es</td>\n      <td>&lt;a href=\"http://www.hootsuite.com\" rel=\"nofoll...</td>\n      <td>http://www.hootsuite.com</td>\n      <td>Hootsuite</td>\n      <td>NaN</td>\n      <td>NaN</td>\n      <td>NaN</td>\n      <td>[{'username': 'BogusBelgodere', 'displayname':...</td>\n      <td>\"Ayotzinapa, la punta del iceberg de un estado...</td>\n      <td>['``', 'Ayotzinapa', ',', 'punta', 'iceberg', ...</td>\n    </tr>\n    <tr>\n      <th>1</th>\n      <td>1</td>\n      <td>1.0</td>\n      <td>0.8053</td>\n      <td>zcalo, normalistas, padres, ayotzinapa, famili...</td>\n      <td>['Padres', 'normalistas', 'obligaron', 'devolv...</td>\n      <td>Padres,normalistas,obligaron,devolver,producto...</td>\n      <td>https://twitter.com/cb_television/status/52611...</td>\n      <td>2014-10-25 20:43:49+00:00</td>\n      <td>Padres de normalistas los obligaron a devolver...</td>\n      <td>Padres de normalistas los obligaron a devolver...</td>\n      <td>...</td>\n      <td>es</td>\n      <td>&lt;a href=\"http://www.facebook.com/twitter\" rel=...</td>\n      <td>http://www.facebook.com/twitter</td>\n      <td>Facebook</td>\n      <td>NaN</td>\n      <td>NaN</td>\n      <td>NaN</td>\n      <td>NaN</td>\n      <td>Padres de normalistas los obligaron a devolver...</td>\n      <td>['Padres', 'normalistas', 'obligaron', 'devolv...</td>\n    </tr>\n    <tr>\n      <th>2</th>\n      <td>2</td>\n      <td>2.0</td>\n      <td>0.8053</td>\n      <td>da, acto, familias, are, noche, gob, esto, hec...</td>\n      <td>['COPETE', ',', 'ZOQUETE', ',', 'Ayotzinapa', ...</td>\n      <td>COPETE,,,ZOQUETE,,,Ayotzinapa,PAULETTE,,,busca...</td>\n      <td>https://twitter.com/double_moral/status/520352...</td>\n      <td>2014-10-09 23:19:36+00:00</td>\n      <td>COPETE, ZOQUETE, Ayotzinapa no es PAULETTE, bu...</td>\n      <td>COPETE, ZOQUETE, Ayotzinapa no es PAULETTE, bu...</td>\n      <td>...</td>\n      <td>es</td>\n      <td>&lt;a href=\"http://twitter.com\" rel=\"nofollow\"&gt;Tw...</td>\n      <td>http://twitter.com</td>\n      <td>Twitter Web Client</td>\n      <td>NaN</td>\n      <td>NaN</td>\n      <td>NaN</td>\n      <td>NaN</td>\n      <td>COPETE, ZOQUETE, Ayotzinapa no es PAULETTE, bu...</td>\n      <td>['COPETE', ',', 'ZOQUETE', ',', 'Ayotzinapa', ...</td>\n    </tr>\n  </tbody>\n</table>\n<p>3 rows × 29 columns</p>\n</div>"
     },
     "metadata": {},
     "execution_count": 10
    }
   ],
   "source": [
    "# import processed URL data\n",
    "\n",
    "### article column MUST be labeled \"text\"\n",
    "url_df = pd.read_csv(\"Final_Ayo_narratives_oct_2014.csv\") \n",
    "url_df.head(3)"
   ]
  },
  {
   "cell_type": "code",
   "execution_count": 11,
   "metadata": {},
   "outputs": [],
   "source": [
    "url_df= url_df.rename(columns = {'Text_y': 'Text'})  ##Turns column to Text so that I can match latertok_text "
   ]
  },
  {
   "cell_type": "code",
   "execution_count": 12,
   "metadata": {
    "colab": {},
    "colab_type": "code",
    "executionInfo": {
     "elapsed": 7171,
     "status": "ok",
     "timestamp": 1594844481366,
     "user": {
      "displayName": "Carlos Martinez",
      "photoUrl": "",
      "userId": "05600005939339517061"
     },
     "user_tz": 240
    },
    "id": "O5dw4m-L39sP"
   },
   "outputs": [],
   "source": [
    "# process text\n",
    "\n",
    "text_df = create_text_column(url_df)\n",
    "complete_df = text_df\n",
    "\n",
    "features_df = complete_df.copy()\n",
    "norm_df = complete_df.copy()"
   ]
  },
  {
   "cell_type": "code",
   "execution_count": 13,
   "metadata": {
    "colab": {},
    "colab_type": "code",
    "executionInfo": {
     "elapsed": 51037,
     "status": "ok",
     "timestamp": 1594844525238,
     "user": {
      "displayName": "Carlos Martinez",
      "photoUrl": "",
      "userId": "05600005939339517061"
     },
     "user_tz": 240
    },
    "id": "FQGO-OZh4Nxe"
   },
   "outputs": [],
   "source": [
    "# add linguistic features\n",
    "\n",
    "features_df = features(complete_df, features_df)\n"
   ]
  },
  {
   "cell_type": "code",
   "execution_count": 14,
   "metadata": {},
   "outputs": [
    {
     "output_type": "execute_result",
     "data": {
      "text/plain": [
       "   Unnamed: 0  Topic_Num  Topic_Perc_Contrib  \\\n",
       "0           0        0.0              0.8609   \n",
       "1           1        1.0              0.8053   \n",
       "2           2        2.0              0.8053   \n",
       "3           3        3.0              0.9115   \n",
       "4          10        4.0              0.9026   \n",
       "\n",
       "                                            Keywords  \\\n",
       "0  mexico, in, ejemplo, students, favor, pm, miss...   \n",
       "1  zcalo, normalistas, padres, ayotzinapa, famili...   \n",
       "2  da, acto, familias, are, noche, gob, esto, hec...   \n",
       "3  prd, lo, dijo, ahora, ojos, ayotzinapa, imgene...   \n",
       "4  el, qu, ayotzinapa, por, caso, grupos, casa, u...   \n",
       "\n",
       "                                              Text_x  \\\n",
       "0  ['``', 'Ayotzinapa', ',', 'punta', 'iceberg', ...   \n",
       "1  ['Padres', 'normalistas', 'obligaron', 'devolv...   \n",
       "2  ['COPETE', ',', 'ZOQUETE', ',', 'Ayotzinapa', ...   \n",
       "3  ['Hay', 'prfugos', 'caso', 'normalistas', 'Ayo...   \n",
       "4  ['Cronologa', 'Caso', 'Ayotzinapa', '-', 'El',...   \n",
       "\n",
       "                                          liststring  \\\n",
       "0  ``,Ayotzinapa,,,punta,iceberg,fallido,'',,,opi...   \n",
       "1  Padres,normalistas,obligaron,devolver,producto...   \n",
       "2  COPETE,,,ZOQUETE,,,Ayotzinapa,PAULETTE,,,busca...   \n",
       "3  Hay,prfugos,caso,normalistas,Ayotzinapa,:,serv...   \n",
       "4  Cronologa,Caso,Ayotzinapa,-,El,Universal,-,Ciu...   \n",
       "\n",
       "                                                 url  \\\n",
       "0  https://twitter.com/AjedrezPolitiko/status/520...   \n",
       "1  https://twitter.com/cb_television/status/52611...   \n",
       "2  https://twitter.com/double_moral/status/520352...   \n",
       "3  https://twitter.com/gii360/status/520330492248...   \n",
       "4  https://twitter.com/guerreroacapulc/status/525...   \n",
       "\n",
       "                        date  \\\n",
       "0  2014-10-11 00:00:20+00:00   \n",
       "1  2014-10-25 20:43:49+00:00   \n",
       "2  2014-10-09 23:19:36+00:00   \n",
       "3  2014-10-09 21:50:31+00:00   \n",
       "4  2014-10-24 00:15:00+00:00   \n",
       "\n",
       "                                             content  \\\n",
       "0  \"Ayotzinapa, la punta del iceberg de un estado...   \n",
       "1  Padres de normalistas los obligaron a devolver...   \n",
       "2  COPETE, ZOQUETE, Ayotzinapa no es PAULETTE, bu...   \n",
       "3  Hay 4 prófugos por caso de normalistas de Ayot...   \n",
       "4  Cronología Caso Ayotzinapa - El Universal - Ci...   \n",
       "\n",
       "                                     renderedContent  ...  \\\n",
       "0  \"Ayotzinapa, la punta del iceberg de un estado...  ...   \n",
       "1  Padres de normalistas los obligaron a devolver...  ...   \n",
       "2  COPETE, ZOQUETE, Ayotzinapa no es PAULETTE, bu...  ...   \n",
       "3  Hay 4 prófugos por caso de normalistas de Ayot...  ...   \n",
       "4  Cronología Caso Ayotzinapa - El Universal - Ci...  ...   \n",
       "\n",
       "                                                Text Sentiment noun_count  \\\n",
       "0  ['``', 'Ayotzinapa', ',', 'punta', 'iceberg', ...  0.497892        6.0   \n",
       "1  ['Padres', 'normalistas', 'obligaron', 'devolv...  0.416456        8.0   \n",
       "2  ['COPETE', ',', 'ZOQUETE', ',', 'Ayotzinapa', ...  0.233942        7.0   \n",
       "3  ['Hay', 'prfugos', 'caso', 'normalistas', 'Ayo...  0.103857       10.0   \n",
       "4  ['Cronologa', 'Caso', 'Ayotzinapa', '-', 'El',...  0.123161       15.0   \n",
       "\n",
       "  verb_count  adj_count  adv_count  pron_count  char_count  word_count  \\\n",
       "0        0.0        0.0        0.0         0.0        88.0        10.0   \n",
       "1        0.0        1.0        0.0         0.0       118.0         9.0   \n",
       "2        0.0        1.0        0.0         0.0        95.0        11.0   \n",
       "3        0.0        1.0        0.0         0.0       131.0        12.0   \n",
       "4        0.0        3.0        0.0         0.0       168.0        17.0   \n",
       "\n",
       "  word_density  \n",
       "0     8.000000  \n",
       "1    11.800000  \n",
       "2     7.916667  \n",
       "3    10.076923  \n",
       "4     9.333333  \n",
       "\n",
       "[5 rows x 38 columns]"
      ],
      "text/html": "<div>\n<style scoped>\n    .dataframe tbody tr th:only-of-type {\n        vertical-align: middle;\n    }\n\n    .dataframe tbody tr th {\n        vertical-align: top;\n    }\n\n    .dataframe thead th {\n        text-align: right;\n    }\n</style>\n<table border=\"1\" class=\"dataframe\">\n  <thead>\n    <tr style=\"text-align: right;\">\n      <th></th>\n      <th>Unnamed: 0</th>\n      <th>Topic_Num</th>\n      <th>Topic_Perc_Contrib</th>\n      <th>Keywords</th>\n      <th>Text_x</th>\n      <th>liststring</th>\n      <th>url</th>\n      <th>date</th>\n      <th>content</th>\n      <th>renderedContent</th>\n      <th>...</th>\n      <th>Text</th>\n      <th>Sentiment</th>\n      <th>noun_count</th>\n      <th>verb_count</th>\n      <th>adj_count</th>\n      <th>adv_count</th>\n      <th>pron_count</th>\n      <th>char_count</th>\n      <th>word_count</th>\n      <th>word_density</th>\n    </tr>\n  </thead>\n  <tbody>\n    <tr>\n      <th>0</th>\n      <td>0</td>\n      <td>0.0</td>\n      <td>0.8609</td>\n      <td>mexico, in, ejemplo, students, favor, pm, miss...</td>\n      <td>['``', 'Ayotzinapa', ',', 'punta', 'iceberg', ...</td>\n      <td>``,Ayotzinapa,,,punta,iceberg,fallido,'',,,opi...</td>\n      <td>https://twitter.com/AjedrezPolitiko/status/520...</td>\n      <td>2014-10-11 00:00:20+00:00</td>\n      <td>\"Ayotzinapa, la punta del iceberg de un estado...</td>\n      <td>\"Ayotzinapa, la punta del iceberg de un estado...</td>\n      <td>...</td>\n      <td>['``', 'Ayotzinapa', ',', 'punta', 'iceberg', ...</td>\n      <td>0.497892</td>\n      <td>6.0</td>\n      <td>0.0</td>\n      <td>0.0</td>\n      <td>0.0</td>\n      <td>0.0</td>\n      <td>88.0</td>\n      <td>10.0</td>\n      <td>8.000000</td>\n    </tr>\n    <tr>\n      <th>1</th>\n      <td>1</td>\n      <td>1.0</td>\n      <td>0.8053</td>\n      <td>zcalo, normalistas, padres, ayotzinapa, famili...</td>\n      <td>['Padres', 'normalistas', 'obligaron', 'devolv...</td>\n      <td>Padres,normalistas,obligaron,devolver,producto...</td>\n      <td>https://twitter.com/cb_television/status/52611...</td>\n      <td>2014-10-25 20:43:49+00:00</td>\n      <td>Padres de normalistas los obligaron a devolver...</td>\n      <td>Padres de normalistas los obligaron a devolver...</td>\n      <td>...</td>\n      <td>['Padres', 'normalistas', 'obligaron', 'devolv...</td>\n      <td>0.416456</td>\n      <td>8.0</td>\n      <td>0.0</td>\n      <td>1.0</td>\n      <td>0.0</td>\n      <td>0.0</td>\n      <td>118.0</td>\n      <td>9.0</td>\n      <td>11.800000</td>\n    </tr>\n    <tr>\n      <th>2</th>\n      <td>2</td>\n      <td>2.0</td>\n      <td>0.8053</td>\n      <td>da, acto, familias, are, noche, gob, esto, hec...</td>\n      <td>['COPETE', ',', 'ZOQUETE', ',', 'Ayotzinapa', ...</td>\n      <td>COPETE,,,ZOQUETE,,,Ayotzinapa,PAULETTE,,,busca...</td>\n      <td>https://twitter.com/double_moral/status/520352...</td>\n      <td>2014-10-09 23:19:36+00:00</td>\n      <td>COPETE, ZOQUETE, Ayotzinapa no es PAULETTE, bu...</td>\n      <td>COPETE, ZOQUETE, Ayotzinapa no es PAULETTE, bu...</td>\n      <td>...</td>\n      <td>['COPETE', ',', 'ZOQUETE', ',', 'Ayotzinapa', ...</td>\n      <td>0.233942</td>\n      <td>7.0</td>\n      <td>0.0</td>\n      <td>1.0</td>\n      <td>0.0</td>\n      <td>0.0</td>\n      <td>95.0</td>\n      <td>11.0</td>\n      <td>7.916667</td>\n    </tr>\n    <tr>\n      <th>3</th>\n      <td>3</td>\n      <td>3.0</td>\n      <td>0.9115</td>\n      <td>prd, lo, dijo, ahora, ojos, ayotzinapa, imgene...</td>\n      <td>['Hay', 'prfugos', 'caso', 'normalistas', 'Ayo...</td>\n      <td>Hay,prfugos,caso,normalistas,Ayotzinapa,:,serv...</td>\n      <td>https://twitter.com/gii360/status/520330492248...</td>\n      <td>2014-10-09 21:50:31+00:00</td>\n      <td>Hay 4 prófugos por caso de normalistas de Ayot...</td>\n      <td>Hay 4 prófugos por caso de normalistas de Ayot...</td>\n      <td>...</td>\n      <td>['Hay', 'prfugos', 'caso', 'normalistas', 'Ayo...</td>\n      <td>0.103857</td>\n      <td>10.0</td>\n      <td>0.0</td>\n      <td>1.0</td>\n      <td>0.0</td>\n      <td>0.0</td>\n      <td>131.0</td>\n      <td>12.0</td>\n      <td>10.076923</td>\n    </tr>\n    <tr>\n      <th>4</th>\n      <td>10</td>\n      <td>4.0</td>\n      <td>0.9026</td>\n      <td>el, qu, ayotzinapa, por, caso, grupos, casa, u...</td>\n      <td>['Cronologa', 'Caso', 'Ayotzinapa', '-', 'El',...</td>\n      <td>Cronologa,Caso,Ayotzinapa,-,El,Universal,-,Ciu...</td>\n      <td>https://twitter.com/guerreroacapulc/status/525...</td>\n      <td>2014-10-24 00:15:00+00:00</td>\n      <td>Cronología Caso Ayotzinapa - El Universal - Ci...</td>\n      <td>Cronología Caso Ayotzinapa - El Universal - Ci...</td>\n      <td>...</td>\n      <td>['Cronologa', 'Caso', 'Ayotzinapa', '-', 'El',...</td>\n      <td>0.123161</td>\n      <td>15.0</td>\n      <td>0.0</td>\n      <td>3.0</td>\n      <td>0.0</td>\n      <td>0.0</td>\n      <td>168.0</td>\n      <td>17.0</td>\n      <td>9.333333</td>\n    </tr>\n  </tbody>\n</table>\n<p>5 rows × 38 columns</p>\n</div>"
     },
     "metadata": {},
     "execution_count": 14
    }
   ],
   "source": [
    "features_df.head()"
   ]
  },
  {
   "cell_type": "code",
   "execution_count": 15,
   "metadata": {},
   "outputs": [],
   "source": [
    "features_df.to_csv('oct_2014.csv')"
   ]
  },
  {
   "cell_type": "code",
   "execution_count": null,
   "metadata": {},
   "outputs": [],
   "source": []
  }
 ],
 "metadata": {
  "colab": {
   "name": "Ensemble_Classification.ipynb",
   "provenance": []
  },
  "kernelspec": {
   "name": "python379jvsc74a57bd09dff616b446fa644f3b4017ba45fdd2784b26a5c5bc8ce8b16e8b1283deb7823",
   "display_name": "Python 3.7.9 64-bit ('base': conda)"
  },
  "language_info": {
   "codemirror_mode": {
    "name": "ipython",
    "version": 3
   },
   "file_extension": ".py",
   "mimetype": "text/x-python",
   "name": "python",
   "nbconvert_exporter": "python",
   "pygments_lexer": "ipython3",
   "version": "3.7.9"
  },
  "metadata": {
   "interpreter": {
    "hash": "2e9ce04289515c81dbe3870c22705c75d9c476fd54f667fcfde825ab43cc068b"
   }
  }
 },
 "nbformat": 4,
 "nbformat_minor": 1
}