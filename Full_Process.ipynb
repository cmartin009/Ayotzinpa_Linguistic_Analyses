{
 "cells": [
  {
   "cell_type": "markdown",
   "metadata": {
    "id": "V7zqdH5i3cJd"
   },
   "source": [
    "#Topic Modeling "
   ]
  },
  {
   "cell_type": "code",
   "execution_count": 2,
   "metadata": {
    "colab": {
     "base_uri": "https://localhost:8080/"
    },
    "executionInfo": {
     "elapsed": 3490,
     "status": "ok",
     "timestamp": 1614115818724,
     "user": {
      "displayName": "Amber Chin",
      "photoUrl": "https://lh3.googleusercontent.com/a-/AOh14GhqQ3HKfxHEOElesBq7SMuZYsdydWvOoR4EnPWB=s64",
      "userId": "11852158757476387374"
     },
     "user_tz": 360
    },
    "id": "VfzRFk2Htsry",
    "outputId": "a6221d48-64da-4eca-b895-b24d6be722a8"
   },
   "outputs": [
    {
     "output_type": "stream",
     "name": "stderr",
     "text": [
      "[nltk_data] Downloading package stopwords to\n[nltk_data]     C:\\Users\\swcam\\AppData\\Roaming\\nltk_data...\n[nltk_data]   Package stopwords is already up-to-date!\n"
     ]
    }
   ],
   "source": [
    "import re\n",
    "import numpy as np\n",
    "import pandas as pd\n",
    "from pprint import pprint\n",
    "\n",
    "# Gensim\n",
    "import gensim\n",
    "import gensim.corpora as corpora\n",
    "from gensim.utils import simple_preprocess\n",
    "from gensim.models import CoherenceModel\n",
    "\n",
    "# spacy for lemmatization\n",
    "import spacy\n",
    "\n",
    "%matplotlib inline\n",
    "\n",
    "# Enable logging for gensim - optional\n",
    "import logging\n",
    "logging.basicConfig(format='%(asctime)s : %(levelname)s : %(message)s', level=logging.ERROR)\n",
    "\n",
    "import warnings\n",
    "warnings.filterwarnings(\"ignore\",category=DeprecationWarning)\n",
    "\n",
    "import nltk\n",
    "nltk.download('stopwords')\n",
    "import os\n",
    "import operator \n",
    "import re\n",
    "import sys\n",
    "\n",
    "import seaborn as sns\n",
    "from Proccess import create_text_column"
   ]
  },
  {
   "cell_type": "code",
   "execution_count": 3,
   "metadata": {
    "id": "_rrjEsyLhmry"
   },
   "outputs": [],
   "source": [
    "pd.set_option('display.width', 1000) # Expands the width of the dataframe"
   ]
  },
  {
   "cell_type": "code",
   "execution_count": 4,
   "metadata": {},
   "outputs": [],
   "source": [
    "#Preprocossing "
   ]
  },
  {
   "cell_type": "code",
   "execution_count": 5,
   "metadata": {},
   "outputs": [
    {
     "output_type": "execute_result",
     "data": {
      "text/plain": [
       "                                                 url                       date                                            content                                    renderedContent            id                                               user                  outlinks                 tcooutlinks  replyCount  retweetCount  ...  Unnamed: 45  Unnamed: 46  Unnamed: 47 Unnamed: 48 Unnamed: 49 Unnamed: 50 Unnamed: 51 Unnamed: 52  Unnamed: 53  Unnamed: 54\n",
       "0  https://twitter.com/ORMultimedios/status/49822...  2014-08-09 21:50:18+00:00  #AlMomento #PolicíasComunitarios y normalistas...  #AlMomento #PolicíasComunitarios y normalistas...  4.982250e+17  {'username': 'ORMultimedios', 'displayname': '...  ['http://ow.ly/i/6vu6a']  ['http://t.co/Rea7WTZ5xD']           0             0  ...          NaN          NaN          NaN         NaN         NaN         NaN         NaN         NaN          NaN          NaN\n",
       "1  https://twitter.com/CCSPJP/status/498218246709...  2014-08-09 21:24:21+00:00  Policías comunitarios y normalistas de Ayotzin...  Policías comunitarios y normalistas de Ayotzin...  4.982180e+17  {'username': 'CCSPJP', 'displayname': 'CCSPJP'...                        []                          []           1             0  ...          NaN          NaN          NaN         NaN         NaN         NaN         NaN         NaN          NaN          NaN\n",
       "2  https://twitter.com/JuanC__Castillo/status/498...  2014-08-09 21:14:49+00:00  Reforma informa: Protestan contra Aguirre en G...  Reforma informa: Protestan contra Aguirre en G...  4.982160e+17  {'username': 'JuanC__Castillo', 'displayname':...   ['http://ow.ly/2LvhNI']  ['http://t.co/PCfwrFEGDZ']           0             1  ...          NaN          NaN          NaN         NaN         NaN         NaN         NaN         NaN          NaN          NaN\n",
       "\n",
       "[3 rows x 55 columns]"
      ],
      "text/html": "<div>\n<style scoped>\n    .dataframe tbody tr th:only-of-type {\n        vertical-align: middle;\n    }\n\n    .dataframe tbody tr th {\n        vertical-align: top;\n    }\n\n    .dataframe thead th {\n        text-align: right;\n    }\n</style>\n<table border=\"1\" class=\"dataframe\">\n  <thead>\n    <tr style=\"text-align: right;\">\n      <th></th>\n      <th>url</th>\n      <th>date</th>\n      <th>content</th>\n      <th>renderedContent</th>\n      <th>id</th>\n      <th>user</th>\n      <th>outlinks</th>\n      <th>tcooutlinks</th>\n      <th>replyCount</th>\n      <th>retweetCount</th>\n      <th>...</th>\n      <th>Unnamed: 45</th>\n      <th>Unnamed: 46</th>\n      <th>Unnamed: 47</th>\n      <th>Unnamed: 48</th>\n      <th>Unnamed: 49</th>\n      <th>Unnamed: 50</th>\n      <th>Unnamed: 51</th>\n      <th>Unnamed: 52</th>\n      <th>Unnamed: 53</th>\n      <th>Unnamed: 54</th>\n    </tr>\n  </thead>\n  <tbody>\n    <tr>\n      <th>0</th>\n      <td>https://twitter.com/ORMultimedios/status/49822...</td>\n      <td>2014-08-09 21:50:18+00:00</td>\n      <td>#AlMomento #PolicíasComunitarios y normalistas...</td>\n      <td>#AlMomento #PolicíasComunitarios y normalistas...</td>\n      <td>4.982250e+17</td>\n      <td>{'username': 'ORMultimedios', 'displayname': '...</td>\n      <td>['http://ow.ly/i/6vu6a']</td>\n      <td>['http://t.co/Rea7WTZ5xD']</td>\n      <td>0</td>\n      <td>0</td>\n      <td>...</td>\n      <td>NaN</td>\n      <td>NaN</td>\n      <td>NaN</td>\n      <td>NaN</td>\n      <td>NaN</td>\n      <td>NaN</td>\n      <td>NaN</td>\n      <td>NaN</td>\n      <td>NaN</td>\n      <td>NaN</td>\n    </tr>\n    <tr>\n      <th>1</th>\n      <td>https://twitter.com/CCSPJP/status/498218246709...</td>\n      <td>2014-08-09 21:24:21+00:00</td>\n      <td>Policías comunitarios y normalistas de Ayotzin...</td>\n      <td>Policías comunitarios y normalistas de Ayotzin...</td>\n      <td>4.982180e+17</td>\n      <td>{'username': 'CCSPJP', 'displayname': 'CCSPJP'...</td>\n      <td>[]</td>\n      <td>[]</td>\n      <td>1</td>\n      <td>0</td>\n      <td>...</td>\n      <td>NaN</td>\n      <td>NaN</td>\n      <td>NaN</td>\n      <td>NaN</td>\n      <td>NaN</td>\n      <td>NaN</td>\n      <td>NaN</td>\n      <td>NaN</td>\n      <td>NaN</td>\n      <td>NaN</td>\n    </tr>\n    <tr>\n      <th>2</th>\n      <td>https://twitter.com/JuanC__Castillo/status/498...</td>\n      <td>2014-08-09 21:14:49+00:00</td>\n      <td>Reforma informa: Protestan contra Aguirre en G...</td>\n      <td>Reforma informa: Protestan contra Aguirre en G...</td>\n      <td>4.982160e+17</td>\n      <td>{'username': 'JuanC__Castillo', 'displayname':...</td>\n      <td>['http://ow.ly/2LvhNI']</td>\n      <td>['http://t.co/PCfwrFEGDZ']</td>\n      <td>0</td>\n      <td>1</td>\n      <td>...</td>\n      <td>NaN</td>\n      <td>NaN</td>\n      <td>NaN</td>\n      <td>NaN</td>\n      <td>NaN</td>\n      <td>NaN</td>\n      <td>NaN</td>\n      <td>NaN</td>\n      <td>NaN</td>\n      <td>NaN</td>\n    </tr>\n  </tbody>\n</table>\n<p>3 rows × 55 columns</p>\n</div>"
     },
     "metadata": {},
     "execution_count": 5
    }
   ],
   "source": [
    "url_df = pd.read_csv(r\"\\Users\\swcam\\Desktop\\Data\\Fixed_data\\aug_2014_tweets.csv\",engine='python', encoding='utf-8',error_bad_lines=False) \n",
    "url_df.head(3)"
   ]
  },
  {
   "cell_type": "code",
   "execution_count": 6,
   "metadata": {},
   "outputs": [],
   "source": [
    "##Preprocess Data\n",
    "text_df = create_text_column(url_df)\n",
    "complete_df = text_df\n"
   ]
  },
  {
   "cell_type": "code",
   "execution_count": 7,
   "metadata": {},
   "outputs": [
    {
     "output_type": "execute_result",
     "data": {
      "text/plain": [
       "(145, 57)"
      ]
     },
     "metadata": {},
     "execution_count": 7
    }
   ],
   "source": [
    "complete_df.shape"
   ]
  },
  {
   "cell_type": "code",
   "execution_count": 8,
   "metadata": {},
   "outputs": [],
   "source": [
    "data = complete_df.copy()"
   ]
  },
  {
   "cell_type": "code",
   "execution_count": 9,
   "metadata": {},
   "outputs": [
    {
     "output_type": "execute_result",
     "data": {
      "text/plain": [
       "(145, 57)"
      ]
     },
     "metadata": {},
     "execution_count": 9
    }
   ],
   "source": [
    "data.shape"
   ]
  },
  {
   "cell_type": "code",
   "execution_count": 10,
   "metadata": {
    "id": "5J6MNGtVm7fr"
   },
   "outputs": [],
   "source": [
    "# convert to Disinformation dataframe (only text labeled as disinformation by the model)\n",
    "\n",
    "new_df = data.copy()"
   ]
  },
  {
   "cell_type": "code",
   "execution_count": 11,
   "metadata": {},
   "outputs": [
    {
     "output_type": "execute_result",
     "data": {
      "text/plain": [
       "                                                 url                       date                                            content                                    renderedContent            id                                               user                   outlinks                 tcooutlinks  replyCount  retweetCount  ...  Unnamed: 47  Unnamed: 48  Unnamed: 49 Unnamed: 50 Unnamed: 51 Unnamed: 52 Unnamed: 53 Unnamed: 54                                          proc_text                                           tok_text\n",
       "0  https://twitter.com/ORMultimedios/status/49822...  2014-08-09 21:50:18+00:00  #AlMomento #PolicíasComunitarios y normalistas...  #AlMomento #PolicíasComunitarios y normalistas...  4.982250e+17  {'username': 'ORMultimedios', 'displayname': '...   ['http://ow.ly/i/6vu6a']  ['http://t.co/Rea7WTZ5xD']           0             0  ...          NaN          NaN          NaN         NaN         NaN         NaN         NaN         NaN  y normalistas irrumpen acto y protestan contra...  [normalistas, irrumpen, acto, protestan, gober...\n",
       "1  https://twitter.com/CCSPJP/status/498218246709...  2014-08-09 21:24:21+00:00  Policías comunitarios y normalistas de Ayotzin...  Policías comunitarios y normalistas de Ayotzin...  4.982180e+17  {'username': 'CCSPJP', 'displayname': 'CCSPJP'...                         []                          []           1             0  ...          NaN          NaN          NaN         NaN         NaN         NaN         NaN         NaN  Policas comunitarios y normalistas de Ayotzina...  [Policas, comunitarios, normalistas, Ayotzinap...\n",
       "2  https://twitter.com/JuanC__Castillo/status/498...  2014-08-09 21:14:49+00:00  Reforma informa: Protestan contra Aguirre en G...  Reforma informa: Protestan contra Aguirre en G...  4.982160e+17  {'username': 'JuanC__Castillo', 'displayname':...    ['http://ow.ly/2LvhNI']  ['http://t.co/PCfwrFEGDZ']           0             1  ...          NaN          NaN          NaN         NaN         NaN         NaN         NaN         NaN  Reforma informa: Protestan contra Aguirre en G...  [Reforma, informa, :, Protestan, Aguirre, Guer...\n",
       "3  https://twitter.com/AnitaHVVerde/status/498210...  2014-08-09 20:54:38+00:00  Protestan contra Aguirre en Guerrero: Policías...  Protestan contra Aguirre en Guerrero: Policías...  4.982110e+17  {'username': 'AnitaHVVerde', 'displayname': 'A...  ['http://bit.ly/1rbHf8m']  ['http://t.co/HvLmh9wKZX']           0             0  ...          NaN          NaN          NaN         NaN         NaN         NaN         NaN         NaN  Protestan contra Aguirre en Guerrero: Policas ...  [Protestan, Aguirre, Guerrero, :, Policas, com...\n",
       "4  https://twitter.com/negroniNSt/status/49821076...  2014-08-09 20:54:38+00:00  Protestan contra Aguirre en Guerrero: Policías...  Protestan contra Aguirre en Guerrero: Policías...  4.982110e+17  {'username': 'negroniNSt', 'displayname': 'Agu...  ['http://bit.ly/1rbHf8m']  ['http://t.co/oy196JqY93']           0             0  ...          NaN          NaN          NaN         NaN         NaN         NaN         NaN         NaN  Protestan contra Aguirre en Guerrero: Policas ...  [Protestan, Aguirre, Guerrero, :, Policas, com...\n",
       "\n",
       "[5 rows x 57 columns]"
      ],
      "text/html": "<div>\n<style scoped>\n    .dataframe tbody tr th:only-of-type {\n        vertical-align: middle;\n    }\n\n    .dataframe tbody tr th {\n        vertical-align: top;\n    }\n\n    .dataframe thead th {\n        text-align: right;\n    }\n</style>\n<table border=\"1\" class=\"dataframe\">\n  <thead>\n    <tr style=\"text-align: right;\">\n      <th></th>\n      <th>url</th>\n      <th>date</th>\n      <th>content</th>\n      <th>renderedContent</th>\n      <th>id</th>\n      <th>user</th>\n      <th>outlinks</th>\n      <th>tcooutlinks</th>\n      <th>replyCount</th>\n      <th>retweetCount</th>\n      <th>...</th>\n      <th>Unnamed: 47</th>\n      <th>Unnamed: 48</th>\n      <th>Unnamed: 49</th>\n      <th>Unnamed: 50</th>\n      <th>Unnamed: 51</th>\n      <th>Unnamed: 52</th>\n      <th>Unnamed: 53</th>\n      <th>Unnamed: 54</th>\n      <th>proc_text</th>\n      <th>tok_text</th>\n    </tr>\n  </thead>\n  <tbody>\n    <tr>\n      <th>0</th>\n      <td>https://twitter.com/ORMultimedios/status/49822...</td>\n      <td>2014-08-09 21:50:18+00:00</td>\n      <td>#AlMomento #PolicíasComunitarios y normalistas...</td>\n      <td>#AlMomento #PolicíasComunitarios y normalistas...</td>\n      <td>4.982250e+17</td>\n      <td>{'username': 'ORMultimedios', 'displayname': '...</td>\n      <td>['http://ow.ly/i/6vu6a']</td>\n      <td>['http://t.co/Rea7WTZ5xD']</td>\n      <td>0</td>\n      <td>0</td>\n      <td>...</td>\n      <td>NaN</td>\n      <td>NaN</td>\n      <td>NaN</td>\n      <td>NaN</td>\n      <td>NaN</td>\n      <td>NaN</td>\n      <td>NaN</td>\n      <td>NaN</td>\n      <td>y normalistas irrumpen acto y protestan contra...</td>\n      <td>[normalistas, irrumpen, acto, protestan, gober...</td>\n    </tr>\n    <tr>\n      <th>1</th>\n      <td>https://twitter.com/CCSPJP/status/498218246709...</td>\n      <td>2014-08-09 21:24:21+00:00</td>\n      <td>Policías comunitarios y normalistas de Ayotzin...</td>\n      <td>Policías comunitarios y normalistas de Ayotzin...</td>\n      <td>4.982180e+17</td>\n      <td>{'username': 'CCSPJP', 'displayname': 'CCSPJP'...</td>\n      <td>[]</td>\n      <td>[]</td>\n      <td>1</td>\n      <td>0</td>\n      <td>...</td>\n      <td>NaN</td>\n      <td>NaN</td>\n      <td>NaN</td>\n      <td>NaN</td>\n      <td>NaN</td>\n      <td>NaN</td>\n      <td>NaN</td>\n      <td>NaN</td>\n      <td>Policas comunitarios y normalistas de Ayotzina...</td>\n      <td>[Policas, comunitarios, normalistas, Ayotzinap...</td>\n    </tr>\n    <tr>\n      <th>2</th>\n      <td>https://twitter.com/JuanC__Castillo/status/498...</td>\n      <td>2014-08-09 21:14:49+00:00</td>\n      <td>Reforma informa: Protestan contra Aguirre en G...</td>\n      <td>Reforma informa: Protestan contra Aguirre en G...</td>\n      <td>4.982160e+17</td>\n      <td>{'username': 'JuanC__Castillo', 'displayname':...</td>\n      <td>['http://ow.ly/2LvhNI']</td>\n      <td>['http://t.co/PCfwrFEGDZ']</td>\n      <td>0</td>\n      <td>1</td>\n      <td>...</td>\n      <td>NaN</td>\n      <td>NaN</td>\n      <td>NaN</td>\n      <td>NaN</td>\n      <td>NaN</td>\n      <td>NaN</td>\n      <td>NaN</td>\n      <td>NaN</td>\n      <td>Reforma informa: Protestan contra Aguirre en G...</td>\n      <td>[Reforma, informa, :, Protestan, Aguirre, Guer...</td>\n    </tr>\n    <tr>\n      <th>3</th>\n      <td>https://twitter.com/AnitaHVVerde/status/498210...</td>\n      <td>2014-08-09 20:54:38+00:00</td>\n      <td>Protestan contra Aguirre en Guerrero: Policías...</td>\n      <td>Protestan contra Aguirre en Guerrero: Policías...</td>\n      <td>4.982110e+17</td>\n      <td>{'username': 'AnitaHVVerde', 'displayname': 'A...</td>\n      <td>['http://bit.ly/1rbHf8m']</td>\n      <td>['http://t.co/HvLmh9wKZX']</td>\n      <td>0</td>\n      <td>0</td>\n      <td>...</td>\n      <td>NaN</td>\n      <td>NaN</td>\n      <td>NaN</td>\n      <td>NaN</td>\n      <td>NaN</td>\n      <td>NaN</td>\n      <td>NaN</td>\n      <td>NaN</td>\n      <td>Protestan contra Aguirre en Guerrero: Policas ...</td>\n      <td>[Protestan, Aguirre, Guerrero, :, Policas, com...</td>\n    </tr>\n    <tr>\n      <th>4</th>\n      <td>https://twitter.com/negroniNSt/status/49821076...</td>\n      <td>2014-08-09 20:54:38+00:00</td>\n      <td>Protestan contra Aguirre en Guerrero: Policías...</td>\n      <td>Protestan contra Aguirre en Guerrero: Policías...</td>\n      <td>4.982110e+17</td>\n      <td>{'username': 'negroniNSt', 'displayname': 'Agu...</td>\n      <td>['http://bit.ly/1rbHf8m']</td>\n      <td>['http://t.co/oy196JqY93']</td>\n      <td>0</td>\n      <td>0</td>\n      <td>...</td>\n      <td>NaN</td>\n      <td>NaN</td>\n      <td>NaN</td>\n      <td>NaN</td>\n      <td>NaN</td>\n      <td>NaN</td>\n      <td>NaN</td>\n      <td>NaN</td>\n      <td>Protestan contra Aguirre en Guerrero: Policas ...</td>\n      <td>[Protestan, Aguirre, Guerrero, :, Policas, com...</td>\n    </tr>\n  </tbody>\n</table>\n<p>5 rows × 57 columns</p>\n</div>"
     },
     "metadata": {},
     "execution_count": 11
    }
   ],
   "source": [
    "new_df.head()"
   ]
  },
  {
   "cell_type": "code",
   "execution_count": 12,
   "metadata": {},
   "outputs": [
    {
     "output_type": "execute_result",
     "data": {
      "text/plain": [
       "url                 object\n",
       "date                object\n",
       "content             object\n",
       "renderedContent     object\n",
       "id                 float64\n",
       "user                object\n",
       "outlinks            object\n",
       "tcooutlinks         object\n",
       "replyCount           int64\n",
       "retweetCount         int64\n",
       "likeCount            int64\n",
       "quoteCount           int64\n",
       "conversationId     float64\n",
       "lang                object\n",
       "source              object\n",
       "sourceUrl           object\n",
       "sourceLabel         object\n",
       "media               object\n",
       "retweetedTweet     float64\n",
       "quotedTweet        float64\n",
       "mentionedUsers      object\n",
       "Unnamed: 21        float64\n",
       "Unnamed: 22        float64\n",
       "Unnamed: 23        float64\n",
       "Unnamed: 24        float64\n",
       "Unnamed: 25        float64\n",
       "Unnamed: 26        float64\n",
       "Unnamed: 27        float64\n",
       "Unnamed: 28        float64\n",
       "Unnamed: 29        float64\n",
       "Unnamed: 30        float64\n",
       "Unnamed: 31        float64\n",
       "Unnamed: 32        float64\n",
       "Unnamed: 33        float64\n",
       "Unnamed: 34        float64\n",
       "Unnamed: 35        float64\n",
       "Unnamed: 36        float64\n",
       "Unnamed: 37        float64\n",
       "Unnamed: 38        float64\n",
       "Unnamed: 39        float64\n",
       "Unnamed: 40        float64\n",
       "Unnamed: 41        float64\n",
       "Unnamed: 42        float64\n",
       "Unnamed: 43        float64\n",
       "Unnamed: 44        float64\n",
       "Unnamed: 45        float64\n",
       "Unnamed: 46        float64\n",
       "Unnamed: 47        float64\n",
       "Unnamed: 48        float64\n",
       "Unnamed: 49        float64\n",
       "Unnamed: 50        float64\n",
       "Unnamed: 51        float64\n",
       "Unnamed: 52        float64\n",
       "Unnamed: 53        float64\n",
       "Unnamed: 54        float64\n",
       "proc_text           object\n",
       "tok_text            object\n",
       "dtype: object"
      ]
     },
     "metadata": {},
     "execution_count": 12
    }
   ],
   "source": [
    "new_df.dtypes"
   ]
  },
  {
   "cell_type": "markdown",
   "metadata": {
    "id": "q44EhLT1ut0m"
   },
   "source": [
    "Prepare stop words"
   ]
  },
  {
   "cell_type": "code",
   "execution_count": 13,
   "metadata": {
    "id": "t4YeR97HtaE4"
   },
   "outputs": [],
   "source": [
    "# NLTK Stop words\n",
    "from nltk.corpus import stopwords\n",
    "stop_words = stopwords.words('spanish')"
   ]
  },
  {
   "cell_type": "code",
   "execution_count": 14,
   "metadata": {},
   "outputs": [],
   "source": [
    "data= new_df['tok_text'].tolist()\n"
   ]
  },
  {
   "cell_type": "markdown",
   "metadata": {
    "id": "jpgE_rYsvp3z"
   },
   "source": [
    "Preprocessing "
   ]
  },
  {
   "cell_type": "markdown",
   "metadata": {
    "id": "3ICCkXPowNZZ"
   },
   "source": [
    "Tokenize words and Clean-up text"
   ]
  },
  {
   "cell_type": "code",
   "execution_count": 15,
   "metadata": {
    "colab": {
     "base_uri": "https://localhost:8080/"
    },
    "executionInfo": {
     "elapsed": 372,
     "status": "ok",
     "timestamp": 1614123045512,
     "user": {
      "displayName": "Amber Chin",
      "photoUrl": "https://lh3.googleusercontent.com/a-/AOh14GhqQ3HKfxHEOElesBq7SMuZYsdydWvOoR4EnPWB=s64",
      "userId": "11852158757476387374"
     },
     "user_tz": 360
    },
    "id": "2L6rSfwLwBtl",
    "outputId": "12c66b0e-6eba-4125-9cf2-3ad6ea621e49"
   },
   "outputs": [
    {
     "output_type": "stream",
     "name": "stdout",
     "text": [
      "[['normalistas', 'irrumpen', 'acto', 'protestan', 'gobernador']]\n"
     ]
    }
   ],
   "source": [
    "def sent_to_words(sentences):\n",
    "    for sentence in sentences:\n",
    "        yield(gensim.utils.simple_preprocess(str(sentence), deacc=True))  # deacc=True removes punctuations\n",
    "\n",
    "data_words = list(sent_to_words(data))\n",
    "\n",
    "print(data_words[:1])"
   ]
  },
  {
   "cell_type": "markdown",
   "metadata": {
    "id": "J_O9TrazwgTe"
   },
   "source": [
    "Creating Bigram and Trigram Models"
   ]
  },
  {
   "cell_type": "code",
   "execution_count": 16,
   "metadata": {
    "colab": {
     "base_uri": "https://localhost:8080/"
    },
    "executionInfo": {
     "elapsed": 2053,
     "status": "ok",
     "timestamp": 1614123059475,
     "user": {
      "displayName": "Amber Chin",
      "photoUrl": "https://lh3.googleusercontent.com/a-/AOh14GhqQ3HKfxHEOElesBq7SMuZYsdydWvOoR4EnPWB=s64",
      "userId": "11852158757476387374"
     },
     "user_tz": 360
    },
    "id": "xFIOW0ILwU1j",
    "outputId": "22d0a827-c8e9-4366-bb86-d2a067358ce4"
   },
   "outputs": [
    {
     "output_type": "stream",
     "name": "stdout",
     "text": [
      "['normalistas', 'irrumpen', 'acto', 'protestan', 'gobernador']\n"
     ]
    }
   ],
   "source": [
    "# Build the bigram and trigram models\n",
    "bigram = gensim.models.Phrases(data_words, min_count=5, threshold=100) # higher threshold fewer phrases.\n",
    "trigram = gensim.models.Phrases(bigram[data_words], threshold=100)  \n",
    "\n",
    "# Faster way to get a sentence clubbed as a trigram/bigram\n",
    "bigram_mod = gensim.models.phrases.Phraser(bigram)\n",
    "trigram_mod = gensim.models.phrases.Phraser(trigram)\n",
    "\n",
    "# See trigram example\n",
    "print(trigram_mod[bigram_mod[data_words[0]]])"
   ]
  },
  {
   "cell_type": "markdown",
   "metadata": {
    "id": "4s-0rp3jx3Ou"
   },
   "source": [
    " Remove Stopwords, Make Bigrams and Lemmatize"
   ]
  },
  {
   "cell_type": "code",
   "execution_count": 17,
   "metadata": {
    "id": "iAGkQej3w0Ql"
   },
   "outputs": [],
   "source": [
    "# Define functions for stopwords, bigrams, trigrams and lemmatization\n",
    "def remove_stopwords(texts):\n",
    "    return [[word for word in simple_preprocess(str(doc)) if word not in stop_words] for doc in texts]\n",
    "\n",
    "def make_bigrams(texts):\n",
    "    return [bigram_mod[doc] for doc in texts]\n",
    "\n",
    "def make_trigrams(texts):\n",
    "    return [trigram_mod[bigram_mod[doc]] for doc in texts]\n",
    "\n",
    "def lemmatization(texts, allowed_postags=['NOUN', 'ADJ', 'VERB', 'ADV']):\n",
    "    \"\"\"https://spacy.io/api/annotation\"\"\"\n",
    "    texts_out = []\n",
    "    for sent in texts:\n",
    "        doc = nlp(\" \".join(sent)) \n",
    "        texts_out.append([token.lemma_ for token in doc if token.pos_ in allowed_postags])\n",
    "    return texts_out"
   ]
  },
  {
   "cell_type": "code",
   "execution_count": 18,
   "metadata": {
    "colab": {
     "base_uri": "https://localhost:8080/",
     "height": 55
    },
    "executionInfo": {
     "elapsed": 52486,
     "status": "ok",
     "timestamp": 1595615754625,
     "user": {
      "displayName": "Carlos Martinez",
      "photoUrl": "",
      "userId": "05600005939339517061"
     },
     "user_tz": 240
    },
    "id": "z9G1jXJryX3X",
    "outputId": "1a463880-1124-4802-b333-966f89fdf7bf"
   },
   "outputs": [
    {
     "output_type": "stream",
     "name": "stdout",
     "text": [
      "[['normalista', 'irrumpir', 'acto', 'protestar', 'gobernador']]\n"
     ]
    }
   ],
   "source": [
    "# Remove Stop Words\n",
    "data_words_nostops = remove_stopwords(data_words)\n",
    "\n",
    "# Form Bigrams\n",
    "data_words_bigrams = make_bigrams(data_words_nostops)\n",
    "\n",
    "# Initialize spacy 'en' model, keeping only tagger component (for efficiency)\n",
    "# python3 -m spacy download en\n",
    "nlp = spacy.load('es_core_news_md', disable=['parser', 'ner'])\n",
    "\n",
    "# Do lemmatization keeping only noun, adj, vb, adv\n",
    "data_lemmatized = lemmatization(data_words_bigrams, allowed_postags=['NOUN', 'ADJ', 'VERB', 'ADV'])\n",
    "\n",
    "print(data_lemmatized[:1])"
   ]
  },
  {
   "cell_type": "markdown",
   "metadata": {
    "id": "WhZw-Z8Kys66"
   },
   "source": [
    "Create the Dictionary and Corpus needed for Topic Modeling"
   ]
  },
  {
   "cell_type": "code",
   "execution_count": 19,
   "metadata": {
    "colab": {
     "base_uri": "https://localhost:8080/"
    },
    "executionInfo": {
     "elapsed": 323,
     "status": "ok",
     "timestamp": 1614123133911,
     "user": {
      "displayName": "Amber Chin",
      "photoUrl": "https://lh3.googleusercontent.com/a-/AOh14GhqQ3HKfxHEOElesBq7SMuZYsdydWvOoR4EnPWB=s64",
      "userId": "11852158757476387374"
     },
     "user_tz": 360
    },
    "id": "mJM9qpZIx_VE",
    "outputId": "09315098-4a1a-4c86-880a-1d4214d32c3f"
   },
   "outputs": [
    {
     "output_type": "stream",
     "name": "stdout",
     "text": [
      "[[(0, 1), (1, 1), (2, 1), (3, 1), (4, 1)]]\n"
     ]
    }
   ],
   "source": [
    "# Create Dictionary\n",
    "id2word = corpora.Dictionary(data_words)\n",
    "\n",
    "# Create Corpus\n",
    "texts = data_words\n",
    "\n",
    "# Term Document Frequency\n",
    "corpus = [id2word.doc2bow(text) for text in texts]\n",
    "\n",
    "# View\n",
    "print(corpus[:1])"
   ]
  },
  {
   "cell_type": "markdown",
   "metadata": {
    "id": "1DTQeN4Syzv0"
   },
   "source": [
    "Building the Topic Model"
   ]
  },
  {
   "cell_type": "markdown",
   "metadata": {
    "id": "xr7jviCvzLv3"
   },
   "source": [
    "We have everything required to train the LDA model. In addition to the corpus and dictionary, you need to provide the number of topics as well.\n",
    "\n",
    "Apart from that, alpha and eta are hyperparameters that affect sparsity of the topics. According to the Gensim docs, both defaults to 1.0/num_topics prior.\n",
    "\n",
    "chunksize is the number of documents to be used in each training chunk. update_every determines how often the model parameters should be updated and passes is the total number of training passes."
   ]
  },
  {
   "cell_type": "code",
   "execution_count": 20,
   "metadata": {
    "id": "Qf3gfDRxzFPz"
   },
   "outputs": [],
   "source": [
    "# Build LDA model (set desired number of topics here)\n",
    "\n",
    "lda_model = gensim.models.ldamodel.LdaModel(corpus=corpus,\n",
    "                                           id2word=id2word,\n",
    "                                           num_topics=20, \n",
    "                                           random_state=100,\n",
    "                                           update_every=1,\n",
    "                                           chunksize=100,\n",
    "                                           passes=10,\n",
    "                                           alpha='auto',\n",
    "                                           per_word_topics=True)"
   ]
  },
  {
   "cell_type": "code",
   "execution_count": 21,
   "metadata": {
    "colab": {
     "base_uri": "https://localhost:8080/"
    },
    "executionInfo": {
     "elapsed": 232,
     "status": "ok",
     "timestamp": 1614123524264,
     "user": {
      "displayName": "Amber Chin",
      "photoUrl": "https://lh3.googleusercontent.com/a-/AOh14GhqQ3HKfxHEOElesBq7SMuZYsdydWvOoR4EnPWB=s64",
      "userId": "11852158757476387374"
     },
     "user_tz": 360
    },
    "id": "Up2JwjwHzviM",
    "outputId": "012eabf2-74ec-472c-d2a8-e2f18cc307c5"
   },
   "outputs": [
    {
     "output_type": "stream",
     "name": "stdout",
     "text": [
      "[(0,\n  '0.147*\"estrella\" + 0.074*\"ayotzinapa\" + 0.072*\"oro\" + 0.054*\"autobs\" + '\n  '0.037*\"robaron\" + 0.037*\"atrs\" + 0.035*\"estudiantes\" + 0.019*\"interesa\" + '\n  '0.019*\"compaeros\" + 0.019*\"estan\"'),\n (1,\n  '0.105*\"rosas\" + 0.105*\"facundo\" + 0.095*\"comparece\" + 0.090*\"ayotzinapa\" + '\n  '0.083*\"viol\" + 0.082*\"chalchihuapan\" + 0.081*\"cndh\" + 0.071*\"humanos\" + '\n  '0.071*\"derechos\" + 0.065*\"ahora\"'),\n (2,\n  '0.254*\"normal\" + 0.163*\"ayotzinapa\" + 0.079*\"escuela\" + 0.022*\"estudiantes\" '\n  '+ 0.020*\"cuenta\" + 0.020*\"represin\" + 0.020*\"nueva\" + 0.020*\"detenidos\" + '\n  '0.002*\"rural\" + 0.002*\"reunin\"'),\n (3,\n  '0.328*\"ayotzinapa\" + 0.322*\"congreso\" + 0.232*\"social\" + 0.034*\"caso\" + '\n  '0.003*\"diputado\" + 0.003*\"versin\" + 0.003*\"discrepancias\" + 0.003*\"oficial\" '\n  '+ 0.000*\"fuertes\" + 0.000*\"acuerdos\"'),\n (4,\n  '0.075*\"ayotzinapa\" + 0.040*\"seis\" + 0.040*\"detiene\" + 0.040*\"pgr\" + '\n  '0.040*\"alumnos\" + 0.040*\"trasladados\" + 0.040*\"delegacin\" + 0.034*\"ayer\" + '\n  '0.034*\"la\" + 0.034*\"dos\"'),\n (5,\n  '0.179*\"similitudes\" + 0.154*\"cndh\" + 0.027*\"hay\" + 0.027*\"luisgarca\" + '\n  '0.027*\"operativo\" + 0.027*\"autopistadelsol\" + 0.003*\"ayotzinapa\" + '\n  '0.003*\"chalchihuapan\" + 0.002*\"ahora\" + 0.002*\"facundo\"'),\n (6,\n  '0.113*\"normalistas\" + 0.107*\"comunitarios\" + 0.107*\"policas\" + '\n  '0.107*\"protestan\" + 0.104*\"ayotzinapa\" + 0.100*\"aguirre\" + 0.094*\"guerrero\" '\n  '+ 0.093*\"protestaron\" + 0.008*\"consumado\" + 0.008*\"gorila\"'),\n (7,\n  '0.224*\"ayotzinapa\" + 0.157*\"chalchihuapan\" + 0.106*\"plascencia\" + '\n  '0.072*\"vez\" + 0.052*\"primera\" + 0.043*\"ral\" + 0.011*\"policas\" + '\n  '0.011*\"autobs\" + 0.011*\"recuperan\" + 0.011*\"jvenes\"'),\n (8,\n  '0.110*\"en\" + 0.110*\"gro\" + 0.032*\"ayotzinapa\" + 0.028*\"rabioso\" + '\n  '0.028*\"perro\" + 0.028*\"haba\" + 0.028*\"ya\" + 0.028*\"facando\" + '\n  '0.028*\"asesinado\" + 0.028*\"este\"'),\n (9,\n  '0.095*\"facundo\" + 0.095*\"rosas\" + 0.095*\"cndh\" + 0.092*\"repite\" + '\n  '0.092*\"historia\" + 0.092*\"responde\" + 0.092*\"ahora\" + 0.089*\"ayotzinapa\" + '\n  '0.089*\"propia\" + 0.089*\"puebla\"'),\n (10,\n  '0.482*\"guerrero\" + 0.154*\"ayotzinapa\" + 0.012*\"investigacin\" + '\n  '0.012*\"manifestantes\" + 0.012*\"facultad\" + 0.012*\"interesante\" + '\n  '0.012*\"casos\" + 0.012*\"represin\" + 0.012*\"ejercido\" + 0.012*\"prote\"'),\n (11,\n  '0.004*\"estudiantil\" + 0.004*\"comit\" + 0.004*\"ocasin\" + 0.004*\"es\" + '\n  '0.004*\"citado\" + 0.004*\"final\" + 0.004*\"creo\" + 0.004*\"segunda\" + '\n  '0.004*\"isidro\" + 0.004*\"egresados\"'),\n (12,\n  '0.407*\"el\" + 0.083*\"ayotzinapa\" + 0.043*\"de\" + 0.043*\"asesinato\" + '\n  '0.042*\"acapulco\" + 0.021*\"chilpancingo\" + 0.013*\"normalistas\" + '\n  '0.011*\"niega\" + 0.011*\"uso\" + 0.011*\"como\"'),\n (13,\n  '0.004*\"chilpancingo\" + 0.004*\"ayotzinapa\" + 0.004*\"detiene\" + '\n  '0.004*\"delegacin\" + 0.004*\"alumnos\" + 0.004*\"trasladados\" + 0.004*\"pgr\" + '\n  '0.004*\"seis\" + 0.004*\"primero\" + 0.004*\"es\"'),\n (14,\n  '0.004*\"ayotzinapa\" + 0.004*\"auto\" + 0.004*\"pgr\" + 0.004*\"responde\" + '\n  '0.004*\"rosas\" + 0.004*\"chilpancingo\" + 0.004*\"familia\" + 0.004*\"esc\" + '\n  '0.004*\"avisa\" + 0.004*\"puebla\"'),\n (15,\n  '0.004*\"rosas\" + 0.004*\"cndh\" + 0.004*\"puebla\" + 0.004*\"facundo\" + '\n  '0.004*\"repite\" + 0.004*\"responde\" + 0.004*\"propia\" + 0.004*\"ahora\" + '\n  '0.004*\"historia\" + 0.004*\"ayotzinapa\"'),\n (16,\n  '0.004*\"rosas\" + 0.004*\"ahora\" + 0.004*\"cndh\" + 0.004*\"facundo\" + '\n  '0.004*\"ayotzinapa\" + 0.004*\"viol\" + 0.004*\"comparece\" + '\n  '0.004*\"chalchihuapan\" + 0.004*\"derechos\" + 0.004*\"humanos\"'),\n (17,\n  '0.055*\"gober\" + 0.037*\"ayotzinapa\" + 0.029*\"amigos\" + 0.029*\"pasa\" + '\n  '0.029*\"poblanos\" + 0.029*\"precioso\" + 0.029*\"recicla\" + 0.029*\"matn\" + '\n  '0.029*\"tambin\" + 0.029*\"represin\"'),\n (18,\n  '0.102*\"normalistas\" + 0.095*\"ayotzinapa\" + 0.082*\"secuestran\" + '\n  '0.062*\"autobs\" + 0.044*\"muerte\" + 0.041*\"turstico\" + 0.038*\"cndh\" + '\n  '0.025*\"facundo\" + 0.025*\"rosas\" + 0.022*\"acapulco\"'),\n (19,\n  '0.004*\"robar\" + 0.004*\"trasladados\" + 0.004*\"alumnos\" + 0.004*\"delegacin\" + '\n  '0.004*\"detiene\" + 0.004*\"pgr\" + 0.004*\"seis\" + 0.004*\"chilpo\" + '\n  '0.004*\"autobus\" + 0.004*\"ayotzinapa\"')]\n"
     ]
    }
   ],
   "source": [
    "# Print the Keyword in the 10 topics\n",
    "pprint(lda_model.print_topics())\n",
    "doc_lda = lda_model[corpus]"
   ]
  },
  {
   "cell_type": "markdown",
   "metadata": {
    "id": "N3TZ9T9Rz3W-"
   },
   "source": [
    "Compute Model Perplexity and Coherence Score"
   ]
  },
  {
   "cell_type": "markdown",
   "metadata": {
    "id": "a1Y0B_Oj0QEq"
   },
   "source": [
    "Model perplexity and topic coherence provide a convenient measure to judge how good a given topic model is"
   ]
  },
  {
   "cell_type": "code",
   "execution_count": 22,
   "metadata": {
    "colab": {
     "base_uri": "https://localhost:8080/"
    },
    "executionInfo": {
     "elapsed": 4307,
     "status": "ok",
     "timestamp": 1614124357340,
     "user": {
      "displayName": "Amber Chin",
      "photoUrl": "https://lh3.googleusercontent.com/a-/AOh14GhqQ3HKfxHEOElesBq7SMuZYsdydWvOoR4EnPWB=s64",
      "userId": "11852158757476387374"
     },
     "user_tz": 360
    },
    "id": "sGR4eRcg0Rln",
    "outputId": "fac11b74-fd7c-49dc-ffd8-f287631a7711"
   },
   "outputs": [
    {
     "output_type": "stream",
     "name": "stdout",
     "text": [
      "\n",
      "Perplexity:  -7.530423025425079\n",
      "\n",
      "Coherence Score:  0.31732030106281617\n"
     ]
    }
   ],
   "source": [
    "# Compute Perplexity\n",
    "print('\\nPerplexity: ', lda_model.log_perplexity(corpus))  # a measure of how good the model is. lower the better.\n",
    "\n",
    "# Compute Coherence Score\n",
    "coherence_model_lda = CoherenceModel(model=lda_model, texts=data_words, dictionary=id2word, coherence='c_v')\n",
    "coherence_lda = coherence_model_lda.get_coherence()\n",
    "print('\\nCoherence Score: ', coherence_lda)"
   ]
  },
  {
   "cell_type": "markdown",
   "metadata": {
    "id": "HiuotG6Y6AUc"
   },
   "source": [
    "How to find the optimal number of topics for LDA?"
   ]
  },
  {
   "cell_type": "code",
   "execution_count": 23,
   "metadata": {
    "id": "-sjECMH5W77f"
   },
   "outputs": [],
   "source": [
    "def compute_coherence_values(dictionary, corpus, texts, limit, start=2, step=3):\n",
    "    \"\"\"\n",
    "    Compute c_v coherence for various number of topics\n",
    "\n",
    "    Parameters:\n",
    "    ----------\n",
    "    dictionary : Gensim dictionary\n",
    "    corpus : Gensim corpus\n",
    "    texts : List of input texts\n",
    "    limit : Max num of topics\n",
    "\n",
    "    Returns:\n",
    "    -------\n",
    "    model_list : List of LDA topic models\n",
    "    coherence_values : Coherence values corresponding to the LDA model with respective number of topics\n",
    "    \"\"\"\n",
    "    coherence_values = []\n",
    "    model_list = []\n",
    "    for num_topics in range(start, limit, step):\n",
    "        model = gensim.models.ldamodel.LdaModel(corpus=corpus, num_topics=num_topics, id2word=id2word)\n",
    "        model_list.append(model)\n",
    "        coherencemodel = CoherenceModel(model=model, texts=texts, dictionary=dictionary, coherence='c_v')\n",
    "        coherence_values.append(coherencemodel.get_coherence())\n",
    "\n",
    "    return model_list, coherence_values"
   ]
  },
  {
   "cell_type": "code",
   "execution_count": 24,
   "metadata": {
    "id": "MLZZW4dJW-Fn"
   },
   "outputs": [
    {
     "output_type": "stream",
     "name": "stderr",
     "text": [
      "C:\\Users\\swcam\\Anaconda3\\lib\\site-packages\\gensim\\topic_coherence\\direct_confirmation_measure.py:204: RuntimeWarning: divide by zero encountered in double_scalars\n  m_lr_i = np.log(numerator / denominator)\nC:\\Users\\swcam\\Anaconda3\\lib\\site-packages\\gensim\\topic_coherence\\indirect_confirmation_measure.py:323: RuntimeWarning: invalid value encountered in double_scalars\n  return cv1.T.dot(cv2)[0, 0] / (_magnitude(cv1) * _magnitude(cv2))\n"
     ]
    }
   ],
   "source": [
    "model_list, coherence_values = compute_coherence_values(dictionary=id2word, corpus=corpus, texts=data_lemmatized, start=2, limit=40, step=6)"
   ]
  },
  {
   "cell_type": "code",
   "execution_count": 25,
   "metadata": {
    "colab": {
     "base_uri": "https://localhost:8080/",
     "height": 283
    },
    "executionInfo": {
     "elapsed": 86038,
     "status": "ok",
     "timestamp": 1595615788510,
     "user": {
      "displayName": "Carlos Martinez",
      "photoUrl": "",
      "userId": "05600005939339517061"
     },
     "user_tz": 240
    },
    "id": "YQJ2dS3uZ1cr",
    "outputId": "bd16aa6d-1d5e-4261-e0bb-aa43f1b3a148"
   },
   "outputs": [
    {
     "output_type": "display_data",
     "data": {
      "text/plain": "<Figure size 432x288 with 1 Axes>",
      "image/svg+xml": "<?xml version=\"1.0\" encoding=\"utf-8\" standalone=\"no\"?>\r\n<!DOCTYPE svg PUBLIC \"-//W3C//DTD SVG 1.1//EN\"\r\n  \"http://www.w3.org/Graphics/SVG/1.1/DTD/svg11.dtd\">\r\n<!-- Created with matplotlib (https://matplotlib.org/) -->\r\n<svg height=\"262.19625pt\" version=\"1.1\" viewBox=\"0 0 400.523437 262.19625\" width=\"400.523437pt\" xmlns=\"http://www.w3.org/2000/svg\" xmlns:xlink=\"http://www.w3.org/1999/xlink\">\r\n <metadata>\r\n  <rdf:RDF xmlns:cc=\"http://creativecommons.org/ns#\" xmlns:dc=\"http://purl.org/dc/elements/1.1/\" xmlns:rdf=\"http://www.w3.org/1999/02/22-rdf-syntax-ns#\">\r\n   <cc:Work>\r\n    <dc:type rdf:resource=\"http://purl.org/dc/dcmitype/StillImage\"/>\r\n    <dc:date>2021-05-14T06:03:46.163261</dc:date>\r\n    <dc:format>image/svg+xml</dc:format>\r\n    <dc:creator>\r\n     <cc:Agent>\r\n      <dc:title>Matplotlib v3.3.2, https://matplotlib.org/</dc:title>\r\n     </cc:Agent>\r\n    </dc:creator>\r\n   </cc:Work>\r\n  </rdf:RDF>\r\n </metadata>\r\n <defs>\r\n  <style type=\"text/css\">*{stroke-linecap:butt;stroke-linejoin:round;}</style>\r\n </defs>\r\n <g id=\"figure_1\">\r\n  <g id=\"patch_1\">\r\n   <path d=\"M 0 262.19625 \r\nL 400.523437 262.19625 \r\nL 400.523437 0 \r\nL 0 0 \r\nz\r\n\" style=\"fill:none;\"/>\r\n  </g>\r\n  <g id=\"axes_1\">\r\n   <g id=\"patch_2\">\r\n    <path d=\"M 58.523438 224.64 \r\nL 393.323438 224.64 \r\nL 393.323438 7.2 \r\nL 58.523438 7.2 \r\nz\r\n\" style=\"fill:#ffffff;\"/>\r\n   </g>\r\n   <g id=\"matplotlib.axis_1\">\r\n    <g id=\"xtick_1\">\r\n     <g id=\"line2d_1\">\r\n      <defs>\r\n       <path d=\"M 0 0 \r\nL 0 3.5 \r\n\" id=\"m9e1c68faaf\" style=\"stroke:#000000;stroke-width:0.8;\"/>\r\n      </defs>\r\n      <g>\r\n       <use style=\"stroke:#000000;stroke-width:0.8;\" x=\"104.177983\" xlink:href=\"#m9e1c68faaf\" y=\"224.64\"/>\r\n      </g>\r\n     </g>\r\n     <g id=\"text_1\">\r\n      <!-- −0.04 -->\r\n      <g transform=\"translate(88.855327 239.238437)scale(0.1 -0.1)\">\r\n       <defs>\r\n        <path d=\"M 10.59375 35.5 \r\nL 73.1875 35.5 \r\nL 73.1875 27.203125 \r\nL 10.59375 27.203125 \r\nz\r\n\" id=\"DejaVuSans-8722\"/>\r\n        <path d=\"M 31.78125 66.40625 \r\nQ 24.171875 66.40625 20.328125 58.90625 \r\nQ 16.5 51.421875 16.5 36.375 \r\nQ 16.5 21.390625 20.328125 13.890625 \r\nQ 24.171875 6.390625 31.78125 6.390625 \r\nQ 39.453125 6.390625 43.28125 13.890625 \r\nQ 47.125 21.390625 47.125 36.375 \r\nQ 47.125 51.421875 43.28125 58.90625 \r\nQ 39.453125 66.40625 31.78125 66.40625 \r\nz\r\nM 31.78125 74.21875 \r\nQ 44.046875 74.21875 50.515625 64.515625 \r\nQ 56.984375 54.828125 56.984375 36.375 \r\nQ 56.984375 17.96875 50.515625 8.265625 \r\nQ 44.046875 -1.421875 31.78125 -1.421875 \r\nQ 19.53125 -1.421875 13.0625 8.265625 \r\nQ 6.59375 17.96875 6.59375 36.375 \r\nQ 6.59375 54.828125 13.0625 64.515625 \r\nQ 19.53125 74.21875 31.78125 74.21875 \r\nz\r\n\" id=\"DejaVuSans-48\"/>\r\n        <path d=\"M 10.6875 12.40625 \r\nL 21 12.40625 \r\nL 21 0 \r\nL 10.6875 0 \r\nz\r\n\" id=\"DejaVuSans-46\"/>\r\n        <path d=\"M 37.796875 64.3125 \r\nL 12.890625 25.390625 \r\nL 37.796875 25.390625 \r\nz\r\nM 35.203125 72.90625 \r\nL 47.609375 72.90625 \r\nL 47.609375 25.390625 \r\nL 58.015625 25.390625 \r\nL 58.015625 17.1875 \r\nL 47.609375 17.1875 \r\nL 47.609375 0 \r\nL 37.796875 0 \r\nL 37.796875 17.1875 \r\nL 4.890625 17.1875 \r\nL 4.890625 26.703125 \r\nz\r\n\" id=\"DejaVuSans-52\"/>\r\n       </defs>\r\n       <use xlink:href=\"#DejaVuSans-8722\"/>\r\n       <use x=\"83.789062\" xlink:href=\"#DejaVuSans-48\"/>\r\n       <use x=\"147.412109\" xlink:href=\"#DejaVuSans-46\"/>\r\n       <use x=\"179.199219\" xlink:href=\"#DejaVuSans-48\"/>\r\n       <use x=\"242.822266\" xlink:href=\"#DejaVuSans-52\"/>\r\n      </g>\r\n     </g>\r\n    </g>\r\n    <g id=\"xtick_2\">\r\n     <g id=\"line2d_2\">\r\n      <g>\r\n       <use style=\"stroke:#000000;stroke-width:0.8;\" x=\"165.05071\" xlink:href=\"#m9e1c68faaf\" y=\"224.64\"/>\r\n      </g>\r\n     </g>\r\n     <g id=\"text_2\">\r\n      <!-- −0.02 -->\r\n      <g transform=\"translate(149.728054 239.238437)scale(0.1 -0.1)\">\r\n       <defs>\r\n        <path d=\"M 19.1875 8.296875 \r\nL 53.609375 8.296875 \r\nL 53.609375 0 \r\nL 7.328125 0 \r\nL 7.328125 8.296875 \r\nQ 12.9375 14.109375 22.625 23.890625 \r\nQ 32.328125 33.6875 34.8125 36.53125 \r\nQ 39.546875 41.84375 41.421875 45.53125 \r\nQ 43.3125 49.21875 43.3125 52.78125 \r\nQ 43.3125 58.59375 39.234375 62.25 \r\nQ 35.15625 65.921875 28.609375 65.921875 \r\nQ 23.96875 65.921875 18.8125 64.3125 \r\nQ 13.671875 62.703125 7.8125 59.421875 \r\nL 7.8125 69.390625 \r\nQ 13.765625 71.78125 18.9375 73 \r\nQ 24.125 74.21875 28.421875 74.21875 \r\nQ 39.75 74.21875 46.484375 68.546875 \r\nQ 53.21875 62.890625 53.21875 53.421875 \r\nQ 53.21875 48.921875 51.53125 44.890625 \r\nQ 49.859375 40.875 45.40625 35.40625 \r\nQ 44.1875 33.984375 37.640625 27.21875 \r\nQ 31.109375 20.453125 19.1875 8.296875 \r\nz\r\n\" id=\"DejaVuSans-50\"/>\r\n       </defs>\r\n       <use xlink:href=\"#DejaVuSans-8722\"/>\r\n       <use x=\"83.789062\" xlink:href=\"#DejaVuSans-48\"/>\r\n       <use x=\"147.412109\" xlink:href=\"#DejaVuSans-46\"/>\r\n       <use x=\"179.199219\" xlink:href=\"#DejaVuSans-48\"/>\r\n       <use x=\"242.822266\" xlink:href=\"#DejaVuSans-50\"/>\r\n      </g>\r\n     </g>\r\n    </g>\r\n    <g id=\"xtick_3\">\r\n     <g id=\"line2d_3\">\r\n      <g>\r\n       <use style=\"stroke:#000000;stroke-width:0.8;\" x=\"225.923438\" xlink:href=\"#m9e1c68faaf\" y=\"224.64\"/>\r\n      </g>\r\n     </g>\r\n     <g id=\"text_3\">\r\n      <!-- 0.00 -->\r\n      <g transform=\"translate(214.790625 239.238437)scale(0.1 -0.1)\">\r\n       <use xlink:href=\"#DejaVuSans-48\"/>\r\n       <use x=\"63.623047\" xlink:href=\"#DejaVuSans-46\"/>\r\n       <use x=\"95.410156\" xlink:href=\"#DejaVuSans-48\"/>\r\n       <use x=\"159.033203\" xlink:href=\"#DejaVuSans-48\"/>\r\n      </g>\r\n     </g>\r\n    </g>\r\n    <g id=\"xtick_4\">\r\n     <g id=\"line2d_4\">\r\n      <g>\r\n       <use style=\"stroke:#000000;stroke-width:0.8;\" x=\"286.796165\" xlink:href=\"#m9e1c68faaf\" y=\"224.64\"/>\r\n      </g>\r\n     </g>\r\n     <g id=\"text_4\">\r\n      <!-- 0.02 -->\r\n      <g transform=\"translate(275.663352 239.238437)scale(0.1 -0.1)\">\r\n       <use xlink:href=\"#DejaVuSans-48\"/>\r\n       <use x=\"63.623047\" xlink:href=\"#DejaVuSans-46\"/>\r\n       <use x=\"95.410156\" xlink:href=\"#DejaVuSans-48\"/>\r\n       <use x=\"159.033203\" xlink:href=\"#DejaVuSans-50\"/>\r\n      </g>\r\n     </g>\r\n    </g>\r\n    <g id=\"xtick_5\">\r\n     <g id=\"line2d_5\">\r\n      <g>\r\n       <use style=\"stroke:#000000;stroke-width:0.8;\" x=\"347.668892\" xlink:href=\"#m9e1c68faaf\" y=\"224.64\"/>\r\n      </g>\r\n     </g>\r\n     <g id=\"text_5\">\r\n      <!-- 0.04 -->\r\n      <g transform=\"translate(336.53608 239.238437)scale(0.1 -0.1)\">\r\n       <use xlink:href=\"#DejaVuSans-48\"/>\r\n       <use x=\"63.623047\" xlink:href=\"#DejaVuSans-46\"/>\r\n       <use x=\"95.410156\" xlink:href=\"#DejaVuSans-48\"/>\r\n       <use x=\"159.033203\" xlink:href=\"#DejaVuSans-52\"/>\r\n      </g>\r\n     </g>\r\n    </g>\r\n    <g id=\"text_6\">\r\n     <!-- Num Topics -->\r\n     <g transform=\"translate(197.374219 252.916562)scale(0.1 -0.1)\">\r\n      <defs>\r\n       <path d=\"M 9.8125 72.90625 \r\nL 23.09375 72.90625 \r\nL 55.421875 11.921875 \r\nL 55.421875 72.90625 \r\nL 64.984375 72.90625 \r\nL 64.984375 0 \r\nL 51.703125 0 \r\nL 19.390625 60.984375 \r\nL 19.390625 0 \r\nL 9.8125 0 \r\nz\r\n\" id=\"DejaVuSans-78\"/>\r\n       <path d=\"M 8.5 21.578125 \r\nL 8.5 54.6875 \r\nL 17.484375 54.6875 \r\nL 17.484375 21.921875 \r\nQ 17.484375 14.15625 20.5 10.265625 \r\nQ 23.53125 6.390625 29.59375 6.390625 \r\nQ 36.859375 6.390625 41.078125 11.03125 \r\nQ 45.3125 15.671875 45.3125 23.6875 \r\nL 45.3125 54.6875 \r\nL 54.296875 54.6875 \r\nL 54.296875 0 \r\nL 45.3125 0 \r\nL 45.3125 8.40625 \r\nQ 42.046875 3.421875 37.71875 1 \r\nQ 33.40625 -1.421875 27.6875 -1.421875 \r\nQ 18.265625 -1.421875 13.375 4.4375 \r\nQ 8.5 10.296875 8.5 21.578125 \r\nz\r\nM 31.109375 56 \r\nz\r\n\" id=\"DejaVuSans-117\"/>\r\n       <path d=\"M 52 44.1875 \r\nQ 55.375 50.25 60.0625 53.125 \r\nQ 64.75 56 71.09375 56 \r\nQ 79.640625 56 84.28125 50.015625 \r\nQ 88.921875 44.046875 88.921875 33.015625 \r\nL 88.921875 0 \r\nL 79.890625 0 \r\nL 79.890625 32.71875 \r\nQ 79.890625 40.578125 77.09375 44.375 \r\nQ 74.3125 48.1875 68.609375 48.1875 \r\nQ 61.625 48.1875 57.5625 43.546875 \r\nQ 53.515625 38.921875 53.515625 30.90625 \r\nL 53.515625 0 \r\nL 44.484375 0 \r\nL 44.484375 32.71875 \r\nQ 44.484375 40.625 41.703125 44.40625 \r\nQ 38.921875 48.1875 33.109375 48.1875 \r\nQ 26.21875 48.1875 22.15625 43.53125 \r\nQ 18.109375 38.875 18.109375 30.90625 \r\nL 18.109375 0 \r\nL 9.078125 0 \r\nL 9.078125 54.6875 \r\nL 18.109375 54.6875 \r\nL 18.109375 46.1875 \r\nQ 21.1875 51.21875 25.484375 53.609375 \r\nQ 29.78125 56 35.6875 56 \r\nQ 41.65625 56 45.828125 52.96875 \r\nQ 50 49.953125 52 44.1875 \r\nz\r\n\" id=\"DejaVuSans-109\"/>\r\n       <path id=\"DejaVuSans-32\"/>\r\n       <path d=\"M -0.296875 72.90625 \r\nL 61.375 72.90625 \r\nL 61.375 64.59375 \r\nL 35.5 64.59375 \r\nL 35.5 0 \r\nL 25.59375 0 \r\nL 25.59375 64.59375 \r\nL -0.296875 64.59375 \r\nz\r\n\" id=\"DejaVuSans-84\"/>\r\n       <path d=\"M 30.609375 48.390625 \r\nQ 23.390625 48.390625 19.1875 42.75 \r\nQ 14.984375 37.109375 14.984375 27.296875 \r\nQ 14.984375 17.484375 19.15625 11.84375 \r\nQ 23.34375 6.203125 30.609375 6.203125 \r\nQ 37.796875 6.203125 41.984375 11.859375 \r\nQ 46.1875 17.53125 46.1875 27.296875 \r\nQ 46.1875 37.015625 41.984375 42.703125 \r\nQ 37.796875 48.390625 30.609375 48.390625 \r\nz\r\nM 30.609375 56 \r\nQ 42.328125 56 49.015625 48.375 \r\nQ 55.71875 40.765625 55.71875 27.296875 \r\nQ 55.71875 13.875 49.015625 6.21875 \r\nQ 42.328125 -1.421875 30.609375 -1.421875 \r\nQ 18.84375 -1.421875 12.171875 6.21875 \r\nQ 5.515625 13.875 5.515625 27.296875 \r\nQ 5.515625 40.765625 12.171875 48.375 \r\nQ 18.84375 56 30.609375 56 \r\nz\r\n\" id=\"DejaVuSans-111\"/>\r\n       <path d=\"M 18.109375 8.203125 \r\nL 18.109375 -20.796875 \r\nL 9.078125 -20.796875 \r\nL 9.078125 54.6875 \r\nL 18.109375 54.6875 \r\nL 18.109375 46.390625 \r\nQ 20.953125 51.265625 25.265625 53.625 \r\nQ 29.59375 56 35.59375 56 \r\nQ 45.5625 56 51.78125 48.09375 \r\nQ 58.015625 40.1875 58.015625 27.296875 \r\nQ 58.015625 14.40625 51.78125 6.484375 \r\nQ 45.5625 -1.421875 35.59375 -1.421875 \r\nQ 29.59375 -1.421875 25.265625 0.953125 \r\nQ 20.953125 3.328125 18.109375 8.203125 \r\nz\r\nM 48.6875 27.296875 \r\nQ 48.6875 37.203125 44.609375 42.84375 \r\nQ 40.53125 48.484375 33.40625 48.484375 \r\nQ 26.265625 48.484375 22.1875 42.84375 \r\nQ 18.109375 37.203125 18.109375 27.296875 \r\nQ 18.109375 17.390625 22.1875 11.75 \r\nQ 26.265625 6.109375 33.40625 6.109375 \r\nQ 40.53125 6.109375 44.609375 11.75 \r\nQ 48.6875 17.390625 48.6875 27.296875 \r\nz\r\n\" id=\"DejaVuSans-112\"/>\r\n       <path d=\"M 9.421875 54.6875 \r\nL 18.40625 54.6875 \r\nL 18.40625 0 \r\nL 9.421875 0 \r\nz\r\nM 9.421875 75.984375 \r\nL 18.40625 75.984375 \r\nL 18.40625 64.59375 \r\nL 9.421875 64.59375 \r\nz\r\n\" id=\"DejaVuSans-105\"/>\r\n       <path d=\"M 48.78125 52.59375 \r\nL 48.78125 44.1875 \r\nQ 44.96875 46.296875 41.140625 47.34375 \r\nQ 37.3125 48.390625 33.40625 48.390625 \r\nQ 24.65625 48.390625 19.8125 42.84375 \r\nQ 14.984375 37.3125 14.984375 27.296875 \r\nQ 14.984375 17.28125 19.8125 11.734375 \r\nQ 24.65625 6.203125 33.40625 6.203125 \r\nQ 37.3125 6.203125 41.140625 7.25 \r\nQ 44.96875 8.296875 48.78125 10.40625 \r\nL 48.78125 2.09375 \r\nQ 45.015625 0.34375 40.984375 -0.53125 \r\nQ 36.96875 -1.421875 32.421875 -1.421875 \r\nQ 20.0625 -1.421875 12.78125 6.34375 \r\nQ 5.515625 14.109375 5.515625 27.296875 \r\nQ 5.515625 40.671875 12.859375 48.328125 \r\nQ 20.21875 56 33.015625 56 \r\nQ 37.15625 56 41.109375 55.140625 \r\nQ 45.0625 54.296875 48.78125 52.59375 \r\nz\r\n\" id=\"DejaVuSans-99\"/>\r\n       <path d=\"M 44.28125 53.078125 \r\nL 44.28125 44.578125 \r\nQ 40.484375 46.53125 36.375 47.5 \r\nQ 32.28125 48.484375 27.875 48.484375 \r\nQ 21.1875 48.484375 17.84375 46.4375 \r\nQ 14.5 44.390625 14.5 40.28125 \r\nQ 14.5 37.15625 16.890625 35.375 \r\nQ 19.28125 33.59375 26.515625 31.984375 \r\nL 29.59375 31.296875 \r\nQ 39.15625 29.25 43.1875 25.515625 \r\nQ 47.21875 21.78125 47.21875 15.09375 \r\nQ 47.21875 7.46875 41.1875 3.015625 \r\nQ 35.15625 -1.421875 24.609375 -1.421875 \r\nQ 20.21875 -1.421875 15.453125 -0.5625 \r\nQ 10.6875 0.296875 5.421875 2 \r\nL 5.421875 11.28125 \r\nQ 10.40625 8.6875 15.234375 7.390625 \r\nQ 20.0625 6.109375 24.8125 6.109375 \r\nQ 31.15625 6.109375 34.5625 8.28125 \r\nQ 37.984375 10.453125 37.984375 14.40625 \r\nQ 37.984375 18.0625 35.515625 20.015625 \r\nQ 33.0625 21.96875 24.703125 23.78125 \r\nL 21.578125 24.515625 \r\nQ 13.234375 26.265625 9.515625 29.90625 \r\nQ 5.8125 33.546875 5.8125 39.890625 \r\nQ 5.8125 47.609375 11.28125 51.796875 \r\nQ 16.75 56 26.8125 56 \r\nQ 31.78125 56 36.171875 55.265625 \r\nQ 40.578125 54.546875 44.28125 53.078125 \r\nz\r\n\" id=\"DejaVuSans-115\"/>\r\n      </defs>\r\n      <use xlink:href=\"#DejaVuSans-78\"/>\r\n      <use x=\"74.804688\" xlink:href=\"#DejaVuSans-117\"/>\r\n      <use x=\"138.183594\" xlink:href=\"#DejaVuSans-109\"/>\r\n      <use x=\"235.595703\" xlink:href=\"#DejaVuSans-32\"/>\r\n      <use x=\"267.382812\" xlink:href=\"#DejaVuSans-84\"/>\r\n      <use x=\"311.466797\" xlink:href=\"#DejaVuSans-111\"/>\r\n      <use x=\"372.648438\" xlink:href=\"#DejaVuSans-112\"/>\r\n      <use x=\"436.125\" xlink:href=\"#DejaVuSans-105\"/>\r\n      <use x=\"463.908203\" xlink:href=\"#DejaVuSans-99\"/>\r\n      <use x=\"518.888672\" xlink:href=\"#DejaVuSans-115\"/>\r\n     </g>\r\n    </g>\r\n   </g>\r\n   <g id=\"matplotlib.axis_2\">\r\n    <g id=\"ytick_1\">\r\n     <g id=\"line2d_6\">\r\n      <defs>\r\n       <path d=\"M 0 0 \r\nL -3.5 0 \r\n\" id=\"m83d7b08fa8\" style=\"stroke:#000000;stroke-width:0.8;\"/>\r\n      </defs>\r\n      <g>\r\n       <use style=\"stroke:#000000;stroke-width:0.8;\" x=\"58.523438\" xlink:href=\"#m83d7b08fa8\" y=\"194.989091\"/>\r\n      </g>\r\n     </g>\r\n     <g id=\"text_7\">\r\n      <!-- −0.04 -->\r\n      <g transform=\"translate(20.878125 198.78831)scale(0.1 -0.1)\">\r\n       <use xlink:href=\"#DejaVuSans-8722\"/>\r\n       <use x=\"83.789062\" xlink:href=\"#DejaVuSans-48\"/>\r\n       <use x=\"147.412109\" xlink:href=\"#DejaVuSans-46\"/>\r\n       <use x=\"179.199219\" xlink:href=\"#DejaVuSans-48\"/>\r\n       <use x=\"242.822266\" xlink:href=\"#DejaVuSans-52\"/>\r\n      </g>\r\n     </g>\r\n    </g>\r\n    <g id=\"ytick_2\">\r\n     <g id=\"line2d_7\">\r\n      <g>\r\n       <use style=\"stroke:#000000;stroke-width:0.8;\" x=\"58.523438\" xlink:href=\"#m83d7b08fa8\" y=\"155.454545\"/>\r\n      </g>\r\n     </g>\r\n     <g id=\"text_8\">\r\n      <!-- −0.02 -->\r\n      <g transform=\"translate(20.878125 159.253764)scale(0.1 -0.1)\">\r\n       <use xlink:href=\"#DejaVuSans-8722\"/>\r\n       <use x=\"83.789062\" xlink:href=\"#DejaVuSans-48\"/>\r\n       <use x=\"147.412109\" xlink:href=\"#DejaVuSans-46\"/>\r\n       <use x=\"179.199219\" xlink:href=\"#DejaVuSans-48\"/>\r\n       <use x=\"242.822266\" xlink:href=\"#DejaVuSans-50\"/>\r\n      </g>\r\n     </g>\r\n    </g>\r\n    <g id=\"ytick_3\">\r\n     <g id=\"line2d_8\">\r\n      <g>\r\n       <use style=\"stroke:#000000;stroke-width:0.8;\" x=\"58.523438\" xlink:href=\"#m83d7b08fa8\" y=\"115.92\"/>\r\n      </g>\r\n     </g>\r\n     <g id=\"text_9\">\r\n      <!-- 0.00 -->\r\n      <g transform=\"translate(29.257813 119.719219)scale(0.1 -0.1)\">\r\n       <use xlink:href=\"#DejaVuSans-48\"/>\r\n       <use x=\"63.623047\" xlink:href=\"#DejaVuSans-46\"/>\r\n       <use x=\"95.410156\" xlink:href=\"#DejaVuSans-48\"/>\r\n       <use x=\"159.033203\" xlink:href=\"#DejaVuSans-48\"/>\r\n      </g>\r\n     </g>\r\n    </g>\r\n    <g id=\"ytick_4\">\r\n     <g id=\"line2d_9\">\r\n      <g>\r\n       <use style=\"stroke:#000000;stroke-width:0.8;\" x=\"58.523438\" xlink:href=\"#m83d7b08fa8\" y=\"76.385455\"/>\r\n      </g>\r\n     </g>\r\n     <g id=\"text_10\">\r\n      <!-- 0.02 -->\r\n      <g transform=\"translate(29.257813 80.184673)scale(0.1 -0.1)\">\r\n       <use xlink:href=\"#DejaVuSans-48\"/>\r\n       <use x=\"63.623047\" xlink:href=\"#DejaVuSans-46\"/>\r\n       <use x=\"95.410156\" xlink:href=\"#DejaVuSans-48\"/>\r\n       <use x=\"159.033203\" xlink:href=\"#DejaVuSans-50\"/>\r\n      </g>\r\n     </g>\r\n    </g>\r\n    <g id=\"ytick_5\">\r\n     <g id=\"line2d_10\">\r\n      <g>\r\n       <use style=\"stroke:#000000;stroke-width:0.8;\" x=\"58.523438\" xlink:href=\"#m83d7b08fa8\" y=\"36.850909\"/>\r\n      </g>\r\n     </g>\r\n     <g id=\"text_11\">\r\n      <!-- 0.04 -->\r\n      <g transform=\"translate(29.257813 40.650128)scale(0.1 -0.1)\">\r\n       <use xlink:href=\"#DejaVuSans-48\"/>\r\n       <use x=\"63.623047\" xlink:href=\"#DejaVuSans-46\"/>\r\n       <use x=\"95.410156\" xlink:href=\"#DejaVuSans-48\"/>\r\n       <use x=\"159.033203\" xlink:href=\"#DejaVuSans-52\"/>\r\n      </g>\r\n     </g>\r\n    </g>\r\n    <g id=\"text_12\">\r\n     <!-- Coherence score -->\r\n     <g transform=\"translate(14.798438 157.752031)rotate(-90)scale(0.1 -0.1)\">\r\n      <defs>\r\n       <path d=\"M 64.40625 67.28125 \r\nL 64.40625 56.890625 \r\nQ 59.421875 61.53125 53.78125 63.8125 \r\nQ 48.140625 66.109375 41.796875 66.109375 \r\nQ 29.296875 66.109375 22.65625 58.46875 \r\nQ 16.015625 50.828125 16.015625 36.375 \r\nQ 16.015625 21.96875 22.65625 14.328125 \r\nQ 29.296875 6.6875 41.796875 6.6875 \r\nQ 48.140625 6.6875 53.78125 8.984375 \r\nQ 59.421875 11.28125 64.40625 15.921875 \r\nL 64.40625 5.609375 \r\nQ 59.234375 2.09375 53.4375 0.328125 \r\nQ 47.65625 -1.421875 41.21875 -1.421875 \r\nQ 24.65625 -1.421875 15.125 8.703125 \r\nQ 5.609375 18.84375 5.609375 36.375 \r\nQ 5.609375 53.953125 15.125 64.078125 \r\nQ 24.65625 74.21875 41.21875 74.21875 \r\nQ 47.75 74.21875 53.53125 72.484375 \r\nQ 59.328125 70.75 64.40625 67.28125 \r\nz\r\n\" id=\"DejaVuSans-67\"/>\r\n       <path d=\"M 54.890625 33.015625 \r\nL 54.890625 0 \r\nL 45.90625 0 \r\nL 45.90625 32.71875 \r\nQ 45.90625 40.484375 42.875 44.328125 \r\nQ 39.84375 48.1875 33.796875 48.1875 \r\nQ 26.515625 48.1875 22.3125 43.546875 \r\nQ 18.109375 38.921875 18.109375 30.90625 \r\nL 18.109375 0 \r\nL 9.078125 0 \r\nL 9.078125 75.984375 \r\nL 18.109375 75.984375 \r\nL 18.109375 46.1875 \r\nQ 21.34375 51.125 25.703125 53.5625 \r\nQ 30.078125 56 35.796875 56 \r\nQ 45.21875 56 50.046875 50.171875 \r\nQ 54.890625 44.34375 54.890625 33.015625 \r\nz\r\n\" id=\"DejaVuSans-104\"/>\r\n       <path d=\"M 56.203125 29.59375 \r\nL 56.203125 25.203125 \r\nL 14.890625 25.203125 \r\nQ 15.484375 15.921875 20.484375 11.0625 \r\nQ 25.484375 6.203125 34.421875 6.203125 \r\nQ 39.59375 6.203125 44.453125 7.46875 \r\nQ 49.3125 8.734375 54.109375 11.28125 \r\nL 54.109375 2.78125 \r\nQ 49.265625 0.734375 44.1875 -0.34375 \r\nQ 39.109375 -1.421875 33.890625 -1.421875 \r\nQ 20.796875 -1.421875 13.15625 6.1875 \r\nQ 5.515625 13.8125 5.515625 26.8125 \r\nQ 5.515625 40.234375 12.765625 48.109375 \r\nQ 20.015625 56 32.328125 56 \r\nQ 43.359375 56 49.78125 48.890625 \r\nQ 56.203125 41.796875 56.203125 29.59375 \r\nz\r\nM 47.21875 32.234375 \r\nQ 47.125 39.59375 43.09375 43.984375 \r\nQ 39.0625 48.390625 32.421875 48.390625 \r\nQ 24.90625 48.390625 20.390625 44.140625 \r\nQ 15.875 39.890625 15.1875 32.171875 \r\nz\r\n\" id=\"DejaVuSans-101\"/>\r\n       <path d=\"M 41.109375 46.296875 \r\nQ 39.59375 47.171875 37.8125 47.578125 \r\nQ 36.03125 48 33.890625 48 \r\nQ 26.265625 48 22.1875 43.046875 \r\nQ 18.109375 38.09375 18.109375 28.8125 \r\nL 18.109375 0 \r\nL 9.078125 0 \r\nL 9.078125 54.6875 \r\nL 18.109375 54.6875 \r\nL 18.109375 46.1875 \r\nQ 20.953125 51.171875 25.484375 53.578125 \r\nQ 30.03125 56 36.53125 56 \r\nQ 37.453125 56 38.578125 55.875 \r\nQ 39.703125 55.765625 41.0625 55.515625 \r\nz\r\n\" id=\"DejaVuSans-114\"/>\r\n       <path d=\"M 54.890625 33.015625 \r\nL 54.890625 0 \r\nL 45.90625 0 \r\nL 45.90625 32.71875 \r\nQ 45.90625 40.484375 42.875 44.328125 \r\nQ 39.84375 48.1875 33.796875 48.1875 \r\nQ 26.515625 48.1875 22.3125 43.546875 \r\nQ 18.109375 38.921875 18.109375 30.90625 \r\nL 18.109375 0 \r\nL 9.078125 0 \r\nL 9.078125 54.6875 \r\nL 18.109375 54.6875 \r\nL 18.109375 46.1875 \r\nQ 21.34375 51.125 25.703125 53.5625 \r\nQ 30.078125 56 35.796875 56 \r\nQ 45.21875 56 50.046875 50.171875 \r\nQ 54.890625 44.34375 54.890625 33.015625 \r\nz\r\n\" id=\"DejaVuSans-110\"/>\r\n      </defs>\r\n      <use xlink:href=\"#DejaVuSans-67\"/>\r\n      <use x=\"69.824219\" xlink:href=\"#DejaVuSans-111\"/>\r\n      <use x=\"131.005859\" xlink:href=\"#DejaVuSans-104\"/>\r\n      <use x=\"194.384766\" xlink:href=\"#DejaVuSans-101\"/>\r\n      <use x=\"255.908203\" xlink:href=\"#DejaVuSans-114\"/>\r\n      <use x=\"294.771484\" xlink:href=\"#DejaVuSans-101\"/>\r\n      <use x=\"356.294922\" xlink:href=\"#DejaVuSans-110\"/>\r\n      <use x=\"419.673828\" xlink:href=\"#DejaVuSans-99\"/>\r\n      <use x=\"474.654297\" xlink:href=\"#DejaVuSans-101\"/>\r\n      <use x=\"536.177734\" xlink:href=\"#DejaVuSans-32\"/>\r\n      <use x=\"567.964844\" xlink:href=\"#DejaVuSans-115\"/>\r\n      <use x=\"620.064453\" xlink:href=\"#DejaVuSans-99\"/>\r\n      <use x=\"675.044922\" xlink:href=\"#DejaVuSans-111\"/>\r\n      <use x=\"736.226562\" xlink:href=\"#DejaVuSans-114\"/>\r\n      <use x=\"775.089844\" xlink:href=\"#DejaVuSans-101\"/>\r\n     </g>\r\n    </g>\r\n   </g>\r\n   <g id=\"line2d_11\">\r\n    <path clip-path=\"url(#p5580fef3b2)\" d=\"M 0 0 \r\n\" style=\"fill:none;stroke:#1f77b4;stroke-linecap:square;stroke-width:1.5;\"/>\r\n   </g>\r\n   <g id=\"patch_3\">\r\n    <path d=\"M 58.523438 224.64 \r\nL 58.523438 7.2 \r\n\" style=\"fill:none;stroke:#000000;stroke-linecap:square;stroke-linejoin:miter;stroke-width:0.8;\"/>\r\n   </g>\r\n   <g id=\"patch_4\">\r\n    <path d=\"M 393.323438 224.64 \r\nL 393.323438 7.2 \r\n\" style=\"fill:none;stroke:#000000;stroke-linecap:square;stroke-linejoin:miter;stroke-width:0.8;\"/>\r\n   </g>\r\n   <g id=\"patch_5\">\r\n    <path d=\"M 58.523438 224.64 \r\nL 393.323438 224.64 \r\n\" style=\"fill:none;stroke:#000000;stroke-linecap:square;stroke-linejoin:miter;stroke-width:0.8;\"/>\r\n   </g>\r\n   <g id=\"patch_6\">\r\n    <path d=\"M 58.523438 7.2 \r\nL 393.323438 7.2 \r\n\" style=\"fill:none;stroke:#000000;stroke-linecap:square;stroke-linejoin:miter;stroke-width:0.8;\"/>\r\n   </g>\r\n   <g id=\"legend_1\">\r\n    <g id=\"patch_7\">\r\n     <path d=\"M 348.825 29.878125 \r\nL 386.323438 29.878125 \r\nQ 388.323438 29.878125 388.323438 27.878125 \r\nL 388.323438 14.2 \r\nQ 388.323438 12.2 386.323438 12.2 \r\nL 348.825 12.2 \r\nQ 346.825 12.2 346.825 14.2 \r\nL 346.825 27.878125 \r\nQ 346.825 29.878125 348.825 29.878125 \r\nz\r\n\" style=\"fill:#ffffff;opacity:0.8;stroke:#cccccc;stroke-linejoin:miter;\"/>\r\n    </g>\r\n    <g id=\"line2d_12\">\r\n     <path d=\"M 350.825 20.298437 \r\nL 370.825 20.298437 \r\n\" style=\"fill:none;stroke:#1f77b4;stroke-linecap:square;stroke-width:1.5;\"/>\r\n    </g>\r\n    <g id=\"line2d_13\"/>\r\n    <g id=\"text_13\">\r\n     <!-- c -->\r\n     <g transform=\"translate(378.825 23.798437)scale(0.1 -0.1)\">\r\n      <use xlink:href=\"#DejaVuSans-99\"/>\r\n     </g>\r\n    </g>\r\n   </g>\r\n  </g>\r\n </g>\r\n <defs>\r\n  <clipPath id=\"p5580fef3b2\">\r\n   <rect height=\"217.44\" width=\"334.8\" x=\"58.523438\" y=\"7.2\"/>\r\n  </clipPath>\r\n </defs>\r\n</svg>\r\n",
      "image/png": "[encoded data removed]"
     },
     "metadata": {
      "needs_background": "light"
     }
    }
   ],
   "source": [
    "import matplotlib.pyplot as plt\n",
    "\n",
    "# Show graph\n",
    "limit=40; start=2; step=6;\n",
    "x = range(start, limit, step)\n",
    "plt.plot(x, coherence_values)\n",
    "plt.xlabel(\"Num Topics\")\n",
    "plt.ylabel(\"Coherence score\")\n",
    "plt.legend((\"coherence_values\"), loc='best')\n",
    "plt.show()"
   ]
  },
  {
   "cell_type": "code",
   "execution_count": 26,
   "metadata": {
    "colab": {
     "base_uri": "https://localhost:8080/",
     "height": 141
    },
    "executionInfo": {
     "elapsed": 85990,
     "status": "ok",
     "timestamp": 1595615788512,
     "user": {
      "displayName": "Carlos Martinez",
      "photoUrl": "",
      "userId": "05600005939339517061"
     },
     "user_tz": 240
    },
    "id": "904YYWMEbWNy",
    "outputId": "34305da1-9090-4e50-90c7-127f1793d7e1"
   },
   "outputs": [
    {
     "output_type": "stream",
     "name": "stdout",
     "text": [
      "Num Topics = 2  has Coherence Value of nan\nNum Topics = 8  has Coherence Value of nan\nNum Topics = 14  has Coherence Value of nan\nNum Topics = 20  has Coherence Value of nan\nNum Topics = 26  has Coherence Value of nan\nNum Topics = 32  has Coherence Value of nan\nNum Topics = 38  has Coherence Value of nan\n"
     ]
    }
   ],
   "source": [
    "for m, cv in zip(x, coherence_values):\n",
    "    print(\"Num Topics =\", m, \" has Coherence Value of\", round(cv, 4))"
   ]
  },
  {
   "cell_type": "markdown",
   "metadata": {
    "id": "hyTfEw6iecZe"
   },
   "source": [
    "Choose the optimal model. In this case it is model with index number of 6(Num Topics = 38)"
   ]
  },
  {
   "cell_type": "code",
   "execution_count": 27,
   "metadata": {
    "colab": {
     "base_uri": "https://localhost:8080/",
     "height": 1000
    },
    "executionInfo": {
     "elapsed": 86138,
     "status": "ok",
     "timestamp": 1595615788695,
     "user": {
      "displayName": "Carlos Martinez",
      "photoUrl": "",
      "userId": "05600005939339517061"
     },
     "user_tz": 240
    },
    "id": "rt-MPk1JfpYM",
    "outputId": "25fe4e80-4b0c-437a-a881-e1305213a70f"
   },
   "outputs": [
    {
     "output_type": "stream",
     "name": "stdout",
     "text": [
      "[(7,\n  '0.053*\"robar\" + 0.053*\"seis\" + 0.053*\"trasladados\" + 0.053*\"alumnos\" + '\n  '0.053*\"delegacin\" + 0.053*\"chilpo\" + 0.053*\"detiene\" + 0.053*\"pgr\" + '\n  '0.053*\"autobus\" + 0.053*\"ayotzinapa\"'),\n (14,\n  '0.087*\"ayotzinapa\" + 0.069*\"ahora\" + 0.069*\"cndh\" + 0.069*\"facundo\" + '\n  '0.069*\"rosas\" + 0.035*\"derechos\" + 0.035*\"viol\" + 0.035*\"comparece\" + '\n  '0.035*\"historia\" + 0.035*\"puebla\"'),\n (23,\n  '0.081*\"gober\" + 0.081*\"ayotzinapa\" + 0.041*\"precioso\" + 0.041*\"amigos\" + '\n  '0.041*\"luisgarca\" + 0.041*\"autopistadelsol\" + 0.041*\"apoyo\" + '\n  '0.041*\"poblanos\" + 0.041*\"comparezcan\" + 0.041*\"pasa\"'),\n (8,\n  '0.097*\"ayotzinapa\" + 0.039*\"duraderos\" + 0.039*\"comunitarios\" + '\n  '0.039*\"protestan\" + 0.039*\"social\" + 0.039*\"fuertes\" + 0.039*\"aguirre\" + '\n  '0.039*\"normalistas\" + 0.039*\"congreso\" + 0.039*\"protestaron\"'),\n (34,\n  '0.079*\"sabado\" + 0.079*\"social\" + 0.079*\"domingo\" + 0.079*\"congreso\" + '\n  '0.079*\"prximos\" + 0.079*\"ayotzinapa\" + 0.002*\"estudiantil\" + 0.002*\"citado\" '\n  '+ 0.002*\"final\" + 0.002*\"creo\"'),\n (29,\n  '0.103*\"ayotzinapa\" + 0.062*\"seis\" + 0.041*\"trasladados\" + 0.041*\"delegacin\" '\n  '+ 0.041*\"detiene\" + 0.041*\"pgr\" + 0.041*\"chilpancingo\" + 0.041*\"alumnos\" + '\n  '0.021*\"historia\" + 0.021*\"detienen\"'),\n (24,\n  '0.156*\"congreso\" + 0.112*\"social\" + 0.112*\"ayotzinapa\" + 0.067*\"duraderos\" '\n  '+ 0.067*\"acuerdos\" + 0.067*\"fuertes\" + 0.045*\"poltica\" + 0.045*\"indecisin\" '\n  '+ 0.045*\"guerrero\" + 0.045*\"condiciones\"'),\n (28,\n  '0.096*\"ayotzinapa\" + 0.049*\"condiciones\" + 0.049*\"rosas\" + 0.049*\"poltica\" '\n  '+ 0.049*\"contratar\" + 0.049*\"congreso\" + 0.049*\"guerrero\" + 0.049*\"mxico\" + '\n  '0.049*\"facundo\" + 0.049*\"import\"'),\n (4,\n  '0.073*\"poltica\" + 0.073*\"guerrero\" + 0.073*\"indecisin\" + '\n  '0.073*\"condiciones\" + 0.073*\"congreso\" + 0.073*\"objetivas\" + '\n  '0.073*\"ayotzinapa\" + 0.002*\"ocasin\" + 0.002*\"final\" + 0.002*\"primero\"'),\n (22,\n  '0.068*\"ayotzinapa\" + 0.034*\"historia\" + 0.034*\"facundo\" + 0.034*\"cndh\" + '\n  '0.034*\"responde\" + 0.034*\"rosas\" + 0.034*\"propia\" + 0.034*\"repite\" + '\n  '0.034*\"ahora\" + 0.034*\"puebla\"'),\n (25,\n  '0.072*\"ayotzinapa\" + 0.072*\"chilpancingo\" + 0.037*\"normalistas\" + '\n  '0.037*\"autobuses\" + 0.037*\"sol\" + 0.037*\"acapulco\" + 0.037*\"duraderos\" + '\n  '0.037*\"social\" + 0.037*\"secuestran\" + 0.037*\"que\"'),\n (27,\n  '0.103*\"ayotzinapa\" + 0.072*\"rosas\" + 0.071*\"facundo\" + 0.064*\"responde\" + '\n  '0.064*\"puebla\" + 0.064*\"repite\" + 0.063*\"historia\" + 0.063*\"cndh\" + '\n  '0.063*\"ahora\" + 0.057*\"propia\"'),\n (32,\n  '0.060*\"derechos\" + 0.060*\"humanos\" + 0.060*\"facundo\" + 0.060*\"ahora\" + '\n  '0.060*\"ayotzinapa\" + 0.060*\"chalchihuapan\" + 0.060*\"viol\" + '\n  '0.060*\"comparece\" + 0.060*\"cndh\" + 0.060*\"rosas\"'),\n (11,\n  '0.004*\"estudiantil\" + 0.004*\"comit\" + 0.004*\"ocasin\" + 0.004*\"es\" + '\n  '0.004*\"citado\" + 0.004*\"final\" + 0.004*\"creo\" + 0.004*\"segunda\" + '\n  '0.004*\"isidro\" + 0.004*\"egresados\"'),\n (36,\n  '0.143*\"ayotzinapa\" + 0.048*\"guerrero\" + 0.032*\"comunitarios\" + 0.032*\"caso\" '\n  '+ 0.032*\"normalistas\" + 0.032*\"aguirre\" + 0.032*\"protestan\" + '\n  '0.032*\"protestaron\" + 0.032*\"policas\" + 0.016*\"castigo\"'),\n (19,\n  '0.106*\"ayotzinapa\" + 0.080*\"normalistas\" + 0.053*\"cndh\" + 0.027*\"gt\" + '\n  '0.027*\"muerte\" + 0.027*\"aguirre\" + 0.027*\"segunda\" + 0.027*\"secuestran\" + '\n  '0.027*\"gro\" + 0.027*\"autobs\"'),\n (20,\n  '0.114*\"ayotzinapa\" + 0.092*\"congreso\" + 0.069*\"guerrero\" + '\n  '0.046*\"condiciones\" + 0.046*\"objetivas\" + 0.046*\"social\" + '\n  '0.046*\"indecisin\" + 0.046*\"poltica\" + 0.046*\"normalistas\" + '\n  '0.023*\"aguirre\"'),\n (35,\n  '0.105*\"ayotzinapa\" + 0.066*\"cndh\" + 0.044*\"chalchihuapan\" + 0.044*\"rosas\" + '\n  '0.044*\"humanos\" + 0.044*\"viol\" + 0.044*\"facundo\" + 0.044*\"derechos\" + '\n  '0.044*\"comparece\" + 0.022*\"detiene\"'),\n (9,\n  '0.068*\"aguirre\" + 0.068*\"guerrero\" + 0.068*\"policas\" + 0.068*\"protestaron\" '\n  '+ 0.068*\"comunitarios\" + 0.068*\"protestan\" + 0.068*\"normalistas\" + '\n  '0.068*\"ayotzinapa\" + 0.002*\"ocasin\" + 0.002*\"primero\"'),\n (16,\n  '0.111*\"ayotzinapa\" + 0.040*\"puebla\" + 0.040*\"rosas\" + 0.040*\"facundo\" + '\n  '0.040*\"normalistas\" + 0.030*\"comunitarios\" + 0.030*\"guerrero\" + '\n  '0.030*\"cndh\" + 0.030*\"policas\" + 0.030*\"protestan\"')]\n"
     ]
    }
   ],
   "source": [
    "# Select the model and print the topics\n",
    "optimal_model = model_list[6]\n",
    "model_topics = optimal_model.show_topics(formatted=False)\n",
    "pprint(optimal_model.print_topics(num_words=10))"
   ]
  },
  {
   "cell_type": "markdown",
   "metadata": {
    "id": "uFdSMFaOgruf"
   },
   "source": [
    "Find dominant topic in each sentence "
   ]
  },
  {
   "cell_type": "code",
   "execution_count": 28,
   "metadata": {
    "colab": {
     "base_uri": "https://localhost:8080/",
     "height": 340
    },
    "executionInfo": {
     "elapsed": 87298,
     "status": "ok",
     "timestamp": 1595615789885,
     "user": {
      "displayName": "Carlos Martinez",
      "photoUrl": "",
      "userId": "05600005939339517061"
     },
     "user_tz": 240
    },
    "id": "t4eSVnkGfpWZ",
    "outputId": "6b877d00-ceff-4284-88b5-dfbdcd8b2de1"
   },
   "outputs": [
    {
     "output_type": "execute_result",
     "data": {
      "text/plain": [
       "   Document_No  Dominant_Topic  Topic_Perc_Contrib                                           Keywords                                               Text\n",
       "0            0            22.0              0.8377  ayotzinapa, historia, facundo, cndh, responde,...  [normalistas, irrumpen, acto, protestan, gober...\n",
       "1            1            10.0              0.8377  ayotzinapa, normalistas, protestan, aguirre, c...  [Policas, comunitarios, normalistas, Ayotzinap...\n",
       "2            2            16.0              0.9115  ayotzinapa, puebla, rosas, facundo, normalista...  [Reforma, informa, :, Protestan, Aguirre, Guer...\n",
       "3            3            10.0              0.8918  ayotzinapa, normalistas, protestan, aguirre, c...  [Protestan, Aguirre, Guerrero, :, Policas, com...\n",
       "4            4            10.0              0.8918  ayotzinapa, normalistas, protestan, aguirre, c...  [Protestan, Aguirre, Guerrero, :, Policas, com...\n",
       "5            5            10.0              0.8918  ayotzinapa, normalistas, protestan, aguirre, c...  [Protestan, Aguirre, Guerrero, :, Policas, com...\n",
       "6            6            10.0              0.8918  ayotzinapa, normalistas, protestan, aguirre, c...  [Protestan, Aguirre, Guerrero, :, Policas, com...\n",
       "7            7            10.0              0.8918  ayotzinapa, normalistas, protestan, aguirre, c...  [Protestan, Aguirre, Guerrero, :, Policas, com...\n",
       "8            8            10.0              0.8918  ayotzinapa, normalistas, protestan, aguirre, c...  [Protestan, Aguirre, Guerrero, :, Policas, com...\n",
       "9            9            10.0              0.8918  ayotzinapa, normalistas, protestan, aguirre, c...  [Protestan, Aguirre, Guerrero, :, Policas, com..."
      ],
      "text/html": "<div>\n<style scoped>\n    .dataframe tbody tr th:only-of-type {\n        vertical-align: middle;\n    }\n\n    .dataframe tbody tr th {\n        vertical-align: top;\n    }\n\n    .dataframe thead th {\n        text-align: right;\n    }\n</style>\n<table border=\"1\" class=\"dataframe\">\n  <thead>\n    <tr style=\"text-align: right;\">\n      <th></th>\n      <th>Document_No</th>\n      <th>Dominant_Topic</th>\n      <th>Topic_Perc_Contrib</th>\n      <th>Keywords</th>\n      <th>Text</th>\n    </tr>\n  </thead>\n  <tbody>\n    <tr>\n      <th>0</th>\n      <td>0</td>\n      <td>22.0</td>\n      <td>0.8377</td>\n      <td>ayotzinapa, historia, facundo, cndh, responde,...</td>\n      <td>[normalistas, irrumpen, acto, protestan, gober...</td>\n    </tr>\n    <tr>\n      <th>1</th>\n      <td>1</td>\n      <td>10.0</td>\n      <td>0.8377</td>\n      <td>ayotzinapa, normalistas, protestan, aguirre, c...</td>\n      <td>[Policas, comunitarios, normalistas, Ayotzinap...</td>\n    </tr>\n    <tr>\n      <th>2</th>\n      <td>2</td>\n      <td>16.0</td>\n      <td>0.9115</td>\n      <td>ayotzinapa, puebla, rosas, facundo, normalista...</td>\n      <td>[Reforma, informa, :, Protestan, Aguirre, Guer...</td>\n    </tr>\n    <tr>\n      <th>3</th>\n      <td>3</td>\n      <td>10.0</td>\n      <td>0.8918</td>\n      <td>ayotzinapa, normalistas, protestan, aguirre, c...</td>\n      <td>[Protestan, Aguirre, Guerrero, :, Policas, com...</td>\n    </tr>\n    <tr>\n      <th>4</th>\n      <td>4</td>\n      <td>10.0</td>\n      <td>0.8918</td>\n      <td>ayotzinapa, normalistas, protestan, aguirre, c...</td>\n      <td>[Protestan, Aguirre, Guerrero, :, Policas, com...</td>\n    </tr>\n    <tr>\n      <th>5</th>\n      <td>5</td>\n      <td>10.0</td>\n      <td>0.8918</td>\n      <td>ayotzinapa, normalistas, protestan, aguirre, c...</td>\n      <td>[Protestan, Aguirre, Guerrero, :, Policas, com...</td>\n    </tr>\n    <tr>\n      <th>6</th>\n      <td>6</td>\n      <td>10.0</td>\n      <td>0.8918</td>\n      <td>ayotzinapa, normalistas, protestan, aguirre, c...</td>\n      <td>[Protestan, Aguirre, Guerrero, :, Policas, com...</td>\n    </tr>\n    <tr>\n      <th>7</th>\n      <td>7</td>\n      <td>10.0</td>\n      <td>0.8918</td>\n      <td>ayotzinapa, normalistas, protestan, aguirre, c...</td>\n      <td>[Protestan, Aguirre, Guerrero, :, Policas, com...</td>\n    </tr>\n    <tr>\n      <th>8</th>\n      <td>8</td>\n      <td>10.0</td>\n      <td>0.8918</td>\n      <td>ayotzinapa, normalistas, protestan, aguirre, c...</td>\n      <td>[Protestan, Aguirre, Guerrero, :, Policas, com...</td>\n    </tr>\n    <tr>\n      <th>9</th>\n      <td>9</td>\n      <td>10.0</td>\n      <td>0.8918</td>\n      <td>ayotzinapa, normalistas, protestan, aguirre, c...</td>\n      <td>[Protestan, Aguirre, Guerrero, :, Policas, com...</td>\n    </tr>\n  </tbody>\n</table>\n</div>"
     },
     "metadata": {},
     "execution_count": 28
    }
   ],
   "source": [
    "def format_topics_sentences(ldamodel=lda_model, corpus=corpus, texts=data):\n",
    "    # Init output\n",
    "    sent_topics_df = pd.DataFrame()\n",
    "\n",
    "    # Get main topic in each document\n",
    "    for i, row in enumerate(ldamodel[corpus]):\n",
    "        row = sorted(row, key=lambda x: (x[1]), reverse=True)\n",
    "        # Get the Dominant topic, Perc Contribution and Keywords for each document\n",
    "        for j, (topic_num, prop_topic) in enumerate(row):\n",
    "            if j == 0:  # => dominant topic\n",
    "                wp = ldamodel.show_topic(topic_num)\n",
    "                topic_keywords = \", \".join([word for word, prop in wp])\n",
    "                sent_topics_df = sent_topics_df.append(pd.Series([int(topic_num), round(prop_topic,4), topic_keywords]), ignore_index=True)\n",
    "            else:\n",
    "                break\n",
    "    sent_topics_df.columns = ['Dominant_Topic', 'Perc_Contribution', 'Topic_Keywords']\n",
    "\n",
    "    # Add original text to the end of the output\n",
    "    contents = pd.Series(texts)\n",
    "    sent_topics_df = pd.concat([sent_topics_df, contents], axis=1)\n",
    "    return(sent_topics_df)\n",
    "\n",
    "\n",
    "df_topic_sents_keywords = format_topics_sentences(ldamodel=optimal_model, corpus=corpus, texts=data)\n",
    "\n",
    "# Format\n",
    "df_dominant_topic = df_topic_sents_keywords.reset_index()\n",
    "df_dominant_topic.columns = ['Document_No', 'Dominant_Topic', 'Topic_Perc_Contrib', 'Keywords', 'Text']\n",
    "\n",
    "# Show\n",
    "df_dominant_topic.head(10)"
   ]
  },
  {
   "cell_type": "markdown",
   "metadata": {
    "id": "HL4BB6Zeg8m-"
   },
   "source": [
    "Find the most representative document for each topic"
   ]
  },
  {
   "cell_type": "code",
   "execution_count": 29,
   "metadata": {
    "id": "ehVqhjDwgeYN"
   },
   "outputs": [],
   "source": [
    "# Group top 5 sentences under each topic\n",
    "sent_topics_sorteddf_mallet = pd.DataFrame()\n",
    "\n",
    "sent_topics_outdf_grpd = df_topic_sents_keywords.groupby('Dominant_Topic')\n",
    "\n",
    "for i, grp in sent_topics_outdf_grpd:\n",
    "    sent_topics_sorteddf_mallet = pd.concat([sent_topics_sorteddf_mallet, \n",
    "                                             grp.sort_values(['Perc_Contribution'], ascending=[0]).head(1)], \n",
    "                                            axis=0)\n",
    "\n"
   ]
  },
  {
   "cell_type": "code",
   "execution_count": 30,
   "metadata": {
    "colab": {
     "base_uri": "https://localhost:8080/",
     "height": 1000
    },
    "executionInfo": {
     "elapsed": 87253,
     "status": "ok",
     "timestamp": 1595615789890,
     "user": {
      "displayName": "Carlos Martinez",
      "photoUrl": "",
      "userId": "05600005939339517061"
     },
     "user_tz": 240
    },
    "id": "IZkRuegwht52",
    "outputId": "42701e22-4665-405b-eab3-509241d262fa"
   },
   "outputs": [
    {
     "output_type": "execute_result",
     "data": {
      "text/plain": [
       "    Topic_Num  Topic_Perc_Contrib                                           Keywords                                               Text\n",
       "0         0.0              0.9115  ayotzinapa, congreso, castigue, en, ya, el, pe...  [Este, perro, rabioso, FaCANdo, ,, YA, HABA, A...\n",
       "1         1.0              0.9115  ayotzinapa, autobs, turstico, social, congreso...  [Interesante, ejercido, facultad, investigacin...\n",
       "2         2.0              0.9115  ayotzinapa, cndh, ahora, facundo, rosas, chalc...  [:, Facundo, Rosas, comparece, CNDH, ahora, Ch...\n",
       "3         3.0              0.9026  ayotzinapa, cndh, propia, ahora, facundo, repi...  [Reunin, egresados, escuela, Normal, Rural, ``...\n",
       "4         5.0              0.9115  facundo, ayotzinapa, cndh, rosas, vctor, felip...  [Felipe, Caldern, ,, CNDH, ,, Facundo, Rosas, ...\n",
       "5         6.0              0.9189  ayotzinapa, autobs, oro, comparece, secuestran...  [:, No, primera, vez, Facundo, Rosas, comparec...\n",
       "6         7.0              0.9189  robar, seis, trasladados, alumnos, delegacin, ...  [La, noche, ayer, detenidos, normalistas, ,, t...\n",
       "7         8.0              0.9026  ayotzinapa, duraderos, comunitarios, protestan...  [Facundo, Rosas, comparece, represin, ;, tambi...\n",
       "8        10.0              0.9115  ayotzinapa, normalistas, protestan, aguirre, c...  [Denuncia, Tlachinollan, criminalizacin, CRAC,...\n",
       "9        12.0              0.9115  ayotzinapa, domingo, el, social, sbado, cndh, ...  [., El, Congreso, Social, Ayotzinapa, celebrar...\n",
       "10       13.0              0.7566  turstico, secuestran, autobs, creo, egresados,...                  [Secuestran, autobs, turstico, .]\n",
       "11       14.0              0.9189  ayotzinapa, ahora, cndh, facundo, rosas, derec...  [qu, bruto, ,, verdad, ., Y, primera, vez, ase...\n",
       "12       16.0              0.9391  ayotzinapa, puebla, rosas, facundo, normalista...  [Facundo, Rosas, titular, SSP-Puebla, cliente,...\n",
       "13       17.0              0.9251  ayotzinapa, rosas, cndh, facundo, neg, familia...  [El, brazo, armado, GoberBala, niega, uso, Bal...\n",
       "14       19.0              0.9251  ayotzinapa, normalistas, cndh, gt, muerte, agu...  [Es, vergenza, citado, segunda, ocasin, CNDH, ...\n",
       "15       20.0              0.8783  ayotzinapa, congreso, guerrero, condiciones, o...  [Congreso, Ayotzinapa, ,, Guerrero, :, Condici...\n",
       "16       21.0              0.9026  ayotzinapa, cndh, ahora, facundo, rosas, viol,...  [Facundo, Rosas, comparece, CNDH, ahora, Chalc...\n",
       "17       22.0              0.9427  ayotzinapa, historia, facundo, cndh, responde,...  [El, dia, ayer, Polica, Federal, frustro, robo...\n",
       "18       23.0              0.9026  gober, ayotzinapa, precioso, amigos, luisgarca...  [Q, pasa, amigos, poblanos, :, D, gober, preci...\n",
       "19       24.0              0.9115  congreso, social, ayotzinapa, duraderos, acuer...  [Congreso, Ayotzinapa, ,, Guerrero, :, Condici...\n",
       "20       25.0              0.9115  ayotzinapa, chilpancingo, normalistas, autobus...  [NORMALISTAS, DE, AYOTZINAPA, Secuestran, auto...\n",
       "21       26.0              0.9189  el, ayotzinapa, crac, operativo, primera, del,...  [CRAC, ,, APPG, Y, AYOTZINAPA, CONMEMORAN, EL,...\n",
       "22       27.0              0.9251  ayotzinapa, rosas, facundo, responde, puebla, ...  [Facundo, Rosas, repite, propia, historia, :, ...\n",
       "23       28.0              0.8609  ayotzinapa, condiciones, rosas, poltica, contr...  [contratar, Facundo, Rosas, import, marcado, A...\n",
       "24       29.0              0.9115  ayotzinapa, seis, trasladados, delegacin, deti...  [Toman, estudiantes, Ayotzinapa, autobs, ;, re...\n",
       "25       30.0              0.9115  ayotzinapa, guerrero, conmemoran, natalicio, p...  [CRAC, ,, APPG, Ayotzinapa, conmemoran, aniver...\n",
       "26       31.0              0.8783  ayotzinapa, social, congreso, duraderos, fuert...  [Mxico, :, Congreso, Social, Ayotzinapa, acuer...\n",
       "27       33.0              0.8783  estilo, repiti, rosas, facundo, chalchihuapan,...  [Facundo, Rosas, repiti, estilo, represor, Ayo...\n",
       "28       34.0              0.8609  sabado, social, domingo, congreso, prximos, ay...  [Sabado, domingo, prximos, ,, Congreso, Social...\n",
       "29       35.0              0.9115  ayotzinapa, cndh, chalchihuapan, rosas, humano...  [Facundo, Rosas, comparece, ,, vez, ,, CNDH, C...\n",
       "30       36.0              0.8918  ayotzinapa, guerrero, comunitarios, caso, norm...  [estudiantes, escuela, normal, Ayotzinapa, det..."
      ],
      "text/html": "<div>\n<style scoped>\n    .dataframe tbody tr th:only-of-type {\n        vertical-align: middle;\n    }\n\n    .dataframe tbody tr th {\n        vertical-align: top;\n    }\n\n    .dataframe thead th {\n        text-align: right;\n    }\n</style>\n<table border=\"1\" class=\"dataframe\">\n  <thead>\n    <tr style=\"text-align: right;\">\n      <th></th>\n      <th>Topic_Num</th>\n      <th>Topic_Perc_Contrib</th>\n      <th>Keywords</th>\n      <th>Text</th>\n    </tr>\n  </thead>\n  <tbody>\n    <tr>\n      <th>0</th>\n      <td>0.0</td>\n      <td>0.9115</td>\n      <td>ayotzinapa, congreso, castigue, en, ya, el, pe...</td>\n      <td>[Este, perro, rabioso, FaCANdo, ,, YA, HABA, A...</td>\n    </tr>\n    <tr>\n      <th>1</th>\n      <td>1.0</td>\n      <td>0.9115</td>\n      <td>ayotzinapa, autobs, turstico, social, congreso...</td>\n      <td>[Interesante, ejercido, facultad, investigacin...</td>\n    </tr>\n    <tr>\n      <th>2</th>\n      <td>2.0</td>\n      <td>0.9115</td>\n      <td>ayotzinapa, cndh, ahora, facundo, rosas, chalc...</td>\n      <td>[:, Facundo, Rosas, comparece, CNDH, ahora, Ch...</td>\n    </tr>\n    <tr>\n      <th>3</th>\n      <td>3.0</td>\n      <td>0.9026</td>\n      <td>ayotzinapa, cndh, propia, ahora, facundo, repi...</td>\n      <td>[Reunin, egresados, escuela, Normal, Rural, ``...</td>\n    </tr>\n    <tr>\n      <th>4</th>\n      <td>5.0</td>\n      <td>0.9115</td>\n      <td>facundo, ayotzinapa, cndh, rosas, vctor, felip...</td>\n      <td>[Felipe, Caldern, ,, CNDH, ,, Facundo, Rosas, ...</td>\n    </tr>\n    <tr>\n      <th>5</th>\n      <td>6.0</td>\n      <td>0.9189</td>\n      <td>ayotzinapa, autobs, oro, comparece, secuestran...</td>\n      <td>[:, No, primera, vez, Facundo, Rosas, comparec...</td>\n    </tr>\n    <tr>\n      <th>6</th>\n      <td>7.0</td>\n      <td>0.9189</td>\n      <td>robar, seis, trasladados, alumnos, delegacin, ...</td>\n      <td>[La, noche, ayer, detenidos, normalistas, ,, t...</td>\n    </tr>\n    <tr>\n      <th>7</th>\n      <td>8.0</td>\n      <td>0.9026</td>\n      <td>ayotzinapa, duraderos, comunitarios, protestan...</td>\n      <td>[Facundo, Rosas, comparece, represin, ;, tambi...</td>\n    </tr>\n    <tr>\n      <th>8</th>\n      <td>10.0</td>\n      <td>0.9115</td>\n      <td>ayotzinapa, normalistas, protestan, aguirre, c...</td>\n      <td>[Denuncia, Tlachinollan, criminalizacin, CRAC,...</td>\n    </tr>\n    <tr>\n      <th>9</th>\n      <td>12.0</td>\n      <td>0.9115</td>\n      <td>ayotzinapa, domingo, el, social, sbado, cndh, ...</td>\n      <td>[., El, Congreso, Social, Ayotzinapa, celebrar...</td>\n    </tr>\n    <tr>\n      <th>10</th>\n      <td>13.0</td>\n      <td>0.7566</td>\n      <td>turstico, secuestran, autobs, creo, egresados,...</td>\n      <td>[Secuestran, autobs, turstico, .]</td>\n    </tr>\n    <tr>\n      <th>11</th>\n      <td>14.0</td>\n      <td>0.9189</td>\n      <td>ayotzinapa, ahora, cndh, facundo, rosas, derec...</td>\n      <td>[qu, bruto, ,, verdad, ., Y, primera, vez, ase...</td>\n    </tr>\n    <tr>\n      <th>12</th>\n      <td>16.0</td>\n      <td>0.9391</td>\n      <td>ayotzinapa, puebla, rosas, facundo, normalista...</td>\n      <td>[Facundo, Rosas, titular, SSP-Puebla, cliente,...</td>\n    </tr>\n    <tr>\n      <th>13</th>\n      <td>17.0</td>\n      <td>0.9251</td>\n      <td>ayotzinapa, rosas, cndh, facundo, neg, familia...</td>\n      <td>[El, brazo, armado, GoberBala, niega, uso, Bal...</td>\n    </tr>\n    <tr>\n      <th>14</th>\n      <td>19.0</td>\n      <td>0.9251</td>\n      <td>ayotzinapa, normalistas, cndh, gt, muerte, agu...</td>\n      <td>[Es, vergenza, citado, segunda, ocasin, CNDH, ...</td>\n    </tr>\n    <tr>\n      <th>15</th>\n      <td>20.0</td>\n      <td>0.8783</td>\n      <td>ayotzinapa, congreso, guerrero, condiciones, o...</td>\n      <td>[Congreso, Ayotzinapa, ,, Guerrero, :, Condici...</td>\n    </tr>\n    <tr>\n      <th>16</th>\n      <td>21.0</td>\n      <td>0.9026</td>\n      <td>ayotzinapa, cndh, ahora, facundo, rosas, viol,...</td>\n      <td>[Facundo, Rosas, comparece, CNDH, ahora, Chalc...</td>\n    </tr>\n    <tr>\n      <th>17</th>\n      <td>22.0</td>\n      <td>0.9427</td>\n      <td>ayotzinapa, historia, facundo, cndh, responde,...</td>\n      <td>[El, dia, ayer, Polica, Federal, frustro, robo...</td>\n    </tr>\n    <tr>\n      <th>18</th>\n      <td>23.0</td>\n      <td>0.9026</td>\n      <td>gober, ayotzinapa, precioso, amigos, luisgarca...</td>\n      <td>[Q, pasa, amigos, poblanos, :, D, gober, preci...</td>\n    </tr>\n    <tr>\n      <th>19</th>\n      <td>24.0</td>\n      <td>0.9115</td>\n      <td>congreso, social, ayotzinapa, duraderos, acuer...</td>\n      <td>[Congreso, Ayotzinapa, ,, Guerrero, :, Condici...</td>\n    </tr>\n    <tr>\n      <th>20</th>\n      <td>25.0</td>\n      <td>0.9115</td>\n      <td>ayotzinapa, chilpancingo, normalistas, autobus...</td>\n      <td>[NORMALISTAS, DE, AYOTZINAPA, Secuestran, auto...</td>\n    </tr>\n    <tr>\n      <th>21</th>\n      <td>26.0</td>\n      <td>0.9189</td>\n      <td>el, ayotzinapa, crac, operativo, primera, del,...</td>\n      <td>[CRAC, ,, APPG, Y, AYOTZINAPA, CONMEMORAN, EL,...</td>\n    </tr>\n    <tr>\n      <th>22</th>\n      <td>27.0</td>\n      <td>0.9251</td>\n      <td>ayotzinapa, rosas, facundo, responde, puebla, ...</td>\n      <td>[Facundo, Rosas, repite, propia, historia, :, ...</td>\n    </tr>\n    <tr>\n      <th>23</th>\n      <td>28.0</td>\n      <td>0.8609</td>\n      <td>ayotzinapa, condiciones, rosas, poltica, contr...</td>\n      <td>[contratar, Facundo, Rosas, import, marcado, A...</td>\n    </tr>\n    <tr>\n      <th>24</th>\n      <td>29.0</td>\n      <td>0.9115</td>\n      <td>ayotzinapa, seis, trasladados, delegacin, deti...</td>\n      <td>[Toman, estudiantes, Ayotzinapa, autobs, ;, re...</td>\n    </tr>\n    <tr>\n      <th>25</th>\n      <td>30.0</td>\n      <td>0.9115</td>\n      <td>ayotzinapa, guerrero, conmemoran, natalicio, p...</td>\n      <td>[CRAC, ,, APPG, Ayotzinapa, conmemoran, aniver...</td>\n    </tr>\n    <tr>\n      <th>26</th>\n      <td>31.0</td>\n      <td>0.8783</td>\n      <td>ayotzinapa, social, congreso, duraderos, fuert...</td>\n      <td>[Mxico, :, Congreso, Social, Ayotzinapa, acuer...</td>\n    </tr>\n    <tr>\n      <th>27</th>\n      <td>33.0</td>\n      <td>0.8783</td>\n      <td>estilo, repiti, rosas, facundo, chalchihuapan,...</td>\n      <td>[Facundo, Rosas, repiti, estilo, represor, Ayo...</td>\n    </tr>\n    <tr>\n      <th>28</th>\n      <td>34.0</td>\n      <td>0.8609</td>\n      <td>sabado, social, domingo, congreso, prximos, ay...</td>\n      <td>[Sabado, domingo, prximos, ,, Congreso, Social...</td>\n    </tr>\n    <tr>\n      <th>29</th>\n      <td>35.0</td>\n      <td>0.9115</td>\n      <td>ayotzinapa, cndh, chalchihuapan, rosas, humano...</td>\n      <td>[Facundo, Rosas, comparece, ,, vez, ,, CNDH, C...</td>\n    </tr>\n    <tr>\n      <th>30</th>\n      <td>36.0</td>\n      <td>0.8918</td>\n      <td>ayotzinapa, guerrero, comunitarios, caso, norm...</td>\n      <td>[estudiantes, escuela, normal, Ayotzinapa, det...</td>\n    </tr>\n  </tbody>\n</table>\n</div>"
     },
     "metadata": {},
     "execution_count": 30
    }
   ],
   "source": [
    "# Reset Index    \n",
    "sent_topics_sorteddf_mallet.reset_index(drop=True, inplace=True)\n",
    "\n",
    "# Format\n",
    "sent_topics_sorteddf_mallet.columns = ['Topic_Num', \"Topic_Perc_Contrib\", \"Keywords\", \"Text\"]\n",
    "\n",
    "# Show\n",
    "sent_topics_sorteddf_mallet.head(38)"
   ]
  },
  {
   "cell_type": "code",
   "execution_count": 31,
   "metadata": {},
   "outputs": [],
   "source": [
    "combo = complete_df.rename(columns = {'tok_text': 'Text'})  ##Turns column to Text so that I can match later"
   ]
  },
  {
   "cell_type": "code",
   "execution_count": 32,
   "metadata": {},
   "outputs": [
    {
     "output_type": "execute_result",
     "data": {
      "text/plain": [
       "url                 object\n",
       "date                object\n",
       "content             object\n",
       "renderedContent     object\n",
       "id                 float64\n",
       "user                object\n",
       "outlinks            object\n",
       "tcooutlinks         object\n",
       "replyCount           int64\n",
       "retweetCount         int64\n",
       "likeCount            int64\n",
       "quoteCount           int64\n",
       "conversationId     float64\n",
       "lang                object\n",
       "source              object\n",
       "sourceUrl           object\n",
       "sourceLabel         object\n",
       "media               object\n",
       "retweetedTweet     float64\n",
       "quotedTweet        float64\n",
       "mentionedUsers      object\n",
       "Unnamed: 21        float64\n",
       "Unnamed: 22        float64\n",
       "Unnamed: 23        float64\n",
       "Unnamed: 24        float64\n",
       "Unnamed: 25        float64\n",
       "Unnamed: 26        float64\n",
       "Unnamed: 27        float64\n",
       "Unnamed: 28        float64\n",
       "Unnamed: 29        float64\n",
       "Unnamed: 30        float64\n",
       "Unnamed: 31        float64\n",
       "Unnamed: 32        float64\n",
       "Unnamed: 33        float64\n",
       "Unnamed: 34        float64\n",
       "Unnamed: 35        float64\n",
       "Unnamed: 36        float64\n",
       "Unnamed: 37        float64\n",
       "Unnamed: 38        float64\n",
       "Unnamed: 39        float64\n",
       "Unnamed: 40        float64\n",
       "Unnamed: 41        float64\n",
       "Unnamed: 42        float64\n",
       "Unnamed: 43        float64\n",
       "Unnamed: 44        float64\n",
       "Unnamed: 45        float64\n",
       "Unnamed: 46        float64\n",
       "Unnamed: 47        float64\n",
       "Unnamed: 48        float64\n",
       "Unnamed: 49        float64\n",
       "Unnamed: 50        float64\n",
       "Unnamed: 51        float64\n",
       "Unnamed: 52        float64\n",
       "Unnamed: 53        float64\n",
       "Unnamed: 54        float64\n",
       "proc_text           object\n",
       "Text                object\n",
       "dtype: object"
      ]
     },
     "metadata": {},
     "execution_count": 32
    }
   ],
   "source": [
    "combo.dtypes"
   ]
  },
  {
   "cell_type": "code",
   "execution_count": 33,
   "metadata": {},
   "outputs": [
    {
     "output_type": "execute_result",
     "data": {
      "text/plain": [
       "Topic_Num             float64\n",
       "Topic_Perc_Contrib    float64\n",
       "Keywords               object\n",
       "Text                   object\n",
       "dtype: object"
      ]
     },
     "metadata": {},
     "execution_count": 33
    }
   ],
   "source": [
    "sent_topics_sorteddf_mallet.dtypes"
   ]
  },
  {
   "cell_type": "code",
   "execution_count": 34,
   "metadata": {},
   "outputs": [],
   "source": [
    "combo2 = new_df.rename(columns = {'tok_text': 'Text'})  ##Turns column to Text so that I can match latertok_text "
   ]
  },
  {
   "cell_type": "code",
   "execution_count": 35,
   "metadata": {},
   "outputs": [],
   "source": [
    "combo2['liststring'] = combo2['Text'].apply(lambda x: ','.join(map(str, x)))"
   ]
  },
  {
   "cell_type": "code",
   "execution_count": 36,
   "metadata": {},
   "outputs": [],
   "source": [
    "combo1 = sent_topics_sorteddf_mallet.copy()\n",
    "combo1['liststring'] = combo1['Text'].apply(lambda x: ','.join(map(str, x)))"
   ]
  },
  {
   "cell_type": "code",
   "execution_count": 37,
   "metadata": {},
   "outputs": [
    {
     "output_type": "execute_result",
     "data": {
      "text/plain": [
       "Topic_Num             float64\n",
       "Topic_Perc_Contrib    float64\n",
       "Keywords               object\n",
       "Text                   object\n",
       "liststring             object\n",
       "dtype: object"
      ]
     },
     "metadata": {},
     "execution_count": 37
    }
   ],
   "source": [
    "combo1.dtypes"
   ]
  },
  {
   "cell_type": "code",
   "execution_count": 38,
   "metadata": {},
   "outputs": [],
   "source": [
    "merged = pd.merge(combo1, combo2, on =['liststring'], how='inner')  ##Does an inner merge"
   ]
  },
  {
   "cell_type": "code",
   "execution_count": 39,
   "metadata": {},
   "outputs": [
    {
     "output_type": "execute_result",
     "data": {
      "text/plain": [
       "    Topic_Num  Topic_Perc_Contrib                                           Keywords                                             Text_x                                         liststring                                                url                       date                                            content                                    renderedContent            id  ... Unnamed: 47 Unnamed: 48 Unnamed: 49  Unnamed: 50  Unnamed: 51  Unnamed: 52  Unnamed: 53  Unnamed: 54                                          proc_text                                             Text_y\n",
       "0         0.0              0.9115  ayotzinapa, congreso, castigue, en, ya, el, pe...  [Este, perro, rabioso, FaCANdo, ,, YA, HABA, A...  Este,perro,rabioso,FaCANdo,,,YA,HABA,ASESINADO...  https://twitter.com/zame47/status/497563506447...  2014-08-08 02:02:38+00:00  Este perro rabioso FaCANdo, YA HABÍA ASESINADO...  Este perro rabioso FaCANdo, YA HABÍA ASESINADO...  4.975640e+17  ...         NaN         NaN         NaN          NaN          NaN          NaN          NaN          NaN  Este perro rabioso FaCANdo, YA HABA ASESINADO ...  [Este, perro, rabioso, FaCANdo, ,, YA, HABA, A...\n",
       "1         1.0              0.9115  ayotzinapa, autobs, turstico, social, congreso...  [Interesante, ejercido, facultad, investigacin...  Interesante,ejercido,facultad,investigacin,cas...  https://twitter.com/TavoAmezcua/status/4949991...  2014-08-01 00:12:46+00:00  Interesante que la @CNDH haya ejercido esta fa...  Interesante que la @CNDH haya ejercido esta fa...  4.949990e+17  ...         NaN         NaN         NaN          NaN          NaN          NaN          NaN          NaN  Interesante que la haya ejercido esta facultad...  [Interesante, ejercido, facultad, investigacin...\n",
       "2         2.0              0.9115  ayotzinapa, cndh, ahora, facundo, rosas, chalc...  [:, Facundo, Rosas, comparece, CNDH, ahora, Ch...  :,Facundo,Rosas,comparece,CNDH,ahora,Chalchihu...  https://twitter.com/lospetirrojos/status/49700...  2014-08-06 12:44:52+00:00  #Guanajuato:  Facundo Rosas comparece ante CND...  #Guanajuato:  Facundo Rosas comparece ante CND...  4.970000e+17  ...         NaN         NaN         NaN          NaN          NaN          NaN          NaN          NaN  : Facundo Rosas comparece ante CNDH ahora por ...  [:, Facundo, Rosas, comparece, CNDH, ahora, Ch...\n",
       "3         3.0              0.9026  ayotzinapa, cndh, propia, ahora, facundo, repi...  [Reunin, egresados, escuela, Normal, Rural, ``...  Reunin,egresados,escuela,Normal,Rural,``,Ral,I...  https://twitter.com/silviaromeroDip/status/500...  2014-08-16 01:36:14+00:00  Reunión con egresados de la escuela Normal Rur...  Reunión con egresados de la escuela Normal Rur...  5.000000e+17  ...         NaN         NaN         NaN          NaN          NaN          NaN          NaN          NaN  Reunin con egresados de la escuela Normal Rura...  [Reunin, egresados, escuela, Normal, Rural, ``...\n",
       "4         5.0              0.9115  facundo, ayotzinapa, cndh, rosas, vctor, felip...  [Felipe, Caldern, ,, CNDH, ,, Facundo, Rosas, ...  Felipe,Caldern,,,CNDH,,,Facundo,Rosas,,,Ayotzi...  https://twitter.com/VladRothschuh/status/49704...  2014-08-06 15:47:17+00:00  Felipe Calderón, CNDH, Facundo Rosas, Ayotzina...  Felipe Calderón, CNDH, Facundo Rosas, Ayotzina...  4.970460e+17  ...         NaN         NaN         NaN          NaN          NaN          NaN          NaN          NaN  Felipe Caldern, CNDH, Facundo Rosas, Ayotzinap...  [Felipe, Caldern, ,, CNDH, ,, Facundo, Rosas, ...\n",
       "5         6.0              0.9189  ayotzinapa, autobs, oro, comparece, secuestran...  [:, No, primera, vez, Facundo, Rosas, comparec...  :,No,primera,vez,Facundo,Rosas,comparece,CNDH,...  https://twitter.com/PacoSanz9/status/497019616...  2014-08-06 14:01:25+00:00  “@SinEmbargoMX: No es la primera vez que Facun...  “@SinEmbargoMX: No es la primera vez que Facun...  4.970200e+17  ...         NaN         NaN         NaN          NaN          NaN          NaN          NaN          NaN  : No es la primera vez que Facundo Rosas compa...  [:, No, primera, vez, Facundo, Rosas, comparec...\n",
       "6         7.0              0.9189  robar, seis, trasladados, alumnos, delegacin, ...  [La, noche, ayer, detenidos, normalistas, ,, t...  La,noche,ayer,detenidos,normalistas,,,tras,ret...  https://twitter.com/ReporTorres/status/4966999...  2014-08-05 16:51:16+00:00  La noche de ayer fueron detenidos 6 normalista...  La noche de ayer fueron detenidos 6 normalista...  4.967000e+17  ...         NaN         NaN         NaN          NaN          NaN          NaN          NaN          NaN  La noche de ayer fueron detenidos normalistas ...  [La, noche, ayer, detenidos, normalistas, ,, t...\n",
       "7         8.0              0.9026  ayotzinapa, duraderos, comunitarios, protestan...  [Facundo, Rosas, comparece, represin, ;, tambi...  Facundo,Rosas,comparece,represin,;,tambin,viol...  https://twitter.com/NOTIGODINEZ/status/4970053...  2014-08-06 13:04:46+00:00  Facundo Rosas comparece ante #CNDH por represi...  Facundo Rosas comparece ante #CNDH por represi...  4.970050e+17  ...         NaN         NaN         NaN          NaN          NaN          NaN          NaN          NaN  Facundo Rosas comparece ante por represin en ;...  [Facundo, Rosas, comparece, represin, ;, tambi...\n",
       "8        10.0              0.9115  ayotzinapa, normalistas, protestan, aguirre, c...  [Denuncia, Tlachinollan, criminalizacin, CRAC,...  Denuncia,Tlachinollan,criminalizacin,CRAC,,,Ce...  https://twitter.com/CctiColectivo/status/49923...  2014-08-12 16:50:33+00:00  Denuncia Tlachinollan la criminalización de la...  Denuncia Tlachinollan la criminalización de la...  4.990000e+17  ...         NaN         NaN         NaN          NaN          NaN          NaN          NaN          NaN  Denuncia Tlachinollan la criminalizacin de la ...  [Denuncia, Tlachinollan, criminalizacin, CRAC,...\n",
       "9        12.0              0.9115  ayotzinapa, domingo, el, social, sbado, cndh, ...  [., El, Congreso, Social, Ayotzinapa, celebrar...  .,El,Congreso,Social,Ayotzinapa,celebrar,prxim...  https://twitter.com/MediosLibresMX/status/5046...  2014-08-27 14:42:54+00:00  1. El Congreso Social de Ayotzinapa que se cel...  1. El Congreso Social de Ayotzinapa que se cel...  5.050000e+17  ...         NaN         NaN         NaN          NaN          NaN          NaN          NaN          NaN  . El Congreso Social de Ayotzinapa que se cele...  [., El, Congreso, Social, Ayotzinapa, celebrar...\n",
       "10       13.0              0.7566  turstico, secuestran, autobs, creo, egresados,...                  [Secuestran, autobs, turstico, .]                       Secuestran,autobs,turstico,.  https://twitter.com/QuadratinMexico/status/496...  2014-08-05 03:53:00+00:00  #ADóndeVamosAParar Secuestran #normalistas de ...  #ADóndeVamosAParar Secuestran #normalistas de ...  4.965040e+17  ...         NaN         NaN         NaN          NaN          NaN          NaN          NaN          NaN                 Secuestran de autobs turstico en .                  [Secuestran, autobs, turstico, .]\n",
       "11       14.0              0.9189  ayotzinapa, ahora, cndh, facundo, rosas, derec...  [qu, bruto, ,, verdad, ., Y, primera, vez, ase...  qu,bruto,,,verdad,.,Y,primera,vez,asesinato,mo...  https://twitter.com/moralesoyarvide/status/502...  2014-08-21 16:06:30+00:00  @esteban_is qué bruto, de verdad. Y no es la p...  @esteban_is qué bruto, de verdad. Y no es la p...  5.020000e+17  ...         NaN         NaN         NaN          NaN          NaN          NaN          NaN          NaN  qu bruto, de verdad. Y no es la primera vez qu...  [qu, bruto, ,, verdad, ., Y, primera, vez, ase...\n",
       "12       16.0              0.9391  ayotzinapa, puebla, rosas, facundo, normalista...  [Facundo, Rosas, titular, SSP-Puebla, cliente,...  Facundo,Rosas,titular,SSP-Puebla,cliente,.,En,...  https://twitter.com/davosv2004/status/49715455...  2014-08-06 22:57:36+00:00  Facundo Rosas titular de SSP-Puebla cliente de...  Facundo Rosas titular de SSP-Puebla cliente de...  4.971550e+17  ...         NaN         NaN         NaN          NaN          NaN          NaN          NaN          NaN  Facundo Rosas titular de SSP-Puebla cliente de...  [Facundo, Rosas, titular, SSP-Puebla, cliente,...\n",
       "13       17.0              0.9251  ayotzinapa, rosas, cndh, facundo, neg, familia...  [El, brazo, armado, GoberBala, niega, uso, Bal...  El,brazo,armado,GoberBala,niega,uso,BalasDgoma...  https://twitter.com/torosytoritos54/status/497...  2014-08-07 15:36:22+00:00  @CentralPuebla @mundovelazquez El brazo armado...  @CentralPuebla @mundovelazquez El brazo armado...  4.974060e+17  ...         NaN         NaN         NaN          NaN          NaN          NaN          NaN          NaN  El brazo armado del GoberBala niega el uso de ...  [El, brazo, armado, GoberBala, niega, uso, Bal...\n",
       "14       19.0              0.9251  ayotzinapa, normalistas, cndh, gt, muerte, agu...  [Es, vergenza, citado, segunda, ocasin, CNDH, ...  Es,vergenza,citado,segunda,ocasin,CNDH,,,prime...  https://twitter.com/el_cholulteca/status/50008...  2014-08-15 00:44:21+00:00  Es una vergüenza que sea citado por segunda oc...  Es una vergüenza que sea citado por segunda oc...  5.000000e+17  ...         NaN         NaN         NaN          NaN          NaN          NaN          NaN          NaN  Es una vergenza que sea citado por segunda oca...  [Es, vergenza, citado, segunda, ocasin, CNDH, ...\n",
       "15       20.0              0.8783  ayotzinapa, congreso, guerrero, condiciones, o...  [Congreso, Ayotzinapa, ,, Guerrero, :, Condici...  Congreso,Ayotzinapa,,,Guerrero,:,Condiciones,o...  https://twitter.com/RiszardRijkard/status/5047...  2014-08-27 23:03:46+00:00  Congreso de Ayotzinapa, Guerrero: ¿Condiciones...  Congreso de Ayotzinapa, Guerrero: ¿Condiciones...  5.050000e+17  ...         NaN         NaN         NaN          NaN          NaN          NaN          NaN          NaN  Congreso de Ayotzinapa, Guerrero: Condiciones ...  [Congreso, Ayotzinapa, ,, Guerrero, :, Condici...\n",
       "16       20.0              0.8783  ayotzinapa, congreso, guerrero, condiciones, o...  [Congreso, Ayotzinapa, ,, Guerrero, :, Condici...  Congreso,Ayotzinapa,,,Guerrero,:,Condiciones,o...  https://twitter.com/LibreExpresionY/status/504...  2014-08-27 18:46:40+00:00  Congreso de Ayotzinapa, Guerrero: ¿Condiciones...  Congreso de Ayotzinapa, Guerrero: ¿Condiciones...  5.050000e+17  ...         NaN         NaN         NaN          NaN          NaN          NaN          NaN          NaN  Congreso de Ayotzinapa, Guerrero: Condiciones ...  [Congreso, Ayotzinapa, ,, Guerrero, :, Condici...\n",
       "17       21.0              0.9026  ayotzinapa, cndh, ahora, facundo, rosas, viol,...  [Facundo, Rosas, comparece, CNDH, ahora, Chalc...  Facundo,Rosas,comparece,CNDH,ahora,Chalchihuap...  https://twitter.com/ZonaFrancaMX/status/496994...  2014-08-06 12:20:12+00:00  Facundo Rosas comparece ante CNDH ahora por Ch...  Facundo Rosas comparece ante CNDH ahora por Ch...  4.969940e+17  ...         NaN         NaN         NaN          NaN          NaN          NaN          NaN          NaN  Facundo Rosas comparece ante CNDH ahora por Ch...  [Facundo, Rosas, comparece, CNDH, ahora, Chalc...\n",
       "18       22.0              0.9427  ayotzinapa, historia, facundo, cndh, responde,...  [El, dia, ayer, Polica, Federal, frustro, robo...  El,dia,ayer,Polica,Federal,frustro,robo,camin,...  https://twitter.com/AIG5/status/50246159254266...  2014-08-21 14:25:53+00:00  El dia de ayer la Policía Federal frustro robo...  El dia de ayer la Policía Federal frustro robo...  5.020000e+17  ...         NaN         NaN         NaN          NaN          NaN          NaN          NaN          NaN  El dia de ayer la Polica Federal frustro robo ...  [El, dia, ayer, Polica, Federal, frustro, robo...\n",
       "19       23.0              0.9026  gober, ayotzinapa, precioso, amigos, luisgarca...  [Q, pasa, amigos, poblanos, :, D, gober, preci...  Q,pasa,amigos,poblanos,:,D,gober,precioso,gobe...  https://twitter.com/MrCanciller/status/4973735...  2014-08-07 13:27:38+00:00  @Noquenunca @AleMondras @itrujillol @RafaGober...  @Noquenunca @AleMondras @itrujillol @RafaGober...  4.973740e+17  ...         NaN         NaN         NaN          NaN          NaN          NaN          NaN          NaN  Q pasa con los amigos poblanos: D gober precio...  [Q, pasa, amigos, poblanos, :, D, gober, preci...\n",
       "20       24.0              0.9115  congreso, social, ayotzinapa, duraderos, acuer...  [Congreso, Ayotzinapa, ,, Guerrero, :, Condici...  Congreso,Ayotzinapa,,,Guerrero,:,Condiciones,o...  https://twitter.com/Luixdb/status/504639287673...  2014-08-27 14:39:16+00:00  Congreso de Ayotzinapa, Guerrero: ¿Condiciones...  Congreso de Ayotzinapa, Guerrero: ¿Condiciones...  5.050000e+17  ...         NaN         NaN         NaN          NaN          NaN          NaN          NaN          NaN  Congreso de Ayotzinapa, Guerrero: Condiciones ...  [Congreso, Ayotzinapa, ,, Guerrero, :, Condici...\n",
       "21       24.0              0.9115  congreso, social, ayotzinapa, duraderos, acuer...  [Congreso, Ayotzinapa, ,, Guerrero, :, Condici...  Congreso,Ayotzinapa,,,Guerrero,:,Condiciones,o...  https://twitter.com/MadaiMorado/status/5046392...  2014-08-27 14:39:14+00:00  Congreso de Ayotzinapa, Guerrero: ¿Condiciones...  Congreso de Ayotzinapa, Guerrero: ¿Condiciones...  5.050000e+17  ...         NaN         NaN         NaN          NaN          NaN          NaN          NaN          NaN  Congreso de Ayotzinapa, Guerrero: Condiciones ...  [Congreso, Ayotzinapa, ,, Guerrero, :, Condici...\n",
       "22       24.0              0.9115  congreso, social, ayotzinapa, duraderos, acuer...  [Congreso, Ayotzinapa, ,, Guerrero, :, Condici...  Congreso,Ayotzinapa,,,Guerrero,:,Condiciones,o...  https://twitter.com/proamboax/status/504639252...  2014-08-27 14:39:08+00:00  Congreso de Ayotzinapa, Guerrero: ¿Condiciones...  Congreso de Ayotzinapa, Guerrero: ¿Condiciones...  5.050000e+17  ...         NaN         NaN         NaN          NaN          NaN          NaN          NaN          NaN  Congreso de Ayotzinapa, Guerrero: Condiciones ...  [Congreso, Ayotzinapa, ,, Guerrero, :, Condici...\n",
       "23       24.0              0.9115  congreso, social, ayotzinapa, duraderos, acuer...  [Congreso, Ayotzinapa, ,, Guerrero, :, Condici...  Congreso,Ayotzinapa,,,Guerrero,:,Condiciones,o...  https://twitter.com/Masta_CI_/status/504636244...  2014-08-27 14:27:11+00:00  Congreso de Ayotzinapa, Guerrero: ¿Condiciones...  Congreso de Ayotzinapa, Guerrero: ¿Condiciones...  5.050000e+17  ...         NaN         NaN         NaN          NaN          NaN          NaN          NaN          NaN  Congreso de Ayotzinapa, Guerrero: Condiciones ...  [Congreso, Ayotzinapa, ,, Guerrero, :, Condici...\n",
       "24       25.0              0.9115  ayotzinapa, chilpancingo, normalistas, autobus...  [NORMALISTAS, DE, AYOTZINAPA, Secuestran, auto...  NORMALISTAS,DE,AYOTZINAPA,Secuestran,autobuses...  https://twitter.com/SolChilpancingo/status/497...  2014-08-06 14:14:26+00:00  NORMALISTAS DE AYOTZINAPA Secuestran autobuses...  NORMALISTAS DE AYOTZINAPA Secuestran autobuses...  4.970230e+17  ...         NaN         NaN         NaN          NaN          NaN          NaN          NaN          NaN  NORMALISTAS DE AYOTZINAPA Secuestran autobuses...  [NORMALISTAS, DE, AYOTZINAPA, Secuestran, auto...\n",
       "25       26.0              0.9189  el, ayotzinapa, crac, operativo, primera, del,...  [CRAC, ,, APPG, Y, AYOTZINAPA, CONMEMORAN, EL,...  CRAC,,,APPG,Y,AYOTZINAPA,CONMEMORAN,EL,ANIVERS...  https://twitter.com/PrensaLibre_Mex/status/498...  2014-08-11 02:48:18+00:00  CRAC, APPG Y AYOTZINAPA CONMEMORAN EL 232 ANIV...  CRAC, APPG Y AYOTZINAPA CONMEMORAN EL 232 ANIV...  4.990000e+17  ...         NaN         NaN         NaN          NaN          NaN          NaN          NaN          NaN  CRAC, APPG Y AYOTZINAPA CONMEMORAN EL ANIVERSA...  [CRAC, ,, APPG, Y, AYOTZINAPA, CONMEMORAN, EL,...\n",
       "26       27.0              0.9251  ayotzinapa, rosas, facundo, responde, puebla, ...  [Facundo, Rosas, repite, propia, historia, :, ...  Facundo,Rosas,repite,propia,historia,:,ahora,r...  https://twitter.com/JoelQuinteroE/status/49705...  2014-08-06 16:39:17+00:00  Facundo Rosas repite su propia historia: ahora...  Facundo Rosas repite su propia historia: ahora...  4.970590e+17  ...         NaN         NaN         NaN          NaN          NaN          NaN          NaN          NaN  Facundo Rosas repite su propia historia: ahora...  [Facundo, Rosas, repite, propia, historia, :, ...\n",
       "27       28.0              0.8609  ayotzinapa, condiciones, rosas, poltica, contr...  [contratar, Facundo, Rosas, import, marcado, A...  contratar,Facundo,Rosas,import,marcado,Ayotzinapa  https://twitter.com/FernandoRuizL7/status/4974...  2014-08-07 16:42:59+00:00  @RafaGobernador al contratar a Facundo Rosas n...  @RafaGobernador al contratar a Facundo Rosas n...  4.974230e+17  ...         NaN         NaN         NaN          NaN          NaN          NaN          NaN          NaN  al contratar a Facundo Rosas no le import que ...  [contratar, Facundo, Rosas, import, marcado, A...\n",
       "28       29.0              0.9115  ayotzinapa, seis, trasladados, delegacin, deti...  [Toman, estudiantes, Ayotzinapa, autobs, ;, re...  Toman,estudiantes,Ayotzinapa,autobs,;,recupera...  https://twitter.com/CctiColectivo/status/49668...  2014-08-05 16:11:36+00:00  Toman estudiantes de Ayotzinapa un autobús; lo...  Toman estudiantes de Ayotzinapa un autobús; lo...  4.966900e+17  ...         NaN         NaN         NaN          NaN          NaN          NaN          NaN          NaN  Toman estudiantes de Ayotzinapa un autobs; lo ...  [Toman, estudiantes, Ayotzinapa, autobs, ;, re...\n",
       "29       30.0              0.9115  ayotzinapa, guerrero, conmemoran, natalicio, p...  [CRAC, ,, APPG, Ayotzinapa, conmemoran, aniver...  CRAC,,,APPG,Ayotzinapa,conmemoran,aniversario,...  https://twitter.com/adnguerrero1/status/498904...  2014-08-11 18:52:23+00:00  CRAC, APPG y Ayotzinapa conmemoran el 232 aniv...  CRAC, APPG y Ayotzinapa conmemoran el 232 aniv...  4.990000e+17  ...         NaN         NaN         NaN          NaN          NaN          NaN          NaN          NaN  CRAC, APPG y Ayotzinapa conmemoran el aniversa...  [CRAC, ,, APPG, Ayotzinapa, conmemoran, aniver...\n",
       "\n",
       "[30 rows x 62 columns]"
      ],
      "text/html": "<div>\n<style scoped>\n    .dataframe tbody tr th:only-of-type {\n        vertical-align: middle;\n    }\n\n    .dataframe tbody tr th {\n        vertical-align: top;\n    }\n\n    .dataframe thead th {\n        text-align: right;\n    }\n</style>\n<table border=\"1\" class=\"dataframe\">\n  <thead>\n    <tr style=\"text-align: right;\">\n      <th></th>\n      <th>Topic_Num</th>\n      <th>Topic_Perc_Contrib</th>\n      <th>Keywords</th>\n      <th>Text_x</th>\n      <th>liststring</th>\n      <th>url</th>\n      <th>date</th>\n      <th>content</th>\n      <th>renderedContent</th>\n      <th>id</th>\n      <th>...</th>\n      <th>Unnamed: 47</th>\n      <th>Unnamed: 48</th>\n      <th>Unnamed: 49</th>\n      <th>Unnamed: 50</th>\n      <th>Unnamed: 51</th>\n      <th>Unnamed: 52</th>\n      <th>Unnamed: 53</th>\n      <th>Unnamed: 54</th>\n      <th>proc_text</th>\n      <th>Text_y</th>\n    </tr>\n  </thead>\n  <tbody>\n    <tr>\n      <th>0</th>\n      <td>0.0</td>\n      <td>0.9115</td>\n      <td>ayotzinapa, congreso, castigue, en, ya, el, pe...</td>\n      <td>[Este, perro, rabioso, FaCANdo, ,, YA, HABA, A...</td>\n      <td>Este,perro,rabioso,FaCANdo,,,YA,HABA,ASESINADO...</td>\n      <td>https://twitter.com/zame47/status/497563506447...</td>\n      <td>2014-08-08 02:02:38+00:00</td>\n      <td>Este perro rabioso FaCANdo, YA HABÍA ASESINADO...</td>\n      <td>Este perro rabioso FaCANdo, YA HABÍA ASESINADO...</td>\n      <td>4.975640e+17</td>\n      <td>...</td>\n      <td>NaN</td>\n      <td>NaN</td>\n      <td>NaN</td>\n      <td>NaN</td>\n      <td>NaN</td>\n      <td>NaN</td>\n      <td>NaN</td>\n      <td>NaN</td>\n      <td>Este perro rabioso FaCANdo, YA HABA ASESINADO ...</td>\n      <td>[Este, perro, rabioso, FaCANdo, ,, YA, HABA, A...</td>\n    </tr>\n    <tr>\n      <th>1</th>\n      <td>1.0</td>\n      <td>0.9115</td>\n      <td>ayotzinapa, autobs, turstico, social, congreso...</td>\n      <td>[Interesante, ejercido, facultad, investigacin...</td>\n      <td>Interesante,ejercido,facultad,investigacin,cas...</td>\n      <td>https://twitter.com/TavoAmezcua/status/4949991...</td>\n      <td>2014-08-01 00:12:46+00:00</td>\n      <td>Interesante que la @CNDH haya ejercido esta fa...</td>\n      <td>Interesante que la @CNDH haya ejercido esta fa...</td>\n      <td>4.949990e+17</td>\n      <td>...</td>\n      <td>NaN</td>\n      <td>NaN</td>\n      <td>NaN</td>\n      <td>NaN</td>\n      <td>NaN</td>\n      <td>NaN</td>\n      <td>NaN</td>\n      <td>NaN</td>\n      <td>Interesante que la haya ejercido esta facultad...</td>\n      <td>[Interesante, ejercido, facultad, investigacin...</td>\n    </tr>\n    <tr>\n      <th>2</th>\n      <td>2.0</td>\n      <td>0.9115</td>\n      <td>ayotzinapa, cndh, ahora, facundo, rosas, chalc...</td>\n      <td>[:, Facundo, Rosas, comparece, CNDH, ahora, Ch...</td>\n      <td>:,Facundo,Rosas,comparece,CNDH,ahora,Chalchihu...</td>\n      <td>https://twitter.com/lospetirrojos/status/49700...</td>\n      <td>2014-08-06 12:44:52+00:00</td>\n      <td>#Guanajuato:  Facundo Rosas comparece ante CND...</td>\n      <td>#Guanajuato:  Facundo Rosas comparece ante CND...</td>\n      <td>4.970000e+17</td>\n      <td>...</td>\n      <td>NaN</td>\n      <td>NaN</td>\n      <td>NaN</td>\n      <td>NaN</td>\n      <td>NaN</td>\n      <td>NaN</td>\n      <td>NaN</td>\n      <td>NaN</td>\n      <td>: Facundo Rosas comparece ante CNDH ahora por ...</td>\n      <td>[:, Facundo, Rosas, comparece, CNDH, ahora, Ch...</td>\n    </tr>\n    <tr>\n      <th>3</th>\n      <td>3.0</td>\n      <td>0.9026</td>\n      <td>ayotzinapa, cndh, propia, ahora, facundo, repi...</td>\n      <td>[Reunin, egresados, escuela, Normal, Rural, ``...</td>\n      <td>Reunin,egresados,escuela,Normal,Rural,``,Ral,I...</td>\n      <td>https://twitter.com/silviaromeroDip/status/500...</td>\n      <td>2014-08-16 01:36:14+00:00</td>\n      <td>Reunión con egresados de la escuela Normal Rur...</td>\n      <td>Reunión con egresados de la escuela Normal Rur...</td>\n      <td>5.000000e+17</td>\n      <td>...</td>\n      <td>NaN</td>\n      <td>NaN</td>\n      <td>NaN</td>\n      <td>NaN</td>\n      <td>NaN</td>\n      <td>NaN</td>\n      <td>NaN</td>\n      <td>NaN</td>\n      <td>Reunin con egresados de la escuela Normal Rura...</td>\n      <td>[Reunin, egresados, escuela, Normal, Rural, ``...</td>\n    </tr>\n    <tr>\n      <th>4</th>\n      <td>5.0</td>\n      <td>0.9115</td>\n      <td>facundo, ayotzinapa, cndh, rosas, vctor, felip...</td>\n      <td>[Felipe, Caldern, ,, CNDH, ,, Facundo, Rosas, ...</td>\n      <td>Felipe,Caldern,,,CNDH,,,Facundo,Rosas,,,Ayotzi...</td>\n      <td>https://twitter.com/VladRothschuh/status/49704...</td>\n      <td>2014-08-06 15:47:17+00:00</td>\n      <td>Felipe Calderón, CNDH, Facundo Rosas, Ayotzina...</td>\n      <td>Felipe Calderón, CNDH, Facundo Rosas, Ayotzina...</td>\n      <td>4.970460e+17</td>\n      <td>...</td>\n      <td>NaN</td>\n      <td>NaN</td>\n      <td>NaN</td>\n      <td>NaN</td>\n      <td>NaN</td>\n      <td>NaN</td>\n      <td>NaN</td>\n      <td>NaN</td>\n      <td>Felipe Caldern, CNDH, Facundo Rosas, Ayotzinap...</td>\n      <td>[Felipe, Caldern, ,, CNDH, ,, Facundo, Rosas, ...</td>\n    </tr>\n    <tr>\n      <th>5</th>\n      <td>6.0</td>\n      <td>0.9189</td>\n      <td>ayotzinapa, autobs, oro, comparece, secuestran...</td>\n      <td>[:, No, primera, vez, Facundo, Rosas, comparec...</td>\n      <td>:,No,primera,vez,Facundo,Rosas,comparece,CNDH,...</td>\n      <td>https://twitter.com/PacoSanz9/status/497019616...</td>\n      <td>2014-08-06 14:01:25+00:00</td>\n      <td>“@SinEmbargoMX: No es la primera vez que Facun...</td>\n      <td>“@SinEmbargoMX: No es la primera vez que Facun...</td>\n      <td>4.970200e+17</td>\n      <td>...</td>\n      <td>NaN</td>\n      <td>NaN</td>\n      <td>NaN</td>\n      <td>NaN</td>\n      <td>NaN</td>\n      <td>NaN</td>\n      <td>NaN</td>\n      <td>NaN</td>\n      <td>: No es la primera vez que Facundo Rosas compa...</td>\n      <td>[:, No, primera, vez, Facundo, Rosas, comparec...</td>\n    </tr>\n    <tr>\n      <th>6</th>\n      <td>7.0</td>\n      <td>0.9189</td>\n      <td>robar, seis, trasladados, alumnos, delegacin, ...</td>\n      <td>[La, noche, ayer, detenidos, normalistas, ,, t...</td>\n      <td>La,noche,ayer,detenidos,normalistas,,,tras,ret...</td>\n      <td>https://twitter.com/ReporTorres/status/4966999...</td>\n      <td>2014-08-05 16:51:16+00:00</td>\n      <td>La noche de ayer fueron detenidos 6 normalista...</td>\n      <td>La noche de ayer fueron detenidos 6 normalista...</td>\n      <td>4.967000e+17</td>\n      <td>...</td>\n      <td>NaN</td>\n      <td>NaN</td>\n      <td>NaN</td>\n      <td>NaN</td>\n      <td>NaN</td>\n      <td>NaN</td>\n      <td>NaN</td>\n      <td>NaN</td>\n      <td>La noche de ayer fueron detenidos normalistas ...</td>\n      <td>[La, noche, ayer, detenidos, normalistas, ,, t...</td>\n    </tr>\n    <tr>\n      <th>7</th>\n      <td>8.0</td>\n      <td>0.9026</td>\n      <td>ayotzinapa, duraderos, comunitarios, protestan...</td>\n      <td>[Facundo, Rosas, comparece, represin, ;, tambi...</td>\n      <td>Facundo,Rosas,comparece,represin,;,tambin,viol...</td>\n      <td>https://twitter.com/NOTIGODINEZ/status/4970053...</td>\n      <td>2014-08-06 13:04:46+00:00</td>\n      <td>Facundo Rosas comparece ante #CNDH por represi...</td>\n      <td>Facundo Rosas comparece ante #CNDH por represi...</td>\n      <td>4.970050e+17</td>\n      <td>...</td>\n      <td>NaN</td>\n      <td>NaN</td>\n      <td>NaN</td>\n      <td>NaN</td>\n      <td>NaN</td>\n      <td>NaN</td>\n      <td>NaN</td>\n      <td>NaN</td>\n      <td>Facundo Rosas comparece ante por represin en ;...</td>\n      <td>[Facundo, Rosas, comparece, represin, ;, tambi...</td>\n    </tr>\n    <tr>\n      <th>8</th>\n      <td>10.0</td>\n      <td>0.9115</td>\n      <td>ayotzinapa, normalistas, protestan, aguirre, c...</td>\n      <td>[Denuncia, Tlachinollan, criminalizacin, CRAC,...</td>\n      <td>Denuncia,Tlachinollan,criminalizacin,CRAC,,,Ce...</td>\n      <td>https://twitter.com/CctiColectivo/status/49923...</td>\n      <td>2014-08-12 16:50:33+00:00</td>\n      <td>Denuncia Tlachinollan la criminalización de la...</td>\n      <td>Denuncia Tlachinollan la criminalización de la...</td>\n      <td>4.990000e+17</td>\n      <td>...</td>\n      <td>NaN</td>\n      <td>NaN</td>\n      <td>NaN</td>\n      <td>NaN</td>\n      <td>NaN</td>\n      <td>NaN</td>\n      <td>NaN</td>\n      <td>NaN</td>\n      <td>Denuncia Tlachinollan la criminalizacin de la ...</td>\n      <td>[Denuncia, Tlachinollan, criminalizacin, CRAC,...</td>\n    </tr>\n    <tr>\n      <th>9</th>\n      <td>12.0</td>\n      <td>0.9115</td>\n      <td>ayotzinapa, domingo, el, social, sbado, cndh, ...</td>\n      <td>[., El, Congreso, Social, Ayotzinapa, celebrar...</td>\n      <td>.,El,Congreso,Social,Ayotzinapa,celebrar,prxim...</td>\n      <td>https://twitter.com/MediosLibresMX/status/5046...</td>\n      <td>2014-08-27 14:42:54+00:00</td>\n      <td>1. El Congreso Social de Ayotzinapa que se cel...</td>\n      <td>1. El Congreso Social de Ayotzinapa que se cel...</td>\n      <td>5.050000e+17</td>\n      <td>...</td>\n      <td>NaN</td>\n      <td>NaN</td>\n      <td>NaN</td>\n      <td>NaN</td>\n      <td>NaN</td>\n      <td>NaN</td>\n      <td>NaN</td>\n      <td>NaN</td>\n      <td>. El Congreso Social de Ayotzinapa que se cele...</td>\n      <td>[., El, Congreso, Social, Ayotzinapa, celebrar...</td>\n    </tr>\n    <tr>\n      <th>10</th>\n      <td>13.0</td>\n      <td>0.7566</td>\n      <td>turstico, secuestran, autobs, creo, egresados,...</td>\n      <td>[Secuestran, autobs, turstico, .]</td>\n      <td>Secuestran,autobs,turstico,.</td>\n      <td>https://twitter.com/QuadratinMexico/status/496...</td>\n      <td>2014-08-05 03:53:00+00:00</td>\n      <td>#ADóndeVamosAParar Secuestran #normalistas de ...</td>\n      <td>#ADóndeVamosAParar Secuestran #normalistas de ...</td>\n      <td>4.965040e+17</td>\n      <td>...</td>\n      <td>NaN</td>\n      <td>NaN</td>\n      <td>NaN</td>\n      <td>NaN</td>\n      <td>NaN</td>\n      <td>NaN</td>\n      <td>NaN</td>\n      <td>NaN</td>\n      <td>Secuestran de autobs turstico en .</td>\n      <td>[Secuestran, autobs, turstico, .]</td>\n    </tr>\n    <tr>\n      <th>11</th>\n      <td>14.0</td>\n      <td>0.9189</td>\n      <td>ayotzinapa, ahora, cndh, facundo, rosas, derec...</td>\n      <td>[qu, bruto, ,, verdad, ., Y, primera, vez, ase...</td>\n      <td>qu,bruto,,,verdad,.,Y,primera,vez,asesinato,mo...</td>\n      <td>https://twitter.com/moralesoyarvide/status/502...</td>\n      <td>2014-08-21 16:06:30+00:00</td>\n      <td>@esteban_is qué bruto, de verdad. Y no es la p...</td>\n      <td>@esteban_is qué bruto, de verdad. Y no es la p...</td>\n      <td>5.020000e+17</td>\n      <td>...</td>\n      <td>NaN</td>\n      <td>NaN</td>\n      <td>NaN</td>\n      <td>NaN</td>\n      <td>NaN</td>\n      <td>NaN</td>\n      <td>NaN</td>\n      <td>NaN</td>\n      <td>qu bruto, de verdad. Y no es la primera vez qu...</td>\n      <td>[qu, bruto, ,, verdad, ., Y, primera, vez, ase...</td>\n    </tr>\n    <tr>\n      <th>12</th>\n      <td>16.0</td>\n      <td>0.9391</td>\n      <td>ayotzinapa, puebla, rosas, facundo, normalista...</td>\n      <td>[Facundo, Rosas, titular, SSP-Puebla, cliente,...</td>\n      <td>Facundo,Rosas,titular,SSP-Puebla,cliente,.,En,...</td>\n      <td>https://twitter.com/davosv2004/status/49715455...</td>\n      <td>2014-08-06 22:57:36+00:00</td>\n      <td>Facundo Rosas titular de SSP-Puebla cliente de...</td>\n      <td>Facundo Rosas titular de SSP-Puebla cliente de...</td>\n      <td>4.971550e+17</td>\n      <td>...</td>\n      <td>NaN</td>\n      <td>NaN</td>\n      <td>NaN</td>\n      <td>NaN</td>\n      <td>NaN</td>\n      <td>NaN</td>\n      <td>NaN</td>\n      <td>NaN</td>\n      <td>Facundo Rosas titular de SSP-Puebla cliente de...</td>\n      <td>[Facundo, Rosas, titular, SSP-Puebla, cliente,...</td>\n    </tr>\n    <tr>\n      <th>13</th>\n      <td>17.0</td>\n      <td>0.9251</td>\n      <td>ayotzinapa, rosas, cndh, facundo, neg, familia...</td>\n      <td>[El, brazo, armado, GoberBala, niega, uso, Bal...</td>\n      <td>El,brazo,armado,GoberBala,niega,uso,BalasDgoma...</td>\n      <td>https://twitter.com/torosytoritos54/status/497...</td>\n      <td>2014-08-07 15:36:22+00:00</td>\n      <td>@CentralPuebla @mundovelazquez El brazo armado...</td>\n      <td>@CentralPuebla @mundovelazquez El brazo armado...</td>\n      <td>4.974060e+17</td>\n      <td>...</td>\n      <td>NaN</td>\n      <td>NaN</td>\n      <td>NaN</td>\n      <td>NaN</td>\n      <td>NaN</td>\n      <td>NaN</td>\n      <td>NaN</td>\n      <td>NaN</td>\n      <td>El brazo armado del GoberBala niega el uso de ...</td>\n      <td>[El, brazo, armado, GoberBala, niega, uso, Bal...</td>\n    </tr>\n    <tr>\n      <th>14</th>\n      <td>19.0</td>\n      <td>0.9251</td>\n      <td>ayotzinapa, normalistas, cndh, gt, muerte, agu...</td>\n      <td>[Es, vergenza, citado, segunda, ocasin, CNDH, ...</td>\n      <td>Es,vergenza,citado,segunda,ocasin,CNDH,,,prime...</td>\n      <td>https://twitter.com/el_cholulteca/status/50008...</td>\n      <td>2014-08-15 00:44:21+00:00</td>\n      <td>Es una vergüenza que sea citado por segunda oc...</td>\n      <td>Es una vergüenza que sea citado por segunda oc...</td>\n      <td>5.000000e+17</td>\n      <td>...</td>\n      <td>NaN</td>\n      <td>NaN</td>\n      <td>NaN</td>\n      <td>NaN</td>\n      <td>NaN</td>\n      <td>NaN</td>\n      <td>NaN</td>\n      <td>NaN</td>\n      <td>Es una vergenza que sea citado por segunda oca...</td>\n      <td>[Es, vergenza, citado, segunda, ocasin, CNDH, ...</td>\n    </tr>\n    <tr>\n      <th>15</th>\n      <td>20.0</td>\n      <td>0.8783</td>\n      <td>ayotzinapa, congreso, guerrero, condiciones, o...</td>\n      <td>[Congreso, Ayotzinapa, ,, Guerrero, :, Condici...</td>\n      <td>Congreso,Ayotzinapa,,,Guerrero,:,Condiciones,o...</td>\n      <td>https://twitter.com/RiszardRijkard/status/5047...</td>\n      <td>2014-08-27 23:03:46+00:00</td>\n      <td>Congreso de Ayotzinapa, Guerrero: ¿Condiciones...</td>\n      <td>Congreso de Ayotzinapa, Guerrero: ¿Condiciones...</td>\n      <td>5.050000e+17</td>\n      <td>...</td>\n      <td>NaN</td>\n      <td>NaN</td>\n      <td>NaN</td>\n      <td>NaN</td>\n      <td>NaN</td>\n      <td>NaN</td>\n      <td>NaN</td>\n      <td>NaN</td>\n      <td>Congreso de Ayotzinapa, Guerrero: Condiciones ...</td>\n      <td>[Congreso, Ayotzinapa, ,, Guerrero, :, Condici...</td>\n    </tr>\n    <tr>\n      <th>16</th>\n      <td>20.0</td>\n      <td>0.8783</td>\n      <td>ayotzinapa, congreso, guerrero, condiciones, o...</td>\n      <td>[Congreso, Ayotzinapa, ,, Guerrero, :, Condici...</td>\n      <td>Congreso,Ayotzinapa,,,Guerrero,:,Condiciones,o...</td>\n      <td>https://twitter.com/LibreExpresionY/status/504...</td>\n      <td>2014-08-27 18:46:40+00:00</td>\n      <td>Congreso de Ayotzinapa, Guerrero: ¿Condiciones...</td>\n      <td>Congreso de Ayotzinapa, Guerrero: ¿Condiciones...</td>\n      <td>5.050000e+17</td>\n      <td>...</td>\n      <td>NaN</td>\n      <td>NaN</td>\n      <td>NaN</td>\n      <td>NaN</td>\n      <td>NaN</td>\n      <td>NaN</td>\n      <td>NaN</td>\n      <td>NaN</td>\n      <td>Congreso de Ayotzinapa, Guerrero: Condiciones ...</td>\n      <td>[Congreso, Ayotzinapa, ,, Guerrero, :, Condici...</td>\n    </tr>\n    <tr>\n      <th>17</th>\n      <td>21.0</td>\n      <td>0.9026</td>\n      <td>ayotzinapa, cndh, ahora, facundo, rosas, viol,...</td>\n      <td>[Facundo, Rosas, comparece, CNDH, ahora, Chalc...</td>\n      <td>Facundo,Rosas,comparece,CNDH,ahora,Chalchihuap...</td>\n      <td>https://twitter.com/ZonaFrancaMX/status/496994...</td>\n      <td>2014-08-06 12:20:12+00:00</td>\n      <td>Facundo Rosas comparece ante CNDH ahora por Ch...</td>\n      <td>Facundo Rosas comparece ante CNDH ahora por Ch...</td>\n      <td>4.969940e+17</td>\n      <td>...</td>\n      <td>NaN</td>\n      <td>NaN</td>\n      <td>NaN</td>\n      <td>NaN</td>\n      <td>NaN</td>\n      <td>NaN</td>\n      <td>NaN</td>\n      <td>NaN</td>\n      <td>Facundo Rosas comparece ante CNDH ahora por Ch...</td>\n      <td>[Facundo, Rosas, comparece, CNDH, ahora, Chalc...</td>\n    </tr>\n    <tr>\n      <th>18</th>\n      <td>22.0</td>\n      <td>0.9427</td>\n      <td>ayotzinapa, historia, facundo, cndh, responde,...</td>\n      <td>[El, dia, ayer, Polica, Federal, frustro, robo...</td>\n      <td>El,dia,ayer,Polica,Federal,frustro,robo,camin,...</td>\n      <td>https://twitter.com/AIG5/status/50246159254266...</td>\n      <td>2014-08-21 14:25:53+00:00</td>\n      <td>El dia de ayer la Policía Federal frustro robo...</td>\n      <td>El dia de ayer la Policía Federal frustro robo...</td>\n      <td>5.020000e+17</td>\n      <td>...</td>\n      <td>NaN</td>\n      <td>NaN</td>\n      <td>NaN</td>\n      <td>NaN</td>\n      <td>NaN</td>\n      <td>NaN</td>\n      <td>NaN</td>\n      <td>NaN</td>\n      <td>El dia de ayer la Polica Federal frustro robo ...</td>\n      <td>[El, dia, ayer, Polica, Federal, frustro, robo...</td>\n    </tr>\n    <tr>\n      <th>19</th>\n      <td>23.0</td>\n      <td>0.9026</td>\n      <td>gober, ayotzinapa, precioso, amigos, luisgarca...</td>\n      <td>[Q, pasa, amigos, poblanos, :, D, gober, preci...</td>\n      <td>Q,pasa,amigos,poblanos,:,D,gober,precioso,gobe...</td>\n      <td>https://twitter.com/MrCanciller/status/4973735...</td>\n      <td>2014-08-07 13:27:38+00:00</td>\n      <td>@Noquenunca @AleMondras @itrujillol @RafaGober...</td>\n      <td>@Noquenunca @AleMondras @itrujillol @RafaGober...</td>\n      <td>4.973740e+17</td>\n      <td>...</td>\n      <td>NaN</td>\n      <td>NaN</td>\n      <td>NaN</td>\n      <td>NaN</td>\n      <td>NaN</td>\n      <td>NaN</td>\n      <td>NaN</td>\n      <td>NaN</td>\n      <td>Q pasa con los amigos poblanos: D gober precio...</td>\n      <td>[Q, pasa, amigos, poblanos, :, D, gober, preci...</td>\n    </tr>\n    <tr>\n      <th>20</th>\n      <td>24.0</td>\n      <td>0.9115</td>\n      <td>congreso, social, ayotzinapa, duraderos, acuer...</td>\n      <td>[Congreso, Ayotzinapa, ,, Guerrero, :, Condici...</td>\n      <td>Congreso,Ayotzinapa,,,Guerrero,:,Condiciones,o...</td>\n      <td>https://twitter.com/Luixdb/status/504639287673...</td>\n      <td>2014-08-27 14:39:16+00:00</td>\n      <td>Congreso de Ayotzinapa, Guerrero: ¿Condiciones...</td>\n      <td>Congreso de Ayotzinapa, Guerrero: ¿Condiciones...</td>\n      <td>5.050000e+17</td>\n      <td>...</td>\n      <td>NaN</td>\n      <td>NaN</td>\n      <td>NaN</td>\n      <td>NaN</td>\n      <td>NaN</td>\n      <td>NaN</td>\n      <td>NaN</td>\n      <td>NaN</td>\n      <td>Congreso de Ayotzinapa, Guerrero: Condiciones ...</td>\n      <td>[Congreso, Ayotzinapa, ,, Guerrero, :, Condici...</td>\n    </tr>\n    <tr>\n      <th>21</th>\n      <td>24.0</td>\n      <td>0.9115</td>\n      <td>congreso, social, ayotzinapa, duraderos, acuer...</td>\n      <td>[Congreso, Ayotzinapa, ,, Guerrero, :, Condici...</td>\n      <td>Congreso,Ayotzinapa,,,Guerrero,:,Condiciones,o...</td>\n      <td>https://twitter.com/MadaiMorado/status/5046392...</td>\n      <td>2014-08-27 14:39:14+00:00</td>\n      <td>Congreso de Ayotzinapa, Guerrero: ¿Condiciones...</td>\n      <td>Congreso de Ayotzinapa, Guerrero: ¿Condiciones...</td>\n      <td>5.050000e+17</td>\n      <td>...</td>\n      <td>NaN</td>\n      <td>NaN</td>\n      <td>NaN</td>\n      <td>NaN</td>\n      <td>NaN</td>\n      <td>NaN</td>\n      <td>NaN</td>\n      <td>NaN</td>\n      <td>Congreso de Ayotzinapa, Guerrero: Condiciones ...</td>\n      <td>[Congreso, Ayotzinapa, ,, Guerrero, :, Condici...</td>\n    </tr>\n    <tr>\n      <th>22</th>\n      <td>24.0</td>\n      <td>0.9115</td>\n      <td>congreso, social, ayotzinapa, duraderos, acuer...</td>\n      <td>[Congreso, Ayotzinapa, ,, Guerrero, :, Condici...</td>\n      <td>Congreso,Ayotzinapa,,,Guerrero,:,Condiciones,o...</td>\n      <td>https://twitter.com/proamboax/status/504639252...</td>\n      <td>2014-08-27 14:39:08+00:00</td>\n      <td>Congreso de Ayotzinapa, Guerrero: ¿Condiciones...</td>\n      <td>Congreso de Ayotzinapa, Guerrero: ¿Condiciones...</td>\n      <td>5.050000e+17</td>\n      <td>...</td>\n      <td>NaN</td>\n      <td>NaN</td>\n      <td>NaN</td>\n      <td>NaN</td>\n      <td>NaN</td>\n      <td>NaN</td>\n      <td>NaN</td>\n      <td>NaN</td>\n      <td>Congreso de Ayotzinapa, Guerrero: Condiciones ...</td>\n      <td>[Congreso, Ayotzinapa, ,, Guerrero, :, Condici...</td>\n    </tr>\n    <tr>\n      <th>23</th>\n      <td>24.0</td>\n      <td>0.9115</td>\n      <td>congreso, social, ayotzinapa, duraderos, acuer...</td>\n      <td>[Congreso, Ayotzinapa, ,, Guerrero, :, Condici...</td>\n      <td>Congreso,Ayotzinapa,,,Guerrero,:,Condiciones,o...</td>\n      <td>https://twitter.com/Masta_CI_/status/504636244...</td>\n      <td>2014-08-27 14:27:11+00:00</td>\n      <td>Congreso de Ayotzinapa, Guerrero: ¿Condiciones...</td>\n      <td>Congreso de Ayotzinapa, Guerrero: ¿Condiciones...</td>\n      <td>5.050000e+17</td>\n      <td>...</td>\n      <td>NaN</td>\n      <td>NaN</td>\n      <td>NaN</td>\n      <td>NaN</td>\n      <td>NaN</td>\n      <td>NaN</td>\n      <td>NaN</td>\n      <td>NaN</td>\n      <td>Congreso de Ayotzinapa, Guerrero: Condiciones ...</td>\n      <td>[Congreso, Ayotzinapa, ,, Guerrero, :, Condici...</td>\n    </tr>\n    <tr>\n      <th>24</th>\n      <td>25.0</td>\n      <td>0.9115</td>\n      <td>ayotzinapa, chilpancingo, normalistas, autobus...</td>\n      <td>[NORMALISTAS, DE, AYOTZINAPA, Secuestran, auto...</td>\n      <td>NORMALISTAS,DE,AYOTZINAPA,Secuestran,autobuses...</td>\n      <td>https://twitter.com/SolChilpancingo/status/497...</td>\n      <td>2014-08-06 14:14:26+00:00</td>\n      <td>NORMALISTAS DE AYOTZINAPA Secuestran autobuses...</td>\n      <td>NORMALISTAS DE AYOTZINAPA Secuestran autobuses...</td>\n      <td>4.970230e+17</td>\n      <td>...</td>\n      <td>NaN</td>\n      <td>NaN</td>\n      <td>NaN</td>\n      <td>NaN</td>\n      <td>NaN</td>\n      <td>NaN</td>\n      <td>NaN</td>\n      <td>NaN</td>\n      <td>NORMALISTAS DE AYOTZINAPA Secuestran autobuses...</td>\n      <td>[NORMALISTAS, DE, AYOTZINAPA, Secuestran, auto...</td>\n    </tr>\n    <tr>\n      <th>25</th>\n      <td>26.0</td>\n      <td>0.9189</td>\n      <td>el, ayotzinapa, crac, operativo, primera, del,...</td>\n      <td>[CRAC, ,, APPG, Y, AYOTZINAPA, CONMEMORAN, EL,...</td>\n      <td>CRAC,,,APPG,Y,AYOTZINAPA,CONMEMORAN,EL,ANIVERS...</td>\n      <td>https://twitter.com/PrensaLibre_Mex/status/498...</td>\n      <td>2014-08-11 02:48:18+00:00</td>\n      <td>CRAC, APPG Y AYOTZINAPA CONMEMORAN EL 232 ANIV...</td>\n      <td>CRAC, APPG Y AYOTZINAPA CONMEMORAN EL 232 ANIV...</td>\n      <td>4.990000e+17</td>\n      <td>...</td>\n      <td>NaN</td>\n      <td>NaN</td>\n      <td>NaN</td>\n      <td>NaN</td>\n      <td>NaN</td>\n      <td>NaN</td>\n      <td>NaN</td>\n      <td>NaN</td>\n      <td>CRAC, APPG Y AYOTZINAPA CONMEMORAN EL ANIVERSA...</td>\n      <td>[CRAC, ,, APPG, Y, AYOTZINAPA, CONMEMORAN, EL,...</td>\n    </tr>\n    <tr>\n      <th>26</th>\n      <td>27.0</td>\n      <td>0.9251</td>\n      <td>ayotzinapa, rosas, facundo, responde, puebla, ...</td>\n      <td>[Facundo, Rosas, repite, propia, historia, :, ...</td>\n      <td>Facundo,Rosas,repite,propia,historia,:,ahora,r...</td>\n      <td>https://twitter.com/JoelQuinteroE/status/49705...</td>\n      <td>2014-08-06 16:39:17+00:00</td>\n      <td>Facundo Rosas repite su propia historia: ahora...</td>\n      <td>Facundo Rosas repite su propia historia: ahora...</td>\n      <td>4.970590e+17</td>\n      <td>...</td>\n      <td>NaN</td>\n      <td>NaN</td>\n      <td>NaN</td>\n      <td>NaN</td>\n      <td>NaN</td>\n      <td>NaN</td>\n      <td>NaN</td>\n      <td>NaN</td>\n      <td>Facundo Rosas repite su propia historia: ahora...</td>\n      <td>[Facundo, Rosas, repite, propia, historia, :, ...</td>\n    </tr>\n    <tr>\n      <th>27</th>\n      <td>28.0</td>\n      <td>0.8609</td>\n      <td>ayotzinapa, condiciones, rosas, poltica, contr...</td>\n      <td>[contratar, Facundo, Rosas, import, marcado, A...</td>\n      <td>contratar,Facundo,Rosas,import,marcado,Ayotzinapa</td>\n      <td>https://twitter.com/FernandoRuizL7/status/4974...</td>\n      <td>2014-08-07 16:42:59+00:00</td>\n      <td>@RafaGobernador al contratar a Facundo Rosas n...</td>\n      <td>@RafaGobernador al contratar a Facundo Rosas n...</td>\n      <td>4.974230e+17</td>\n      <td>...</td>\n      <td>NaN</td>\n      <td>NaN</td>\n      <td>NaN</td>\n      <td>NaN</td>\n      <td>NaN</td>\n      <td>NaN</td>\n      <td>NaN</td>\n      <td>NaN</td>\n      <td>al contratar a Facundo Rosas no le import que ...</td>\n      <td>[contratar, Facundo, Rosas, import, marcado, A...</td>\n    </tr>\n    <tr>\n      <th>28</th>\n      <td>29.0</td>\n      <td>0.9115</td>\n      <td>ayotzinapa, seis, trasladados, delegacin, deti...</td>\n      <td>[Toman, estudiantes, Ayotzinapa, autobs, ;, re...</td>\n      <td>Toman,estudiantes,Ayotzinapa,autobs,;,recupera...</td>\n      <td>https://twitter.com/CctiColectivo/status/49668...</td>\n      <td>2014-08-05 16:11:36+00:00</td>\n      <td>Toman estudiantes de Ayotzinapa un autobús; lo...</td>\n      <td>Toman estudiantes de Ayotzinapa un autobús; lo...</td>\n      <td>4.966900e+17</td>\n      <td>...</td>\n      <td>NaN</td>\n      <td>NaN</td>\n      <td>NaN</td>\n      <td>NaN</td>\n      <td>NaN</td>\n      <td>NaN</td>\n      <td>NaN</td>\n      <td>NaN</td>\n      <td>Toman estudiantes de Ayotzinapa un autobs; lo ...</td>\n      <td>[Toman, estudiantes, Ayotzinapa, autobs, ;, re...</td>\n    </tr>\n    <tr>\n      <th>29</th>\n      <td>30.0</td>\n      <td>0.9115</td>\n      <td>ayotzinapa, guerrero, conmemoran, natalicio, p...</td>\n      <td>[CRAC, ,, APPG, Ayotzinapa, conmemoran, aniver...</td>\n      <td>CRAC,,,APPG,Ayotzinapa,conmemoran,aniversario,...</td>\n      <td>https://twitter.com/adnguerrero1/status/498904...</td>\n      <td>2014-08-11 18:52:23+00:00</td>\n      <td>CRAC, APPG y Ayotzinapa conmemoran el 232 aniv...</td>\n      <td>CRAC, APPG y Ayotzinapa conmemoran el 232 aniv...</td>\n      <td>4.990000e+17</td>\n      <td>...</td>\n      <td>NaN</td>\n      <td>NaN</td>\n      <td>NaN</td>\n      <td>NaN</td>\n      <td>NaN</td>\n      <td>NaN</td>\n      <td>NaN</td>\n      <td>NaN</td>\n      <td>CRAC, APPG y Ayotzinapa conmemoran el aniversa...</td>\n      <td>[CRAC, ,, APPG, Ayotzinapa, conmemoran, aniver...</td>\n    </tr>\n  </tbody>\n</table>\n<p>30 rows × 62 columns</p>\n</div>"
     },
     "metadata": {},
     "execution_count": 39
    }
   ],
   "source": [
    "merged.head(30)"
   ]
  },
  {
   "cell_type": "code",
   "execution_count": 40,
   "metadata": {},
   "outputs": [
    {
     "output_type": "execute_result",
     "data": {
      "text/plain": [
       "(36, 62)"
      ]
     },
     "metadata": {},
     "execution_count": 40
    }
   ],
   "source": [
    "merged.shape"
   ]
  },
  {
   "cell_type": "code",
   "execution_count": 41,
   "metadata": {},
   "outputs": [],
   "source": [
    "merged.drop_duplicates('Keywords', keep='first', inplace=True)  # Gets rid of ducplicates"
   ]
  },
  {
   "cell_type": "code",
   "execution_count": 42,
   "metadata": {},
   "outputs": [
    {
     "output_type": "execute_result",
     "data": {
      "text/plain": [
       "(31, 62)"
      ]
     },
     "metadata": {},
     "execution_count": 42
    }
   ],
   "source": [
    "merged.shape"
   ]
  },
  {
   "cell_type": "code",
   "execution_count": 43,
   "metadata": {},
   "outputs": [],
   "source": [
    "merged = merged.loc[:, ~merged.columns.str.contains('^Unnamed')]  ## Gets rid of Unnamed columns"
   ]
  },
  {
   "cell_type": "code",
   "execution_count": 44,
   "metadata": {},
   "outputs": [
    {
     "output_type": "execute_result",
     "data": {
      "text/plain": [
       "   Topic_Num  Topic_Perc_Contrib                                           Keywords                                             Text_x                                         liststring                                                url                       date                                            content                                    renderedContent            id  ... lang                                             source                           sourceUrl         sourceLabel                                              media  retweetedTweet  quotedTweet                                     mentionedUsers                                          proc_text                                             Text_y\n",
       "0        0.0              0.9115  ayotzinapa, congreso, castigue, en, ya, el, pe...  [Este, perro, rabioso, FaCANdo, ,, YA, HABA, A...  Este,perro,rabioso,FaCANdo,,,YA,HABA,ASESINADO...  https://twitter.com/zame47/status/497563506447...  2014-08-08 02:02:38+00:00  Este perro rabioso FaCANdo, YA HABÍA ASESINADO...  Este perro rabioso FaCANdo, YA HABÍA ASESINADO...  4.975640e+17  ...   es  <a href=\"http://twitter.com\" rel=\"nofollow\">Tw...                  http://twitter.com  Twitter Web Client                                                NaN             NaN          NaN                                                NaN  Este perro rabioso FaCANdo, YA HABA ASESINADO ...  [Este, perro, rabioso, FaCANdo, ,, YA, HABA, A...\n",
       "1        1.0              0.9115  ayotzinapa, autobs, turstico, social, congreso...  [Interesante, ejercido, facultad, investigacin...  Interesante,ejercido,facultad,investigacin,cas...  https://twitter.com/TavoAmezcua/status/4949991...  2014-08-01 00:12:46+00:00  Interesante que la @CNDH haya ejercido esta fa...  Interesante que la @CNDH haya ejercido esta fa...  4.949990e+17  ...   es  <a href=\"http://tapbots.com/tweetbot\" rel=\"nof...         http://tapbots.com/tweetbot    Tweetbot for iΟS                                                NaN             NaN          NaN  [{'username': 'CNDH', 'displayname': 'CNDH en ...  Interesante que la haya ejercido esta facultad...  [Interesante, ejercido, facultad, investigacin...\n",
       "2        2.0              0.9115  ayotzinapa, cndh, ahora, facundo, rosas, chalc...  [:, Facundo, Rosas, comparece, CNDH, ahora, Ch...  :,Facundo,Rosas,comparece,CNDH,ahora,Chalchihu...  https://twitter.com/lospetirrojos/status/49700...  2014-08-06 12:44:52+00:00  #Guanajuato:  Facundo Rosas comparece ante CND...  #Guanajuato:  Facundo Rosas comparece ante CND...  4.970000e+17  ...   es  <a href=\"https://dlvrit.com/\" rel=\"nofollow\">d...                 https://dlvrit.com/             dlvr.it                                                NaN             NaN          NaN                                                NaN  : Facundo Rosas comparece ante CNDH ahora por ...  [:, Facundo, Rosas, comparece, CNDH, ahora, Ch...\n",
       "3        3.0              0.9026  ayotzinapa, cndh, propia, ahora, facundo, repi...  [Reunin, egresados, escuela, Normal, Rural, ``...  Reunin,egresados,escuela,Normal,Rural,``,Ral,I...  https://twitter.com/silviaromeroDip/status/500...  2014-08-16 01:36:14+00:00  Reunión con egresados de la escuela Normal Rur...  Reunión con egresados de la escuela Normal Rur...  5.000000e+17  ...   es  <a href=\"http://twitter.com/download/iphone\" r...  http://twitter.com/download/iphone  Twitter for iPhone  [{'previewUrl': 'https://pbs.twimg.com/media/B...             NaN          NaN                                                NaN  Reunin con egresados de la escuela Normal Rura...  [Reunin, egresados, escuela, Normal, Rural, ``...\n",
       "4        5.0              0.9115  facundo, ayotzinapa, cndh, rosas, vctor, felip...  [Felipe, Caldern, ,, CNDH, ,, Facundo, Rosas, ...  Felipe,Caldern,,,CNDH,,,Facundo,Rosas,,,Ayotzi...  https://twitter.com/VladRothschuh/status/49704...  2014-08-06 15:47:17+00:00  Felipe Calderón, CNDH, Facundo Rosas, Ayotzina...  Felipe Calderón, CNDH, Facundo Rosas, Ayotzina...  4.970460e+17  ...   es  <a href=\"http://www.hootsuite.com\" rel=\"nofoll...            http://www.hootsuite.com           Hootsuite                                                NaN             NaN          NaN                                                NaN  Felipe Caldern, CNDH, Facundo Rosas, Ayotzinap...  [Felipe, Caldern, ,, CNDH, ,, Facundo, Rosas, ...\n",
       "\n",
       "[5 rows x 28 columns]"
      ],
      "text/html": "<div>\n<style scoped>\n    .dataframe tbody tr th:only-of-type {\n        vertical-align: middle;\n    }\n\n    .dataframe tbody tr th {\n        vertical-align: top;\n    }\n\n    .dataframe thead th {\n        text-align: right;\n    }\n</style>\n<table border=\"1\" class=\"dataframe\">\n  <thead>\n    <tr style=\"text-align: right;\">\n      <th></th>\n      <th>Topic_Num</th>\n      <th>Topic_Perc_Contrib</th>\n      <th>Keywords</th>\n      <th>Text_x</th>\n      <th>liststring</th>\n      <th>url</th>\n      <th>date</th>\n      <th>content</th>\n      <th>renderedContent</th>\n      <th>id</th>\n      <th>...</th>\n      <th>lang</th>\n      <th>source</th>\n      <th>sourceUrl</th>\n      <th>sourceLabel</th>\n      <th>media</th>\n      <th>retweetedTweet</th>\n      <th>quotedTweet</th>\n      <th>mentionedUsers</th>\n      <th>proc_text</th>\n      <th>Text_y</th>\n    </tr>\n  </thead>\n  <tbody>\n    <tr>\n      <th>0</th>\n      <td>0.0</td>\n      <td>0.9115</td>\n      <td>ayotzinapa, congreso, castigue, en, ya, el, pe...</td>\n      <td>[Este, perro, rabioso, FaCANdo, ,, YA, HABA, A...</td>\n      <td>Este,perro,rabioso,FaCANdo,,,YA,HABA,ASESINADO...</td>\n      <td>https://twitter.com/zame47/status/497563506447...</td>\n      <td>2014-08-08 02:02:38+00:00</td>\n      <td>Este perro rabioso FaCANdo, YA HABÍA ASESINADO...</td>\n      <td>Este perro rabioso FaCANdo, YA HABÍA ASESINADO...</td>\n      <td>4.975640e+17</td>\n      <td>...</td>\n      <td>es</td>\n      <td>&lt;a href=\"http://twitter.com\" rel=\"nofollow\"&gt;Tw...</td>\n      <td>http://twitter.com</td>\n      <td>Twitter Web Client</td>\n      <td>NaN</td>\n      <td>NaN</td>\n      <td>NaN</td>\n      <td>NaN</td>\n      <td>Este perro rabioso FaCANdo, YA HABA ASESINADO ...</td>\n      <td>[Este, perro, rabioso, FaCANdo, ,, YA, HABA, A...</td>\n    </tr>\n    <tr>\n      <th>1</th>\n      <td>1.0</td>\n      <td>0.9115</td>\n      <td>ayotzinapa, autobs, turstico, social, congreso...</td>\n      <td>[Interesante, ejercido, facultad, investigacin...</td>\n      <td>Interesante,ejercido,facultad,investigacin,cas...</td>\n      <td>https://twitter.com/TavoAmezcua/status/4949991...</td>\n      <td>2014-08-01 00:12:46+00:00</td>\n      <td>Interesante que la @CNDH haya ejercido esta fa...</td>\n      <td>Interesante que la @CNDH haya ejercido esta fa...</td>\n      <td>4.949990e+17</td>\n      <td>...</td>\n      <td>es</td>\n      <td>&lt;a href=\"http://tapbots.com/tweetbot\" rel=\"nof...</td>\n      <td>http://tapbots.com/tweetbot</td>\n      <td>Tweetbot for iΟS</td>\n      <td>NaN</td>\n      <td>NaN</td>\n      <td>NaN</td>\n      <td>[{'username': 'CNDH', 'displayname': 'CNDH en ...</td>\n      <td>Interesante que la haya ejercido esta facultad...</td>\n      <td>[Interesante, ejercido, facultad, investigacin...</td>\n    </tr>\n    <tr>\n      <th>2</th>\n      <td>2.0</td>\n      <td>0.9115</td>\n      <td>ayotzinapa, cndh, ahora, facundo, rosas, chalc...</td>\n      <td>[:, Facundo, Rosas, comparece, CNDH, ahora, Ch...</td>\n      <td>:,Facundo,Rosas,comparece,CNDH,ahora,Chalchihu...</td>\n      <td>https://twitter.com/lospetirrojos/status/49700...</td>\n      <td>2014-08-06 12:44:52+00:00</td>\n      <td>#Guanajuato:  Facundo Rosas comparece ante CND...</td>\n      <td>#Guanajuato:  Facundo Rosas comparece ante CND...</td>\n      <td>4.970000e+17</td>\n      <td>...</td>\n      <td>es</td>\n      <td>&lt;a href=\"https://dlvrit.com/\" rel=\"nofollow\"&gt;d...</td>\n      <td>https://dlvrit.com/</td>\n      <td>dlvr.it</td>\n      <td>NaN</td>\n      <td>NaN</td>\n      <td>NaN</td>\n      <td>NaN</td>\n      <td>: Facundo Rosas comparece ante CNDH ahora por ...</td>\n      <td>[:, Facundo, Rosas, comparece, CNDH, ahora, Ch...</td>\n    </tr>\n    <tr>\n      <th>3</th>\n      <td>3.0</td>\n      <td>0.9026</td>\n      <td>ayotzinapa, cndh, propia, ahora, facundo, repi...</td>\n      <td>[Reunin, egresados, escuela, Normal, Rural, ``...</td>\n      <td>Reunin,egresados,escuela,Normal,Rural,``,Ral,I...</td>\n      <td>https://twitter.com/silviaromeroDip/status/500...</td>\n      <td>2014-08-16 01:36:14+00:00</td>\n      <td>Reunión con egresados de la escuela Normal Rur...</td>\n      <td>Reunión con egresados de la escuela Normal Rur...</td>\n      <td>5.000000e+17</td>\n      <td>...</td>\n      <td>es</td>\n      <td>&lt;a href=\"http://twitter.com/download/iphone\" r...</td>\n      <td>http://twitter.com/download/iphone</td>\n      <td>Twitter for iPhone</td>\n      <td>[{'previewUrl': 'https://pbs.twimg.com/media/B...</td>\n      <td>NaN</td>\n      <td>NaN</td>\n      <td>NaN</td>\n      <td>Reunin con egresados de la escuela Normal Rura...</td>\n      <td>[Reunin, egresados, escuela, Normal, Rural, ``...</td>\n    </tr>\n    <tr>\n      <th>4</th>\n      <td>5.0</td>\n      <td>0.9115</td>\n      <td>facundo, ayotzinapa, cndh, rosas, vctor, felip...</td>\n      <td>[Felipe, Caldern, ,, CNDH, ,, Facundo, Rosas, ...</td>\n      <td>Felipe,Caldern,,,CNDH,,,Facundo,Rosas,,,Ayotzi...</td>\n      <td>https://twitter.com/VladRothschuh/status/49704...</td>\n      <td>2014-08-06 15:47:17+00:00</td>\n      <td>Felipe Calderón, CNDH, Facundo Rosas, Ayotzina...</td>\n      <td>Felipe Calderón, CNDH, Facundo Rosas, Ayotzina...</td>\n      <td>4.970460e+17</td>\n      <td>...</td>\n      <td>es</td>\n      <td>&lt;a href=\"http://www.hootsuite.com\" rel=\"nofoll...</td>\n      <td>http://www.hootsuite.com</td>\n      <td>Hootsuite</td>\n      <td>NaN</td>\n      <td>NaN</td>\n      <td>NaN</td>\n      <td>NaN</td>\n      <td>Felipe Caldern, CNDH, Facundo Rosas, Ayotzinap...</td>\n      <td>[Felipe, Caldern, ,, CNDH, ,, Facundo, Rosas, ...</td>\n    </tr>\n  </tbody>\n</table>\n<p>5 rows × 28 columns</p>\n</div>"
     },
     "metadata": {},
     "execution_count": 44
    }
   ],
   "source": [
    "merged.head()"
   ]
  },
  {
   "cell_type": "code",
   "execution_count": 45,
   "metadata": {},
   "outputs": [
    {
     "output_type": "execute_result",
     "data": {
      "text/plain": [
       "Index(['Topic_Num', 'Topic_Perc_Contrib', 'Keywords', 'Text_x', 'liststring', 'url', 'date', 'content', 'renderedContent', 'id', 'user', 'outlinks', 'tcooutlinks', 'replyCount', 'retweetCount', 'likeCount', 'quoteCount', 'conversationId', 'lang', 'source', 'sourceUrl', 'sourceLabel', 'media', 'retweetedTweet', 'quotedTweet', 'mentionedUsers', 'proc_text', 'Text_y'], dtype='object')"
      ]
     },
     "metadata": {},
     "execution_count": 45
    }
   ],
   "source": [
    "merged.columns"
   ]
  },
  {
   "cell_type": "code",
   "execution_count": 46,
   "metadata": {},
   "outputs": [
    {
     "output_type": "execute_result",
     "data": {
      "text/plain": [
       "    Topic_Num  Topic_Perc_Contrib                                           Keywords                                             Text_x                                                url                       date                                            content                                          proc_text\n",
       "0         0.0              0.9115  ayotzinapa, congreso, castigue, en, ya, el, pe...  [Este, perro, rabioso, FaCANdo, ,, YA, HABA, A...  https://twitter.com/zame47/status/497563506447...  2014-08-08 02:02:38+00:00  Este perro rabioso FaCANdo, YA HABÍA ASESINADO...  Este perro rabioso FaCANdo, YA HABA ASESINADO ...\n",
       "1         1.0              0.9115  ayotzinapa, autobs, turstico, social, congreso...  [Interesante, ejercido, facultad, investigacin...  https://twitter.com/TavoAmezcua/status/4949991...  2014-08-01 00:12:46+00:00  Interesante que la @CNDH haya ejercido esta fa...  Interesante que la haya ejercido esta facultad...\n",
       "2         2.0              0.9115  ayotzinapa, cndh, ahora, facundo, rosas, chalc...  [:, Facundo, Rosas, comparece, CNDH, ahora, Ch...  https://twitter.com/lospetirrojos/status/49700...  2014-08-06 12:44:52+00:00  #Guanajuato:  Facundo Rosas comparece ante CND...  : Facundo Rosas comparece ante CNDH ahora por ...\n",
       "3         3.0              0.9026  ayotzinapa, cndh, propia, ahora, facundo, repi...  [Reunin, egresados, escuela, Normal, Rural, ``...  https://twitter.com/silviaromeroDip/status/500...  2014-08-16 01:36:14+00:00  Reunión con egresados de la escuela Normal Rur...  Reunin con egresados de la escuela Normal Rura...\n",
       "4         5.0              0.9115  facundo, ayotzinapa, cndh, rosas, vctor, felip...  [Felipe, Caldern, ,, CNDH, ,, Facundo, Rosas, ...  https://twitter.com/VladRothschuh/status/49704...  2014-08-06 15:47:17+00:00  Felipe Calderón, CNDH, Facundo Rosas, Ayotzina...  Felipe Caldern, CNDH, Facundo Rosas, Ayotzinap...\n",
       "5         6.0              0.9189  ayotzinapa, autobs, oro, comparece, secuestran...  [:, No, primera, vez, Facundo, Rosas, comparec...  https://twitter.com/PacoSanz9/status/497019616...  2014-08-06 14:01:25+00:00  “@SinEmbargoMX: No es la primera vez que Facun...  : No es la primera vez que Facundo Rosas compa...\n",
       "6         7.0              0.9189  robar, seis, trasladados, alumnos, delegacin, ...  [La, noche, ayer, detenidos, normalistas, ,, t...  https://twitter.com/ReporTorres/status/4966999...  2014-08-05 16:51:16+00:00  La noche de ayer fueron detenidos 6 normalista...  La noche de ayer fueron detenidos normalistas ...\n",
       "7         8.0              0.9026  ayotzinapa, duraderos, comunitarios, protestan...  [Facundo, Rosas, comparece, represin, ;, tambi...  https://twitter.com/NOTIGODINEZ/status/4970053...  2014-08-06 13:04:46+00:00  Facundo Rosas comparece ante #CNDH por represi...  Facundo Rosas comparece ante por represin en ;...\n",
       "8        10.0              0.9115  ayotzinapa, normalistas, protestan, aguirre, c...  [Denuncia, Tlachinollan, criminalizacin, CRAC,...  https://twitter.com/CctiColectivo/status/49923...  2014-08-12 16:50:33+00:00  Denuncia Tlachinollan la criminalización de la...  Denuncia Tlachinollan la criminalizacin de la ...\n",
       "9        12.0              0.9115  ayotzinapa, domingo, el, social, sbado, cndh, ...  [., El, Congreso, Social, Ayotzinapa, celebrar...  https://twitter.com/MediosLibresMX/status/5046...  2014-08-27 14:42:54+00:00  1. El Congreso Social de Ayotzinapa que se cel...  . El Congreso Social de Ayotzinapa que se cele...\n",
       "10       13.0              0.7566  turstico, secuestran, autobs, creo, egresados,...                  [Secuestran, autobs, turstico, .]  https://twitter.com/QuadratinMexico/status/496...  2014-08-05 03:53:00+00:00  #ADóndeVamosAParar Secuestran #normalistas de ...                 Secuestran de autobs turstico en .\n",
       "11       14.0              0.9189  ayotzinapa, ahora, cndh, facundo, rosas, derec...  [qu, bruto, ,, verdad, ., Y, primera, vez, ase...  https://twitter.com/moralesoyarvide/status/502...  2014-08-21 16:06:30+00:00  @esteban_is qué bruto, de verdad. Y no es la p...  qu bruto, de verdad. Y no es la primera vez qu...\n",
       "12       16.0              0.9391  ayotzinapa, puebla, rosas, facundo, normalista...  [Facundo, Rosas, titular, SSP-Puebla, cliente,...  https://twitter.com/davosv2004/status/49715455...  2014-08-06 22:57:36+00:00  Facundo Rosas titular de SSP-Puebla cliente de...  Facundo Rosas titular de SSP-Puebla cliente de...\n",
       "13       17.0              0.9251  ayotzinapa, rosas, cndh, facundo, neg, familia...  [El, brazo, armado, GoberBala, niega, uso, Bal...  https://twitter.com/torosytoritos54/status/497...  2014-08-07 15:36:22+00:00  @CentralPuebla @mundovelazquez El brazo armado...  El brazo armado del GoberBala niega el uso de ...\n",
       "14       19.0              0.9251  ayotzinapa, normalistas, cndh, gt, muerte, agu...  [Es, vergenza, citado, segunda, ocasin, CNDH, ...  https://twitter.com/el_cholulteca/status/50008...  2014-08-15 00:44:21+00:00  Es una vergüenza que sea citado por segunda oc...  Es una vergenza que sea citado por segunda oca...\n",
       "15       20.0              0.8783  ayotzinapa, congreso, guerrero, condiciones, o...  [Congreso, Ayotzinapa, ,, Guerrero, :, Condici...  https://twitter.com/RiszardRijkard/status/5047...  2014-08-27 23:03:46+00:00  Congreso de Ayotzinapa, Guerrero: ¿Condiciones...  Congreso de Ayotzinapa, Guerrero: Condiciones ...\n",
       "17       21.0              0.9026  ayotzinapa, cndh, ahora, facundo, rosas, viol,...  [Facundo, Rosas, comparece, CNDH, ahora, Chalc...  https://twitter.com/ZonaFrancaMX/status/496994...  2014-08-06 12:20:12+00:00  Facundo Rosas comparece ante CNDH ahora por Ch...  Facundo Rosas comparece ante CNDH ahora por Ch...\n",
       "18       22.0              0.9427  ayotzinapa, historia, facundo, cndh, responde,...  [El, dia, ayer, Polica, Federal, frustro, robo...  https://twitter.com/AIG5/status/50246159254266...  2014-08-21 14:25:53+00:00  El dia de ayer la Policía Federal frustro robo...  El dia de ayer la Polica Federal frustro robo ...\n",
       "19       23.0              0.9026  gober, ayotzinapa, precioso, amigos, luisgarca...  [Q, pasa, amigos, poblanos, :, D, gober, preci...  https://twitter.com/MrCanciller/status/4973735...  2014-08-07 13:27:38+00:00  @Noquenunca @AleMondras @itrujillol @RafaGober...  Q pasa con los amigos poblanos: D gober precio...\n",
       "20       24.0              0.9115  congreso, social, ayotzinapa, duraderos, acuer...  [Congreso, Ayotzinapa, ,, Guerrero, :, Condici...  https://twitter.com/Luixdb/status/504639287673...  2014-08-27 14:39:16+00:00  Congreso de Ayotzinapa, Guerrero: ¿Condiciones...  Congreso de Ayotzinapa, Guerrero: Condiciones ...\n",
       "24       25.0              0.9115  ayotzinapa, chilpancingo, normalistas, autobus...  [NORMALISTAS, DE, AYOTZINAPA, Secuestran, auto...  https://twitter.com/SolChilpancingo/status/497...  2014-08-06 14:14:26+00:00  NORMALISTAS DE AYOTZINAPA Secuestran autobuses...  NORMALISTAS DE AYOTZINAPA Secuestran autobuses...\n",
       "25       26.0              0.9189  el, ayotzinapa, crac, operativo, primera, del,...  [CRAC, ,, APPG, Y, AYOTZINAPA, CONMEMORAN, EL,...  https://twitter.com/PrensaLibre_Mex/status/498...  2014-08-11 02:48:18+00:00  CRAC, APPG Y AYOTZINAPA CONMEMORAN EL 232 ANIV...  CRAC, APPG Y AYOTZINAPA CONMEMORAN EL ANIVERSA...\n",
       "26       27.0              0.9251  ayotzinapa, rosas, facundo, responde, puebla, ...  [Facundo, Rosas, repite, propia, historia, :, ...  https://twitter.com/JoelQuinteroE/status/49705...  2014-08-06 16:39:17+00:00  Facundo Rosas repite su propia historia: ahora...  Facundo Rosas repite su propia historia: ahora...\n",
       "27       28.0              0.8609  ayotzinapa, condiciones, rosas, poltica, contr...  [contratar, Facundo, Rosas, import, marcado, A...  https://twitter.com/FernandoRuizL7/status/4974...  2014-08-07 16:42:59+00:00  @RafaGobernador al contratar a Facundo Rosas n...  al contratar a Facundo Rosas no le import que ...\n",
       "28       29.0              0.9115  ayotzinapa, seis, trasladados, delegacin, deti...  [Toman, estudiantes, Ayotzinapa, autobs, ;, re...  https://twitter.com/CctiColectivo/status/49668...  2014-08-05 16:11:36+00:00  Toman estudiantes de Ayotzinapa un autobús; lo...  Toman estudiantes de Ayotzinapa un autobs; lo ...\n",
       "29       30.0              0.9115  ayotzinapa, guerrero, conmemoran, natalicio, p...  [CRAC, ,, APPG, Ayotzinapa, conmemoran, aniver...  https://twitter.com/adnguerrero1/status/498904...  2014-08-11 18:52:23+00:00  CRAC, APPG y Ayotzinapa conmemoran el 232 aniv...  CRAC, APPG y Ayotzinapa conmemoran el aniversa...\n",
       "30       31.0              0.8783  ayotzinapa, social, congreso, duraderos, fuert...  [Mxico, :, Congreso, Social, Ayotzinapa, acuer...  https://twitter.com/Lorena_Kaos/status/5037018...  2014-08-25 00:34:18+00:00  México: Congreso Social en Ayotzinapa con acue...  Mxico: Congreso Social en Ayotzinapa con acuer...\n",
       "32       33.0              0.8783  estilo, repiti, rosas, facundo, chalchihuapan,...  [Facundo, Rosas, repiti, estilo, represor, Ayo...  https://twitter.com/VladRothschuh/status/49721...  2014-08-07 03:00:33+00:00  Facundo Rosas repitió su estilo represor de Ay...  Facundo Rosas repiti su estilo represor de Ayo...\n",
       "33       34.0              0.8609  sabado, social, domingo, congreso, prximos, ay...  [Sabado, domingo, prximos, ,, Congreso, Social...  https://twitter.com/octavianobedoya/status/504...  2014-08-26 16:35:15+00:00  Sabado y domingo próximos, Congreso Social en ...  Sabado y domingo prximos, Congreso Social en A...\n",
       "34       35.0              0.9115  ayotzinapa, cndh, chalchihuapan, rosas, humano...  [Facundo, Rosas, comparece, ,, vez, ,, CNDH, C...  https://twitter.com/SinEmbargoTR/status/496884...  2014-08-06 05:04:10+00:00  Facundo Rosas comparece, otra vez, ante CNDH p...  Facundo Rosas comparece, otra vez, ante CNDH p...\n",
       "35       36.0              0.8918  ayotzinapa, guerrero, comunitarios, caso, norm...  [estudiantes, escuela, normal, Ayotzinapa, det...  https://twitter.com/any_leninista/status/49656...  2014-08-05 07:35:26+00:00  7 estudiantes de la escuela normal de Ayotzina...  estudiantes de la escuela normal de Ayotzinapa..."
      ],
      "text/html": "<div>\n<style scoped>\n    .dataframe tbody tr th:only-of-type {\n        vertical-align: middle;\n    }\n\n    .dataframe tbody tr th {\n        vertical-align: top;\n    }\n\n    .dataframe thead th {\n        text-align: right;\n    }\n</style>\n<table border=\"1\" class=\"dataframe\">\n  <thead>\n    <tr style=\"text-align: right;\">\n      <th></th>\n      <th>Topic_Num</th>\n      <th>Topic_Perc_Contrib</th>\n      <th>Keywords</th>\n      <th>Text_x</th>\n      <th>url</th>\n      <th>date</th>\n      <th>content</th>\n      <th>proc_text</th>\n    </tr>\n  </thead>\n  <tbody>\n    <tr>\n      <th>0</th>\n      <td>0.0</td>\n      <td>0.9115</td>\n      <td>ayotzinapa, congreso, castigue, en, ya, el, pe...</td>\n      <td>[Este, perro, rabioso, FaCANdo, ,, YA, HABA, A...</td>\n      <td>https://twitter.com/zame47/status/497563506447...</td>\n      <td>2014-08-08 02:02:38+00:00</td>\n      <td>Este perro rabioso FaCANdo, YA HABÍA ASESINADO...</td>\n      <td>Este perro rabioso FaCANdo, YA HABA ASESINADO ...</td>\n    </tr>\n    <tr>\n      <th>1</th>\n      <td>1.0</td>\n      <td>0.9115</td>\n      <td>ayotzinapa, autobs, turstico, social, congreso...</td>\n      <td>[Interesante, ejercido, facultad, investigacin...</td>\n      <td>https://twitter.com/TavoAmezcua/status/4949991...</td>\n      <td>2014-08-01 00:12:46+00:00</td>\n      <td>Interesante que la @CNDH haya ejercido esta fa...</td>\n      <td>Interesante que la haya ejercido esta facultad...</td>\n    </tr>\n    <tr>\n      <th>2</th>\n      <td>2.0</td>\n      <td>0.9115</td>\n      <td>ayotzinapa, cndh, ahora, facundo, rosas, chalc...</td>\n      <td>[:, Facundo, Rosas, comparece, CNDH, ahora, Ch...</td>\n      <td>https://twitter.com/lospetirrojos/status/49700...</td>\n      <td>2014-08-06 12:44:52+00:00</td>\n      <td>#Guanajuato:  Facundo Rosas comparece ante CND...</td>\n      <td>: Facundo Rosas comparece ante CNDH ahora por ...</td>\n    </tr>\n    <tr>\n      <th>3</th>\n      <td>3.0</td>\n      <td>0.9026</td>\n      <td>ayotzinapa, cndh, propia, ahora, facundo, repi...</td>\n      <td>[Reunin, egresados, escuela, Normal, Rural, ``...</td>\n      <td>https://twitter.com/silviaromeroDip/status/500...</td>\n      <td>2014-08-16 01:36:14+00:00</td>\n      <td>Reunión con egresados de la escuela Normal Rur...</td>\n      <td>Reunin con egresados de la escuela Normal Rura...</td>\n    </tr>\n    <tr>\n      <th>4</th>\n      <td>5.0</td>\n      <td>0.9115</td>\n      <td>facundo, ayotzinapa, cndh, rosas, vctor, felip...</td>\n      <td>[Felipe, Caldern, ,, CNDH, ,, Facundo, Rosas, ...</td>\n      <td>https://twitter.com/VladRothschuh/status/49704...</td>\n      <td>2014-08-06 15:47:17+00:00</td>\n      <td>Felipe Calderón, CNDH, Facundo Rosas, Ayotzina...</td>\n      <td>Felipe Caldern, CNDH, Facundo Rosas, Ayotzinap...</td>\n    </tr>\n    <tr>\n      <th>5</th>\n      <td>6.0</td>\n      <td>0.9189</td>\n      <td>ayotzinapa, autobs, oro, comparece, secuestran...</td>\n      <td>[:, No, primera, vez, Facundo, Rosas, comparec...</td>\n      <td>https://twitter.com/PacoSanz9/status/497019616...</td>\n      <td>2014-08-06 14:01:25+00:00</td>\n      <td>“@SinEmbargoMX: No es la primera vez que Facun...</td>\n      <td>: No es la primera vez que Facundo Rosas compa...</td>\n    </tr>\n    <tr>\n      <th>6</th>\n      <td>7.0</td>\n      <td>0.9189</td>\n      <td>robar, seis, trasladados, alumnos, delegacin, ...</td>\n      <td>[La, noche, ayer, detenidos, normalistas, ,, t...</td>\n      <td>https://twitter.com/ReporTorres/status/4966999...</td>\n      <td>2014-08-05 16:51:16+00:00</td>\n      <td>La noche de ayer fueron detenidos 6 normalista...</td>\n      <td>La noche de ayer fueron detenidos normalistas ...</td>\n    </tr>\n    <tr>\n      <th>7</th>\n      <td>8.0</td>\n      <td>0.9026</td>\n      <td>ayotzinapa, duraderos, comunitarios, protestan...</td>\n      <td>[Facundo, Rosas, comparece, represin, ;, tambi...</td>\n      <td>https://twitter.com/NOTIGODINEZ/status/4970053...</td>\n      <td>2014-08-06 13:04:46+00:00</td>\n      <td>Facundo Rosas comparece ante #CNDH por represi...</td>\n      <td>Facundo Rosas comparece ante por represin en ;...</td>\n    </tr>\n    <tr>\n      <th>8</th>\n      <td>10.0</td>\n      <td>0.9115</td>\n      <td>ayotzinapa, normalistas, protestan, aguirre, c...</td>\n      <td>[Denuncia, Tlachinollan, criminalizacin, CRAC,...</td>\n      <td>https://twitter.com/CctiColectivo/status/49923...</td>\n      <td>2014-08-12 16:50:33+00:00</td>\n      <td>Denuncia Tlachinollan la criminalización de la...</td>\n      <td>Denuncia Tlachinollan la criminalizacin de la ...</td>\n    </tr>\n    <tr>\n      <th>9</th>\n      <td>12.0</td>\n      <td>0.9115</td>\n      <td>ayotzinapa, domingo, el, social, sbado, cndh, ...</td>\n      <td>[., El, Congreso, Social, Ayotzinapa, celebrar...</td>\n      <td>https://twitter.com/MediosLibresMX/status/5046...</td>\n      <td>2014-08-27 14:42:54+00:00</td>\n      <td>1. El Congreso Social de Ayotzinapa que se cel...</td>\n      <td>. El Congreso Social de Ayotzinapa que se cele...</td>\n    </tr>\n    <tr>\n      <th>10</th>\n      <td>13.0</td>\n      <td>0.7566</td>\n      <td>turstico, secuestran, autobs, creo, egresados,...</td>\n      <td>[Secuestran, autobs, turstico, .]</td>\n      <td>https://twitter.com/QuadratinMexico/status/496...</td>\n      <td>2014-08-05 03:53:00+00:00</td>\n      <td>#ADóndeVamosAParar Secuestran #normalistas de ...</td>\n      <td>Secuestran de autobs turstico en .</td>\n    </tr>\n    <tr>\n      <th>11</th>\n      <td>14.0</td>\n      <td>0.9189</td>\n      <td>ayotzinapa, ahora, cndh, facundo, rosas, derec...</td>\n      <td>[qu, bruto, ,, verdad, ., Y, primera, vez, ase...</td>\n      <td>https://twitter.com/moralesoyarvide/status/502...</td>\n      <td>2014-08-21 16:06:30+00:00</td>\n      <td>@esteban_is qué bruto, de verdad. Y no es la p...</td>\n      <td>qu bruto, de verdad. Y no es la primera vez qu...</td>\n    </tr>\n    <tr>\n      <th>12</th>\n      <td>16.0</td>\n      <td>0.9391</td>\n      <td>ayotzinapa, puebla, rosas, facundo, normalista...</td>\n      <td>[Facundo, Rosas, titular, SSP-Puebla, cliente,...</td>\n      <td>https://twitter.com/davosv2004/status/49715455...</td>\n      <td>2014-08-06 22:57:36+00:00</td>\n      <td>Facundo Rosas titular de SSP-Puebla cliente de...</td>\n      <td>Facundo Rosas titular de SSP-Puebla cliente de...</td>\n    </tr>\n    <tr>\n      <th>13</th>\n      <td>17.0</td>\n      <td>0.9251</td>\n      <td>ayotzinapa, rosas, cndh, facundo, neg, familia...</td>\n      <td>[El, brazo, armado, GoberBala, niega, uso, Bal...</td>\n      <td>https://twitter.com/torosytoritos54/status/497...</td>\n      <td>2014-08-07 15:36:22+00:00</td>\n      <td>@CentralPuebla @mundovelazquez El brazo armado...</td>\n      <td>El brazo armado del GoberBala niega el uso de ...</td>\n    </tr>\n    <tr>\n      <th>14</th>\n      <td>19.0</td>\n      <td>0.9251</td>\n      <td>ayotzinapa, normalistas, cndh, gt, muerte, agu...</td>\n      <td>[Es, vergenza, citado, segunda, ocasin, CNDH, ...</td>\n      <td>https://twitter.com/el_cholulteca/status/50008...</td>\n      <td>2014-08-15 00:44:21+00:00</td>\n      <td>Es una vergüenza que sea citado por segunda oc...</td>\n      <td>Es una vergenza que sea citado por segunda oca...</td>\n    </tr>\n    <tr>\n      <th>15</th>\n      <td>20.0</td>\n      <td>0.8783</td>\n      <td>ayotzinapa, congreso, guerrero, condiciones, o...</td>\n      <td>[Congreso, Ayotzinapa, ,, Guerrero, :, Condici...</td>\n      <td>https://twitter.com/RiszardRijkard/status/5047...</td>\n      <td>2014-08-27 23:03:46+00:00</td>\n      <td>Congreso de Ayotzinapa, Guerrero: ¿Condiciones...</td>\n      <td>Congreso de Ayotzinapa, Guerrero: Condiciones ...</td>\n    </tr>\n    <tr>\n      <th>17</th>\n      <td>21.0</td>\n      <td>0.9026</td>\n      <td>ayotzinapa, cndh, ahora, facundo, rosas, viol,...</td>\n      <td>[Facundo, Rosas, comparece, CNDH, ahora, Chalc...</td>\n      <td>https://twitter.com/ZonaFrancaMX/status/496994...</td>\n      <td>2014-08-06 12:20:12+00:00</td>\n      <td>Facundo Rosas comparece ante CNDH ahora por Ch...</td>\n      <td>Facundo Rosas comparece ante CNDH ahora por Ch...</td>\n    </tr>\n    <tr>\n      <th>18</th>\n      <td>22.0</td>\n      <td>0.9427</td>\n      <td>ayotzinapa, historia, facundo, cndh, responde,...</td>\n      <td>[El, dia, ayer, Polica, Federal, frustro, robo...</td>\n      <td>https://twitter.com/AIG5/status/50246159254266...</td>\n      <td>2014-08-21 14:25:53+00:00</td>\n      <td>El dia de ayer la Policía Federal frustro robo...</td>\n      <td>El dia de ayer la Polica Federal frustro robo ...</td>\n    </tr>\n    <tr>\n      <th>19</th>\n      <td>23.0</td>\n      <td>0.9026</td>\n      <td>gober, ayotzinapa, precioso, amigos, luisgarca...</td>\n      <td>[Q, pasa, amigos, poblanos, :, D, gober, preci...</td>\n      <td>https://twitter.com/MrCanciller/status/4973735...</td>\n      <td>2014-08-07 13:27:38+00:00</td>\n      <td>@Noquenunca @AleMondras @itrujillol @RafaGober...</td>\n      <td>Q pasa con los amigos poblanos: D gober precio...</td>\n    </tr>\n    <tr>\n      <th>20</th>\n      <td>24.0</td>\n      <td>0.9115</td>\n      <td>congreso, social, ayotzinapa, duraderos, acuer...</td>\n      <td>[Congreso, Ayotzinapa, ,, Guerrero, :, Condici...</td>\n      <td>https://twitter.com/Luixdb/status/504639287673...</td>\n      <td>2014-08-27 14:39:16+00:00</td>\n      <td>Congreso de Ayotzinapa, Guerrero: ¿Condiciones...</td>\n      <td>Congreso de Ayotzinapa, Guerrero: Condiciones ...</td>\n    </tr>\n    <tr>\n      <th>24</th>\n      <td>25.0</td>\n      <td>0.9115</td>\n      <td>ayotzinapa, chilpancingo, normalistas, autobus...</td>\n      <td>[NORMALISTAS, DE, AYOTZINAPA, Secuestran, auto...</td>\n      <td>https://twitter.com/SolChilpancingo/status/497...</td>\n      <td>2014-08-06 14:14:26+00:00</td>\n      <td>NORMALISTAS DE AYOTZINAPA Secuestran autobuses...</td>\n      <td>NORMALISTAS DE AYOTZINAPA Secuestran autobuses...</td>\n    </tr>\n    <tr>\n      <th>25</th>\n      <td>26.0</td>\n      <td>0.9189</td>\n      <td>el, ayotzinapa, crac, operativo, primera, del,...</td>\n      <td>[CRAC, ,, APPG, Y, AYOTZINAPA, CONMEMORAN, EL,...</td>\n      <td>https://twitter.com/PrensaLibre_Mex/status/498...</td>\n      <td>2014-08-11 02:48:18+00:00</td>\n      <td>CRAC, APPG Y AYOTZINAPA CONMEMORAN EL 232 ANIV...</td>\n      <td>CRAC, APPG Y AYOTZINAPA CONMEMORAN EL ANIVERSA...</td>\n    </tr>\n    <tr>\n      <th>26</th>\n      <td>27.0</td>\n      <td>0.9251</td>\n      <td>ayotzinapa, rosas, facundo, responde, puebla, ...</td>\n      <td>[Facundo, Rosas, repite, propia, historia, :, ...</td>\n      <td>https://twitter.com/JoelQuinteroE/status/49705...</td>\n      <td>2014-08-06 16:39:17+00:00</td>\n      <td>Facundo Rosas repite su propia historia: ahora...</td>\n      <td>Facundo Rosas repite su propia historia: ahora...</td>\n    </tr>\n    <tr>\n      <th>27</th>\n      <td>28.0</td>\n      <td>0.8609</td>\n      <td>ayotzinapa, condiciones, rosas, poltica, contr...</td>\n      <td>[contratar, Facundo, Rosas, import, marcado, A...</td>\n      <td>https://twitter.com/FernandoRuizL7/status/4974...</td>\n      <td>2014-08-07 16:42:59+00:00</td>\n      <td>@RafaGobernador al contratar a Facundo Rosas n...</td>\n      <td>al contratar a Facundo Rosas no le import que ...</td>\n    </tr>\n    <tr>\n      <th>28</th>\n      <td>29.0</td>\n      <td>0.9115</td>\n      <td>ayotzinapa, seis, trasladados, delegacin, deti...</td>\n      <td>[Toman, estudiantes, Ayotzinapa, autobs, ;, re...</td>\n      <td>https://twitter.com/CctiColectivo/status/49668...</td>\n      <td>2014-08-05 16:11:36+00:00</td>\n      <td>Toman estudiantes de Ayotzinapa un autobús; lo...</td>\n      <td>Toman estudiantes de Ayotzinapa un autobs; lo ...</td>\n    </tr>\n    <tr>\n      <th>29</th>\n      <td>30.0</td>\n      <td>0.9115</td>\n      <td>ayotzinapa, guerrero, conmemoran, natalicio, p...</td>\n      <td>[CRAC, ,, APPG, Ayotzinapa, conmemoran, aniver...</td>\n      <td>https://twitter.com/adnguerrero1/status/498904...</td>\n      <td>2014-08-11 18:52:23+00:00</td>\n      <td>CRAC, APPG y Ayotzinapa conmemoran el 232 aniv...</td>\n      <td>CRAC, APPG y Ayotzinapa conmemoran el aniversa...</td>\n    </tr>\n    <tr>\n      <th>30</th>\n      <td>31.0</td>\n      <td>0.8783</td>\n      <td>ayotzinapa, social, congreso, duraderos, fuert...</td>\n      <td>[Mxico, :, Congreso, Social, Ayotzinapa, acuer...</td>\n      <td>https://twitter.com/Lorena_Kaos/status/5037018...</td>\n      <td>2014-08-25 00:34:18+00:00</td>\n      <td>México: Congreso Social en Ayotzinapa con acue...</td>\n      <td>Mxico: Congreso Social en Ayotzinapa con acuer...</td>\n    </tr>\n    <tr>\n      <th>32</th>\n      <td>33.0</td>\n      <td>0.8783</td>\n      <td>estilo, repiti, rosas, facundo, chalchihuapan,...</td>\n      <td>[Facundo, Rosas, repiti, estilo, represor, Ayo...</td>\n      <td>https://twitter.com/VladRothschuh/status/49721...</td>\n      <td>2014-08-07 03:00:33+00:00</td>\n      <td>Facundo Rosas repitió su estilo represor de Ay...</td>\n      <td>Facundo Rosas repiti su estilo represor de Ayo...</td>\n    </tr>\n    <tr>\n      <th>33</th>\n      <td>34.0</td>\n      <td>0.8609</td>\n      <td>sabado, social, domingo, congreso, prximos, ay...</td>\n      <td>[Sabado, domingo, prximos, ,, Congreso, Social...</td>\n      <td>https://twitter.com/octavianobedoya/status/504...</td>\n      <td>2014-08-26 16:35:15+00:00</td>\n      <td>Sabado y domingo próximos, Congreso Social en ...</td>\n      <td>Sabado y domingo prximos, Congreso Social en A...</td>\n    </tr>\n    <tr>\n      <th>34</th>\n      <td>35.0</td>\n      <td>0.9115</td>\n      <td>ayotzinapa, cndh, chalchihuapan, rosas, humano...</td>\n      <td>[Facundo, Rosas, comparece, ,, vez, ,, CNDH, C...</td>\n      <td>https://twitter.com/SinEmbargoTR/status/496884...</td>\n      <td>2014-08-06 05:04:10+00:00</td>\n      <td>Facundo Rosas comparece, otra vez, ante CNDH p...</td>\n      <td>Facundo Rosas comparece, otra vez, ante CNDH p...</td>\n    </tr>\n    <tr>\n      <th>35</th>\n      <td>36.0</td>\n      <td>0.8918</td>\n      <td>ayotzinapa, guerrero, comunitarios, caso, norm...</td>\n      <td>[estudiantes, escuela, normal, Ayotzinapa, det...</td>\n      <td>https://twitter.com/any_leninista/status/49656...</td>\n      <td>2014-08-05 07:35:26+00:00</td>\n      <td>7 estudiantes de la escuela normal de Ayotzina...</td>\n      <td>estudiantes de la escuela normal de Ayotzinapa...</td>\n    </tr>\n  </tbody>\n</table>\n</div>"
     },
     "metadata": {},
     "execution_count": 46
    }
   ],
   "source": [
    "merged.drop(['renderedContent', 'id', 'user', 'outlinks', 'tcooutlinks', 'replyCount', 'retweetCount', 'likeCount', 'quoteCount', 'conversationId', 'lang', 'source', 'sourceUrl', 'sourceLabel', 'media', 'retweetedTweet', 'quotedTweet', 'mentionedUsers','liststring','Text_y'], axis=1)"
   ]
  },
  {
   "cell_type": "code",
   "execution_count": 48,
   "metadata": {},
   "outputs": [],
   "source": [
    "merged.to_csv('Final_Ayo_narratives_aug_2014.csv')"
   ]
  },
  {
   "cell_type": "code",
   "execution_count": null,
   "metadata": {},
   "outputs": [],
   "source": []
  }
 ],
 "metadata": {
  "colab": {
   "collapsed_sections": [],
   "name": "draft Topic Modeling.ipynb",
   "provenance": [
    {
     "file_id": "1tr3RiM3Xohsp8wTm409OkG-aYJqAnloF",
     "timestamp": 1612544611737
    }
   ]
  },
  "kernelspec": {
   "name": "python379jvsc74a57bd09dff616b446fa644f3b4017ba45fdd2784b26a5c5bc8ce8b16e8b1283deb7823",
   "display_name": "Python 3.7.9 64-bit ('base': conda)"
  },
  "language_info": {
   "codemirror_mode": {
    "name": "ipython",
    "version": 3
   },
   "file_extension": ".py",
   "mimetype": "text/x-python",
   "name": "python",
   "nbconvert_exporter": "python",
   "pygments_lexer": "ipython3",
   "version": "3.7.9"
  },
  "metadata": {
   "interpreter": {
    "hash": "dcf36d6962b3c1f73568d28d110bce83a696c9c3fa8d4c6e8725c31e5b80893f"
   }
  }
 },
 "nbformat": 4,
 "nbformat_minor": 1
}